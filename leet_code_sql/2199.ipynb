{
 "cells": [
  {
   "cell_type": "code",
   "execution_count": 1,
   "metadata": {},
   "outputs": [
    {
     "name": "stderr",
     "output_type": "stream",
     "text": [
      "/tmp/ipykernel_65462/2081191832.py:4: DeprecationWarning: \n",
      "Pyarrow will become a required dependency of pandas in the next major release of pandas (pandas 3.0),\n",
      "(to allow more performant data types, such as the Arrow string type, and better interoperability with other libraries)\n",
      "but was not found to be installed on your system.\n",
      "If this would cause problems for you,\n",
      "please provide us feedback at https://github.com/pandas-dev/pandas/issues/54466\n",
      "        \n",
      "  import pandas as pd\n"
     ]
    }
   ],
   "source": [
    "from pyspark.sql import SparkSession\n",
    "from pyspark import  SparkContext\n",
    "import os\n",
    "import pandas as pd"
   ]
  },
  {
   "cell_type": "code",
   "execution_count": 2,
   "metadata": {},
   "outputs": [
    {
     "name": "stderr",
     "output_type": "stream",
     "text": [
      "/spark/bin/load-spark-env.sh: line 68: ps: command not found\n",
      "Setting default log level to \"WARN\".\n",
      "To adjust logging level use sc.setLogLevel(newLevel). For SparkR, use setLogLevel(newLevel).\n",
      "24/03/18 04:03:55 WARN NativeCodeLoader: Unable to load native-hadoop library for your platform... using builtin-java classes where applicable\n",
      "24/03/18 04:03:57 WARN Client: Neither spark.yarn.jars nor spark.yarn.archive is set, falling back to uploading libraries under SPARK_HOME.\n"
     ]
    }
   ],
   "source": [
    "spark = SparkSession.builder.master(\"yarn\").getOrCreate()"
   ]
  },
  {
   "cell_type": "code",
   "execution_count": 21,
   "metadata": {},
   "outputs": [
    {
     "name": "stdout",
     "output_type": "stream",
     "text": [
      "Keywords table:\n",
      "   topic_id      word\n",
      "0         1  handball\n",
      "1         1  football\n",
      "2         3       WAR\n",
      "3         2   Vaccine\n",
      "\n",
      "Posts table:\n",
      "   post_id                                            content\n",
      "0        1  We call it soccer. They call it football. Hahaha.\n",
      "1        2  Americans prefer basketball while Europeans lo...\n",
      "2        3                    Stop the war and play handball.\n",
      "3        4  Warning: I planted some flowers this morning a...\n"
     ]
    }
   ],
   "source": [
    "import pandas as pd\n",
    "\n",
    "# Sample data for Keywords table\n",
    "keywords_data = {\n",
    "    'topic_id': [1, 1, 3, 2],\n",
    "    'word': ['handball', 'football', 'WAR', 'Vaccine']\n",
    "}\n",
    "\n",
    "# Sample data for Posts table\n",
    "posts_data = {\n",
    "    'post_id': [1, 2, 3, 4],\n",
    "    'content': [\n",
    "        'We call it soccer. They call it football. Hahaha.',\n",
    "        'Americans prefer basketball while Europeans love handball and football.',\n",
    "        'Stop the war and play handball.',\n",
    "        'Warning: I planted some flowers this morning and then got vaccinated.'\n",
    "    ]\n",
    "}\n",
    "\n",
    "# Create DataFrame for Keywords\n",
    "keywords_df = pd.DataFrame(keywords_data)\n",
    "\n",
    "# Create DataFrame for Posts\n",
    "posts_df = pd.DataFrame(posts_data)\n",
    "\n",
    "# Display the DataFrames\n",
    "print(\"Keywords table:\")\n",
    "print(keywords_df)\n",
    "print(\"\\nPosts table:\")\n",
    "print(posts_df)\n",
    "\n",
    "\n",
    "\n",
    "df_person = spark.createDataFrame(keywords_df)\n",
    "df_person.createOrReplaceTempView(\"Keywords\")\n",
    "\n",
    "df_person = spark.createDataFrame(posts_df)\n",
    "df_person.createOrReplaceTempView(\"Posts\")\n",
    "\n"
   ]
  },
  {
   "cell_type": "code",
   "execution_count": 22,
   "metadata": {},
   "outputs": [
    {
     "name": "stdout",
     "output_type": "stream",
     "text": [
      "+-------+-----------------------------------------------------------------------+------------------------+\n",
      "|post_id|content                                                                |instr(content, football)|\n",
      "+-------+-----------------------------------------------------------------------+------------------------+\n",
      "|1      |We call it soccer. They call it football. Hahaha.                      |33                      |\n",
      "|2      |Americans prefer basketball while Europeans love handball and football.|63                      |\n",
      "|3      |Stop the war and play handball.                                        |0                       |\n",
      "|4      |Warning: I planted some flowers this morning and then got vaccinated.  |0                       |\n",
      "+-------+-----------------------------------------------------------------------+------------------------+\n",
      "\n"
     ]
    }
   ],
   "source": [
    "spark.sql(\"select *, instr(content, 'football') from Posts\").show(truncate = False)"
   ]
  },
  {
   "cell_type": "code",
   "execution_count": 31,
   "metadata": {},
   "outputs": [],
   "source": [
    "query = \"\"\"\n",
    "    select\n",
    "        p.post_id,\n",
    "        concat_ws(',', collect_list(k.topic_id))\n",
    "    from Posts p left join Keywords k on lower(p.content) like concat('% ', lower(k.word), ' %')\n",
    "    group by p.post_id\n",
    "\"\"\""
   ]
  },
  {
   "cell_type": "code",
   "execution_count": 32,
   "metadata": {},
   "outputs": [
    {
     "name": "stdout",
     "output_type": "stream",
     "text": [
      "+-------+------------------------------------+\n",
      "|post_id|concat_ws(,, collect_list(topic_id))|\n",
      "+-------+------------------------------------+\n",
      "|      3|                                   3|\n",
      "|      4|                                    |\n",
      "|      1|                                    |\n",
      "|      2|                                   1|\n",
      "+-------+------------------------------------+\n",
      "\n"
     ]
    }
   ],
   "source": [
    "spark.sql(query).show()"
   ]
  },
  {
   "cell_type": "code",
   "execution_count": null,
   "metadata": {},
   "outputs": [],
   "source": []
  }
 ],
 "metadata": {
  "kernelspec": {
   "display_name": "venv",
   "language": "python",
   "name": "python3"
  },
  "language_info": {
   "codemirror_mode": {
    "name": "ipython",
    "version": 3
   },
   "file_extension": ".py",
   "mimetype": "text/x-python",
   "name": "python",
   "nbconvert_exporter": "python",
   "pygments_lexer": "ipython3",
   "version": "3.11.8"
  }
 },
 "nbformat": 4,
 "nbformat_minor": 2
}
