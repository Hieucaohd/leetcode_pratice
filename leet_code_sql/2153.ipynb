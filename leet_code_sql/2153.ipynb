{
 "cells": [
  {
   "cell_type": "code",
   "execution_count": 2,
   "metadata": {},
   "outputs": [],
   "source": [
    "from pyspark.sql import SparkSession\n",
    "from pyspark import  SparkContext\n",
    "import os\n",
    "import pandas as pd"
   ]
  },
  {
   "cell_type": "code",
   "execution_count": 3,
   "metadata": {},
   "outputs": [
    {
     "name": "stderr",
     "output_type": "stream",
     "text": [
      "/spark/bin/load-spark-env.sh: line 68: ps: command not found\n",
      "Setting default log level to \"WARN\".\n",
      "To adjust logging level use sc.setLogLevel(newLevel). For SparkR, use setLogLevel(newLevel).\n",
      "24/03/17 20:04:01 WARN NativeCodeLoader: Unable to load native-hadoop library for your platform... using builtin-java classes where applicable\n",
      "24/03/17 20:04:03 WARN Client: Neither spark.yarn.jars nor spark.yarn.archive is set, falling back to uploading libraries under SPARK_HOME.\n"
     ]
    }
   ],
   "source": [
    "spark = SparkSession.builder.master(\"yarn\").getOrCreate()"
   ]
  },
  {
   "cell_type": "code",
   "execution_count": 7,
   "metadata": {},
   "outputs": [
    {
     "name": "stdout",
     "output_type": "stream",
     "text": [
      "Buses table:\n",
      "   bus_id  arrival_time  capacity\n",
      "0       1             2         1\n",
      "1       2             4        10\n",
      "2       3             7         2\n",
      "\n",
      "Passengers table:\n",
      "   passenger_id  arrival_time\n",
      "0            11             1\n",
      "1            12             1\n",
      "2            13             5\n",
      "3            14             6\n",
      "4            15             7\n"
     ]
    }
   ],
   "source": [
    "\n",
    "import pandas as pd\n",
    "\n",
    "\n",
    "# Sample data for Buses table\n",
    "buses_data = {\n",
    "    'bus_id': [1, 2, 3],\n",
    "    'arrival_time': [2, 4, 7],\n",
    "    'capacity': [1, 10, 2]\n",
    "}\n",
    "\n",
    "# Sample data for Passengers table\n",
    "passengers_data = {\n",
    "    'passenger_id': [11, 12, 13, 14, 15],\n",
    "    'arrival_time': [1, 1, 5, 6, 7]\n",
    "}\n",
    "\n",
    "# # Sample data for Buses table\n",
    "# buses_data = {\n",
    "#     'bus_id': [1, 2, 3, 4, 5,                                    6],\n",
    "#     'arrival_time': [2, 3, 7, 8, 9,                               20],\n",
    "#     'capacity': [2, 1, 2, 2, 2,                                      2]\n",
    "# }\n",
    "\n",
    "# # Sample data for Passengers table\n",
    "# passengers_data = {\n",
    "#     'passenger_id': [1, 2, 3, 4, 5, 6],\n",
    "#     'arrival_time': [1, 4, 4, 11, 12, 13]\n",
    "# }\n",
    "\n",
    "# Create DataFrames\n",
    "buses_df = pd.DataFrame(buses_data)\n",
    "passengers_df = pd.DataFrame(passengers_data)\n",
    "\n",
    "# Display the DataFrames\n",
    "print(\"Buses table:\")\n",
    "print(buses_df)\n",
    "print(\"\\nPassengers table:\")\n",
    "print(passengers_df)\n",
    "\n",
    "\n",
    "df_person = spark.createDataFrame(buses_df)\n",
    "df_person.createOrReplaceTempView(\"Buses\")\n",
    "\n",
    "df_person = spark.createDataFrame(passengers_df)\n",
    "df_person.createOrReplaceTempView(\"Passengers\")"
   ]
  },
  {
   "cell_type": "code",
   "execution_count": 8,
   "metadata": {},
   "outputs": [],
   "source": [
    "query_1 = \"\"\"\n",
    "    select\n",
    "        bus_id,\n",
    "        split_id,\n",
    "        row_number() over(order by bus_id, split_id) as seat_id,\n",
    "        arrival_time,\n",
    "        capacity\n",
    "    from (\n",
    "        select\n",
    "            *,\n",
    "            explode(sequence(1, capacity)) as split_id\n",
    "        from Buses b\n",
    "    ) order by bus_id, split_id\n",
    "\"\"\""
   ]
  },
  {
   "cell_type": "code",
   "execution_count": 9,
   "metadata": {},
   "outputs": [
    {
     "name": "stderr",
     "output_type": "stream",
     "text": [
      "24/03/17 20:04:59 WARN WindowExec: No Partition Defined for Window operation! Moving all data to a single partition, this can cause serious performance degradation.\n",
      "24/03/17 20:04:59 WARN WindowExec: No Partition Defined for Window operation! Moving all data to a single partition, this can cause serious performance degradation.\n",
      "24/03/17 20:04:59 WARN WindowExec: No Partition Defined for Window operation! Moving all data to a single partition, this can cause serious performance degradation.\n",
      "24/03/17 20:05:03 WARN WindowExec: No Partition Defined for Window operation! Moving all data to a single partition, this can cause serious performance degradation.\n",
      "24/03/17 20:05:03 WARN WindowExec: No Partition Defined for Window operation! Moving all data to a single partition, this can cause serious performance degradation.\n",
      "[Stage 2:>                                                          (0 + 1) / 1]\r"
     ]
    },
    {
     "name": "stdout",
     "output_type": "stream",
     "text": [
      "+------+--------+-------+------------+--------+\n",
      "|bus_id|split_id|seat_id|arrival_time|capacity|\n",
      "+------+--------+-------+------------+--------+\n",
      "|     1|       1|      1|           2|       1|\n",
      "|     2|       1|      2|           4|      10|\n",
      "|     2|       2|      3|           4|      10|\n",
      "|     2|       3|      4|           4|      10|\n",
      "|     2|       4|      5|           4|      10|\n",
      "|     2|       5|      6|           4|      10|\n",
      "|     2|       6|      7|           4|      10|\n",
      "|     2|       7|      8|           4|      10|\n",
      "|     2|       8|      9|           4|      10|\n",
      "|     2|       9|     10|           4|      10|\n",
      "|     2|      10|     11|           4|      10|\n",
      "|     3|       1|     12|           7|       2|\n",
      "|     3|       2|     13|           7|       2|\n",
      "+------+--------+-------+------------+--------+\n",
      "\n"
     ]
    },
    {
     "name": "stderr",
     "output_type": "stream",
     "text": [
      "                                                                                \r"
     ]
    }
   ],
   "source": [
    "spark.sql(query_1).show()"
   ]
  },
  {
   "cell_type": "code",
   "execution_count": 10,
   "metadata": {},
   "outputs": [],
   "source": [
    "query_3 = f\"\"\"\n",
    "    with \n",
    "    \n",
    "    a as (\n",
    "        select\n",
    "            *\n",
    "        from (\n",
    "            select\n",
    "                b.bus_id,\n",
    "                b.split_id,\n",
    "                b.seat_id,\n",
    "                row_number() over(partition by b.bus_id, b.seat_id order by p.arrival_time, p.passenger_id asc) as order_in_split,\n",
    "                p.passenger_id\n",
    "            from (\n",
    "                {query_1}\n",
    "            ) b left join Passengers p on b.arrival_time >= p.arrival_time\n",
    "            order by b.bus_id, b.split_id, p.passenger_id\n",
    "        )\n",
    "    ),\n",
    "    \n",
    "    t as (\n",
    "        select\n",
    "            seat_id,\n",
    "            list_user_id,\n",
    "            size(list_user_id) as size_of_list_user,\n",
    "            count(*) over(partition by list_user_id) as size_of_group,\n",
    "            row_number() over(partition by list_user_id order by seat_id) as rk_in_group\n",
    "        from (\n",
    "            select\n",
    "                seat_id,\n",
    "                collect_list(order_in_split) as list_user_id\n",
    "            from a group by seat_id\n",
    "        )\n",
    "    ),\n",
    "    \n",
    "    k as (\n",
    "        select\n",
    "            size_of_list_user,\n",
    "            size_of_group,\n",
    "            least(previous_size_of_list_user, previous_size_of_group) as minus\n",
    "        from (\n",
    "            select\n",
    "                size_of_list_user,\n",
    "                size_of_group,\n",
    "                lag(size_of_list_user, 1, 0) over (order by size_of_list_user asc) as previous_size_of_list_user,\n",
    "                lag(size_of_group, 1, 0) over (order by size_of_list_user asc) as previous_size_of_group\n",
    "            from (\n",
    "                select\n",
    "                    distinct\n",
    "                    size_of_list_user,\n",
    "                    size_of_group\n",
    "                from t \n",
    "                order by size_of_list_user\n",
    "            )\n",
    "        )\n",
    "    ),\n",
    "    \n",
    "    result as (\n",
    "        select\n",
    "            seat_id,\n",
    "            list_user_id[index - 1] as user_id\n",
    "        from (\n",
    "            select\n",
    "                *,\n",
    "                row_number() over(order by seat_id) as index\n",
    "            from (\n",
    "                select \n",
    "                    t.*,\n",
    "                    (t.size_of_list_user - k.minus) as limit_in_group \n",
    "                from t left join k on t.size_of_list_user = k.size_of_list_user\n",
    "            ) where rk_in_group <= limit_in_group\n",
    "        )\n",
    "    )\n",
    "    \n",
    "\n",
    "\"\"\""
   ]
  },
  {
   "cell_type": "code",
   "execution_count": 11,
   "metadata": {},
   "outputs": [],
   "source": [
    "query_a = f\"\"\"\n",
    "    {query_3}\n",
    "    \n",
    "    select * from a\n",
    "\"\"\""
   ]
  },
  {
   "cell_type": "code",
   "execution_count": 12,
   "metadata": {},
   "outputs": [
    {
     "name": "stderr",
     "output_type": "stream",
     "text": [
      "24/03/17 20:05:05 WARN WindowExec: No Partition Defined for Window operation! Moving all data to a single partition, this can cause serious performance degradation.\n",
      "24/03/17 20:05:05 WARN WindowExec: No Partition Defined for Window operation! Moving all data to a single partition, this can cause serious performance degradation.\n",
      "24/03/17 20:05:05 WARN WindowExec: No Partition Defined for Window operation! Moving all data to a single partition, this can cause serious performance degradation.\n",
      "24/03/17 20:05:05 WARN WindowExec: No Partition Defined for Window operation! Moving all data to a single partition, this can cause serious performance degradation.\n",
      "24/03/17 20:05:05 WARN WindowExec: No Partition Defined for Window operation! Moving all data to a single partition, this can cause serious performance degradation.\n",
      "24/03/17 20:05:05 WARN WindowExec: No Partition Defined for Window operation! Moving all data to a single partition, this can cause serious performance degradation.\n"
     ]
    },
    {
     "name": "stdout",
     "output_type": "stream",
     "text": [
      "+------+--------+-------+--------------+------------+\n",
      "|bus_id|split_id|seat_id|order_in_split|passenger_id|\n",
      "+------+--------+-------+--------------+------------+\n",
      "|     1|       1|      1|             1|          11|\n",
      "|     1|       1|      1|             2|          12|\n",
      "|     2|       1|      2|             1|          11|\n",
      "|     2|       1|      2|             2|          12|\n",
      "|     2|       2|      3|             1|          11|\n",
      "|     2|       2|      3|             2|          12|\n",
      "|     2|       3|      4|             1|          11|\n",
      "|     2|       3|      4|             2|          12|\n",
      "|     2|       4|      5|             1|          11|\n",
      "|     2|       4|      5|             2|          12|\n",
      "|     2|       5|      6|             1|          11|\n",
      "|     2|       5|      6|             2|          12|\n",
      "|     2|       6|      7|             1|          11|\n",
      "|     2|       6|      7|             2|          12|\n",
      "|     2|       7|      8|             1|          11|\n",
      "|     2|       7|      8|             2|          12|\n",
      "|     2|       8|      9|             1|          11|\n",
      "|     2|       8|      9|             2|          12|\n",
      "|     2|       9|     10|             1|          11|\n",
      "|     2|       9|     10|             2|          12|\n",
      "|     2|      10|     11|             1|          11|\n",
      "|     2|      10|     11|             2|          12|\n",
      "|     3|       1|     12|             1|          11|\n",
      "|     3|       1|     12|             2|          12|\n",
      "|     3|       1|     12|             3|          13|\n",
      "|     3|       1|     12|             4|          14|\n",
      "|     3|       1|     12|             5|          15|\n",
      "|     3|       2|     13|             1|          11|\n",
      "|     3|       2|     13|             2|          12|\n",
      "|     3|       2|     13|             3|          13|\n",
      "|     3|       2|     13|             4|          14|\n",
      "|     3|       2|     13|             5|          15|\n",
      "+------+--------+-------+--------------+------------+\n",
      "\n"
     ]
    }
   ],
   "source": [
    "spark.sql(query_a).show(10000)"
   ]
  },
  {
   "cell_type": "code",
   "execution_count": 13,
   "metadata": {},
   "outputs": [],
   "source": [
    "query_t = f\"\"\"\n",
    "    {query_3}\n",
    "    \n",
    "    select * from t\n",
    "\"\"\""
   ]
  },
  {
   "cell_type": "code",
   "execution_count": 14,
   "metadata": {},
   "outputs": [
    {
     "name": "stderr",
     "output_type": "stream",
     "text": [
      "24/03/17 20:05:06 WARN WindowExec: No Partition Defined for Window operation! Moving all data to a single partition, this can cause serious performance degradation.\n",
      "24/03/17 20:05:06 WARN WindowExec: No Partition Defined for Window operation! Moving all data to a single partition, this can cause serious performance degradation.\n",
      "24/03/17 20:05:06 WARN WindowExec: No Partition Defined for Window operation! Moving all data to a single partition, this can cause serious performance degradation.\n",
      "24/03/17 20:05:06 WARN WindowExec: No Partition Defined for Window operation! Moving all data to a single partition, this can cause serious performance degradation.\n",
      "24/03/17 20:05:06 WARN WindowExec: No Partition Defined for Window operation! Moving all data to a single partition, this can cause serious performance degradation.\n",
      "24/03/17 20:05:06 WARN WindowExec: No Partition Defined for Window operation! Moving all data to a single partition, this can cause serious performance degradation.\n"
     ]
    },
    {
     "name": "stdout",
     "output_type": "stream",
     "text": [
      "+-------+---------------+-----------------+-------------+-----------+\n",
      "|seat_id|   list_user_id|size_of_list_user|size_of_group|rk_in_group|\n",
      "+-------+---------------+-----------------+-------------+-----------+\n",
      "|      1|         [1, 2]|                2|           11|          1|\n",
      "|      2|         [1, 2]|                2|           11|          2|\n",
      "|      3|         [1, 2]|                2|           11|          3|\n",
      "|      4|         [1, 2]|                2|           11|          4|\n",
      "|      5|         [1, 2]|                2|           11|          5|\n",
      "|      6|         [1, 2]|                2|           11|          6|\n",
      "|      7|         [1, 2]|                2|           11|          7|\n",
      "|      8|         [1, 2]|                2|           11|          8|\n",
      "|      9|         [1, 2]|                2|           11|          9|\n",
      "|     10|         [1, 2]|                2|           11|         10|\n",
      "|     11|         [1, 2]|                2|           11|         11|\n",
      "|     12|[1, 2, 3, 4, 5]|                5|            2|          1|\n",
      "|     13|[1, 2, 3, 4, 5]|                5|            2|          2|\n",
      "+-------+---------------+-----------------+-------------+-----------+\n",
      "\n"
     ]
    }
   ],
   "source": [
    "spark.sql(query_t).show()"
   ]
  },
  {
   "cell_type": "code",
   "execution_count": 15,
   "metadata": {},
   "outputs": [],
   "source": [
    "query_k = f\"\"\"\n",
    "    {query_3}\n",
    "    \n",
    "    select * from k\n",
    "\"\"\""
   ]
  },
  {
   "cell_type": "code",
   "execution_count": 16,
   "metadata": {},
   "outputs": [
    {
     "name": "stderr",
     "output_type": "stream",
     "text": [
      "24/03/17 20:05:07 WARN WindowExec: No Partition Defined for Window operation! Moving all data to a single partition, this can cause serious performance degradation.\n",
      "24/03/17 20:05:07 WARN WindowExec: No Partition Defined for Window operation! Moving all data to a single partition, this can cause serious performance degradation.\n",
      "24/03/17 20:05:07 WARN WindowExec: No Partition Defined for Window operation! Moving all data to a single partition, this can cause serious performance degradation.\n",
      "24/03/17 20:05:07 WARN WindowExec: No Partition Defined for Window operation! Moving all data to a single partition, this can cause serious performance degradation.\n",
      "24/03/17 20:05:07 WARN WindowExec: No Partition Defined for Window operation! Moving all data to a single partition, this can cause serious performance degradation.\n",
      "24/03/17 20:05:08 WARN WindowExec: No Partition Defined for Window operation! Moving all data to a single partition, this can cause serious performance degradation.\n",
      "24/03/17 20:05:08 WARN WindowExec: No Partition Defined for Window operation! Moving all data to a single partition, this can cause serious performance degradation.\n",
      "24/03/17 20:05:08 WARN WindowExec: No Partition Defined for Window operation! Moving all data to a single partition, this can cause serious performance degradation.\n",
      "24/03/17 20:05:08 WARN WindowExec: No Partition Defined for Window operation! Moving all data to a single partition, this can cause serious performance degradation.\n",
      "24/03/17 20:05:08 WARN WindowExec: No Partition Defined for Window operation! Moving all data to a single partition, this can cause serious performance degradation.\n",
      "24/03/17 20:05:08 WARN WindowExec: No Partition Defined for Window operation! Moving all data to a single partition, this can cause serious performance degradation.\n",
      "24/03/17 20:05:08 WARN WindowExec: No Partition Defined for Window operation! Moving all data to a single partition, this can cause serious performance degradation.\n",
      "24/03/17 20:05:08 WARN WindowExec: No Partition Defined for Window operation! Moving all data to a single partition, this can cause serious performance degradation.\n"
     ]
    },
    {
     "name": "stdout",
     "output_type": "stream",
     "text": [
      "+-----------------+-------------+-----+\n",
      "|size_of_list_user|size_of_group|minus|\n",
      "+-----------------+-------------+-----+\n",
      "|                2|           11|    0|\n",
      "|                5|            2|    2|\n",
      "+-----------------+-------------+-----+\n",
      "\n"
     ]
    }
   ],
   "source": [
    "spark.sql(query_k).show()"
   ]
  },
  {
   "cell_type": "code",
   "execution_count": 17,
   "metadata": {},
   "outputs": [],
   "source": [
    "query_result = f\"\"\"\n",
    "    {query_3}\n",
    "    \n",
    "    select * from result\n",
    "\"\"\""
   ]
  },
  {
   "cell_type": "code",
   "execution_count": 18,
   "metadata": {},
   "outputs": [
    {
     "name": "stderr",
     "output_type": "stream",
     "text": [
      "24/03/17 20:05:08 WARN WindowExec: No Partition Defined for Window operation! Moving all data to a single partition, this can cause serious performance degradation.\n",
      "24/03/17 20:05:08 WARN WindowExec: No Partition Defined for Window operation! Moving all data to a single partition, this can cause serious performance degradation.\n",
      "24/03/17 20:05:08 WARN WindowExec: No Partition Defined for Window operation! Moving all data to a single partition, this can cause serious performance degradation.\n",
      "24/03/17 20:05:08 WARN WindowExec: No Partition Defined for Window operation! Moving all data to a single partition, this can cause serious performance degradation.\n",
      "24/03/17 20:05:08 WARN WindowExec: No Partition Defined for Window operation! Moving all data to a single partition, this can cause serious performance degradation.\n",
      "24/03/17 20:05:08 WARN WindowExec: No Partition Defined for Window operation! Moving all data to a single partition, this can cause serious performance degradation.\n",
      "24/03/17 20:05:08 WARN WindowExec: No Partition Defined for Window operation! Moving all data to a single partition, this can cause serious performance degradation.\n",
      "24/03/17 20:05:08 WARN WindowExec: No Partition Defined for Window operation! Moving all data to a single partition, this can cause serious performance degradation.\n",
      "24/03/17 20:05:08 WARN WindowExec: No Partition Defined for Window operation! Moving all data to a single partition, this can cause serious performance degradation.\n",
      "24/03/17 20:05:09 WARN WindowExec: No Partition Defined for Window operation! Moving all data to a single partition, this can cause serious performance degradation.\n",
      "24/03/17 20:05:09 WARN WindowExec: No Partition Defined for Window operation! Moving all data to a single partition, this can cause serious performance degradation.\n",
      "24/03/17 20:05:09 WARN WindowExec: No Partition Defined for Window operation! Moving all data to a single partition, this can cause serious performance degradation.\n",
      "24/03/17 20:05:09 WARN WindowExec: No Partition Defined for Window operation! Moving all data to a single partition, this can cause serious performance degradation.\n",
      "24/03/17 20:05:09 WARN WindowExec: No Partition Defined for Window operation! Moving all data to a single partition, this can cause serious performance degradation.\n",
      "24/03/17 20:05:09 WARN WindowExec: No Partition Defined for Window operation! Moving all data to a single partition, this can cause serious performance degradation.\n",
      "24/03/17 20:05:09 WARN WindowExec: No Partition Defined for Window operation! Moving all data to a single partition, this can cause serious performance degradation.\n",
      "24/03/17 20:05:09 WARN WindowExec: No Partition Defined for Window operation! Moving all data to a single partition, this can cause serious performance degradation.\n",
      "24/03/17 20:05:09 WARN WindowExec: No Partition Defined for Window operation! Moving all data to a single partition, this can cause serious performance degradation.\n",
      "24/03/17 20:05:09 WARN WindowExec: No Partition Defined for Window operation! Moving all data to a single partition, this can cause serious performance degradation.\n",
      "24/03/17 20:05:09 WARN WindowExec: No Partition Defined for Window operation! Moving all data to a single partition, this can cause serious performance degradation.\n",
      "24/03/17 20:05:09 WARN WindowExec: No Partition Defined for Window operation! Moving all data to a single partition, this can cause serious performance degradation.\n",
      "24/03/17 20:05:09 WARN WindowExec: No Partition Defined for Window operation! Moving all data to a single partition, this can cause serious performance degradation.\n",
      "24/03/17 20:05:09 WARN WindowExec: No Partition Defined for Window operation! Moving all data to a single partition, this can cause serious performance degradation.\n",
      "24/03/17 20:05:09 WARN WindowExec: No Partition Defined for Window operation! Moving all data to a single partition, this can cause serious performance degradation.\n",
      "24/03/17 20:05:09 WARN WindowExec: No Partition Defined for Window operation! Moving all data to a single partition, this can cause serious performance degradation.\n",
      "24/03/17 20:05:09 WARN WindowExec: No Partition Defined for Window operation! Moving all data to a single partition, this can cause serious performance degradation.\n",
      "24/03/17 20:05:09 WARN WindowExec: No Partition Defined for Window operation! Moving all data to a single partition, this can cause serious performance degradation.\n",
      "24/03/17 20:05:09 WARN WindowExec: No Partition Defined for Window operation! Moving all data to a single partition, this can cause serious performance degradation.\n",
      "24/03/17 20:05:09 WARN WindowExec: No Partition Defined for Window operation! Moving all data to a single partition, this can cause serious performance degradation.\n",
      "24/03/17 20:05:09 WARN WindowExec: No Partition Defined for Window operation! Moving all data to a single partition, this can cause serious performance degradation.\n",
      "24/03/17 20:05:09 WARN WindowExec: No Partition Defined for Window operation! Moving all data to a single partition, this can cause serious performance degradation.\n",
      "24/03/17 20:05:09 WARN WindowExec: No Partition Defined for Window operation! Moving all data to a single partition, this can cause serious performance degradation.\n",
      "24/03/17 20:05:09 WARN WindowExec: No Partition Defined for Window operation! Moving all data to a single partition, this can cause serious performance degradation.\n",
      "24/03/17 20:05:09 WARN WindowExec: No Partition Defined for Window operation! Moving all data to a single partition, this can cause serious performance degradation.\n",
      "24/03/17 20:05:09 WARN WindowExec: No Partition Defined for Window operation! Moving all data to a single partition, this can cause serious performance degradation.\n",
      "24/03/17 20:05:09 WARN WindowExec: No Partition Defined for Window operation! Moving all data to a single partition, this can cause serious performance degradation.\n",
      "24/03/17 20:05:09 WARN WindowExec: No Partition Defined for Window operation! Moving all data to a single partition, this can cause serious performance degradation.\n",
      "24/03/17 20:05:09 WARN WindowExec: No Partition Defined for Window operation! Moving all data to a single partition, this can cause serious performance degradation.\n",
      "24/03/17 20:05:09 WARN WindowExec: No Partition Defined for Window operation! Moving all data to a single partition, this can cause serious performance degradation.\n",
      "24/03/17 20:05:09 WARN WindowExec: No Partition Defined for Window operation! Moving all data to a single partition, this can cause serious performance degradation.\n",
      "24/03/17 20:05:09 WARN WindowExec: No Partition Defined for Window operation! Moving all data to a single partition, this can cause serious performance degradation.\n"
     ]
    },
    {
     "name": "stdout",
     "output_type": "stream",
     "text": [
      "+-------+-------+\n",
      "|seat_id|user_id|\n",
      "+-------+-------+\n",
      "|      1|      1|\n",
      "|      2|      2|\n",
      "|     12|      3|\n",
      "|     13|      4|\n",
      "+-------+-------+\n",
      "\n"
     ]
    }
   ],
   "source": [
    "spark.sql(query_result).show()"
   ]
  },
  {
   "cell_type": "code",
   "execution_count": 19,
   "metadata": {},
   "outputs": [],
   "source": [
    "query_final_result = f\"\"\"\n",
    "    {query_3}\n",
    "    \n",
    "    select \n",
    "        distinct\n",
    "        a.bus_id,\n",
    "        a1.passenger_id\n",
    "    from result r left join a on r.seat_id = a.seat_id\n",
    "    left join a as a1 on r.user_id = a1.order_in_split\n",
    "\n",
    "\"\"\""
   ]
  },
  {
   "cell_type": "code",
   "execution_count": 20,
   "metadata": {},
   "outputs": [
    {
     "name": "stderr",
     "output_type": "stream",
     "text": [
      "24/03/17 20:05:10 WARN WindowExec: No Partition Defined for Window operation! Moving all data to a single partition, this can cause serious performance degradation.\n",
      "24/03/17 20:05:10 WARN WindowExec: No Partition Defined for Window operation! Moving all data to a single partition, this can cause serious performance degradation.\n",
      "24/03/17 20:05:10 WARN WindowExec: No Partition Defined for Window operation! Moving all data to a single partition, this can cause serious performance degradation.\n",
      "24/03/17 20:05:10 WARN WindowExec: No Partition Defined for Window operation! Moving all data to a single partition, this can cause serious performance degradation.\n",
      "24/03/17 20:05:10 WARN WindowExec: No Partition Defined for Window operation! Moving all data to a single partition, this can cause serious performance degradation.\n",
      "24/03/17 20:05:10 WARN WindowExec: No Partition Defined for Window operation! Moving all data to a single partition, this can cause serious performance degradation.\n",
      "24/03/17 20:05:10 WARN WindowExec: No Partition Defined for Window operation! Moving all data to a single partition, this can cause serious performance degradation.\n",
      "24/03/17 20:05:10 WARN WindowExec: No Partition Defined for Window operation! Moving all data to a single partition, this can cause serious performance degradation.\n",
      "24/03/17 20:05:10 WARN WindowExec: No Partition Defined for Window operation! Moving all data to a single partition, this can cause serious performance degradation.\n",
      "24/03/17 20:05:10 WARN WindowExec: No Partition Defined for Window operation! Moving all data to a single partition, this can cause serious performance degradation.\n",
      "24/03/17 20:05:10 WARN WindowExec: No Partition Defined for Window operation! Moving all data to a single partition, this can cause serious performance degradation.\n",
      "24/03/17 20:05:10 WARN WindowExec: No Partition Defined for Window operation! Moving all data to a single partition, this can cause serious performance degradation.\n",
      "24/03/17 20:05:10 WARN WindowExec: No Partition Defined for Window operation! Moving all data to a single partition, this can cause serious performance degradation.\n",
      "24/03/17 20:05:10 WARN WindowExec: No Partition Defined for Window operation! Moving all data to a single partition, this can cause serious performance degradation.\n",
      "24/03/17 20:05:10 WARN WindowExec: No Partition Defined for Window operation! Moving all data to a single partition, this can cause serious performance degradation.\n",
      "24/03/17 20:05:10 WARN WindowExec: No Partition Defined for Window operation! Moving all data to a single partition, this can cause serious performance degradation.\n",
      "24/03/17 20:05:10 WARN WindowExec: No Partition Defined for Window operation! Moving all data to a single partition, this can cause serious performance degradation.\n",
      "24/03/17 20:05:10 WARN WindowExec: No Partition Defined for Window operation! Moving all data to a single partition, this can cause serious performance degradation.\n",
      "24/03/17 20:05:10 WARN WindowExec: No Partition Defined for Window operation! Moving all data to a single partition, this can cause serious performance degradation.\n",
      "24/03/17 20:05:10 WARN WindowExec: No Partition Defined for Window operation! Moving all data to a single partition, this can cause serious performance degradation.\n",
      "24/03/17 20:05:10 WARN WindowExec: No Partition Defined for Window operation! Moving all data to a single partition, this can cause serious performance degradation.\n",
      "24/03/17 20:05:10 WARN WindowExec: No Partition Defined for Window operation! Moving all data to a single partition, this can cause serious performance degradation.\n",
      "24/03/17 20:05:10 WARN WindowExec: No Partition Defined for Window operation! Moving all data to a single partition, this can cause serious performance degradation.\n",
      "24/03/17 20:05:10 WARN WindowExec: No Partition Defined for Window operation! Moving all data to a single partition, this can cause serious performance degradation.\n",
      "24/03/17 20:05:10 WARN WindowExec: No Partition Defined for Window operation! Moving all data to a single partition, this can cause serious performance degradation.\n",
      "24/03/17 20:05:10 WARN WindowExec: No Partition Defined for Window operation! Moving all data to a single partition, this can cause serious performance degradation.\n",
      "24/03/17 20:05:10 WARN WindowExec: No Partition Defined for Window operation! Moving all data to a single partition, this can cause serious performance degradation.\n",
      "24/03/17 20:05:10 WARN WindowExec: No Partition Defined for Window operation! Moving all data to a single partition, this can cause serious performance degradation.\n",
      "24/03/17 20:05:10 WARN WindowExec: No Partition Defined for Window operation! Moving all data to a single partition, this can cause serious performance degradation.\n",
      "24/03/17 20:05:10 WARN WindowExec: No Partition Defined for Window operation! Moving all data to a single partition, this can cause serious performance degradation.\n",
      "24/03/17 20:05:10 WARN WindowExec: No Partition Defined for Window operation! Moving all data to a single partition, this can cause serious performance degradation.\n",
      "24/03/17 20:05:10 WARN WindowExec: No Partition Defined for Window operation! Moving all data to a single partition, this can cause serious performance degradation.\n",
      "24/03/17 20:05:10 WARN WindowExec: No Partition Defined for Window operation! Moving all data to a single partition, this can cause serious performance degradation.\n",
      "24/03/17 20:05:10 WARN WindowExec: No Partition Defined for Window operation! Moving all data to a single partition, this can cause serious performance degradation.\n",
      "24/03/17 20:05:10 WARN WindowExec: No Partition Defined for Window operation! Moving all data to a single partition, this can cause serious performance degradation.\n",
      "24/03/17 20:05:10 WARN WindowExec: No Partition Defined for Window operation! Moving all data to a single partition, this can cause serious performance degradation.\n",
      "24/03/17 20:05:10 WARN WindowExec: No Partition Defined for Window operation! Moving all data to a single partition, this can cause serious performance degradation.\n",
      "24/03/17 20:05:10 WARN WindowExec: No Partition Defined for Window operation! Moving all data to a single partition, this can cause serious performance degradation.\n",
      "24/03/17 20:05:10 WARN WindowExec: No Partition Defined for Window operation! Moving all data to a single partition, this can cause serious performance degradation.\n",
      "24/03/17 20:05:10 WARN WindowExec: No Partition Defined for Window operation! Moving all data to a single partition, this can cause serious performance degradation.\n",
      "24/03/17 20:05:10 WARN WindowExec: No Partition Defined for Window operation! Moving all data to a single partition, this can cause serious performance degradation.\n",
      "24/03/17 20:05:10 WARN WindowExec: No Partition Defined for Window operation! Moving all data to a single partition, this can cause serious performance degradation.\n",
      "24/03/17 20:05:10 WARN WindowExec: No Partition Defined for Window operation! Moving all data to a single partition, this can cause serious performance degradation.\n",
      "24/03/17 20:05:10 WARN WindowExec: No Partition Defined for Window operation! Moving all data to a single partition, this can cause serious performance degradation.\n",
      "24/03/17 20:05:11 WARN WindowExec: No Partition Defined for Window operation! Moving all data to a single partition, this can cause serious performance degradation.\n",
      "24/03/17 20:05:11 WARN WindowExec: No Partition Defined for Window operation! Moving all data to a single partition, this can cause serious performance degradation.\n",
      "24/03/17 20:05:11 WARN WindowExec: No Partition Defined for Window operation! Moving all data to a single partition, this can cause serious performance degradation.\n",
      "24/03/17 20:05:11 WARN WindowExec: No Partition Defined for Window operation! Moving all data to a single partition, this can cause serious performance degradation.\n",
      "24/03/17 20:05:11 WARN WindowExec: No Partition Defined for Window operation! Moving all data to a single partition, this can cause serious performance degradation.\n",
      "24/03/17 20:05:11 WARN WindowExec: No Partition Defined for Window operation! Moving all data to a single partition, this can cause serious performance degradation.\n",
      "24/03/17 20:05:11 WARN WindowExec: No Partition Defined for Window operation! Moving all data to a single partition, this can cause serious performance degradation.\n",
      "24/03/17 20:05:11 WARN WindowExec: No Partition Defined for Window operation! Moving all data to a single partition, this can cause serious performance degradation.\n",
      "24/03/17 20:05:11 WARN WindowExec: No Partition Defined for Window operation! Moving all data to a single partition, this can cause serious performance degradation.\n",
      "24/03/17 20:05:11 WARN WindowExec: No Partition Defined for Window operation! Moving all data to a single partition, this can cause serious performance degradation.\n",
      "24/03/17 20:05:11 WARN WindowExec: No Partition Defined for Window operation! Moving all data to a single partition, this can cause serious performance degradation.\n",
      "24/03/17 20:05:11 WARN WindowExec: No Partition Defined for Window operation! Moving all data to a single partition, this can cause serious performance degradation.\n",
      "24/03/17 20:05:11 WARN WindowExec: No Partition Defined for Window operation! Moving all data to a single partition, this can cause serious performance degradation.\n",
      "24/03/17 20:05:11 WARN WindowExec: No Partition Defined for Window operation! Moving all data to a single partition, this can cause serious performance degradation.\n",
      "24/03/17 20:05:11 WARN WindowExec: No Partition Defined for Window operation! Moving all data to a single partition, this can cause serious performance degradation.\n",
      "24/03/17 20:05:11 WARN WindowExec: No Partition Defined for Window operation! Moving all data to a single partition, this can cause serious performance degradation.\n",
      "24/03/17 20:05:11 WARN WindowExec: No Partition Defined for Window operation! Moving all data to a single partition, this can cause serious performance degradation.\n",
      "24/03/17 20:05:11 WARN WindowExec: No Partition Defined for Window operation! Moving all data to a single partition, this can cause serious performance degradation.\n",
      "24/03/17 20:05:11 WARN WindowExec: No Partition Defined for Window operation! Moving all data to a single partition, this can cause serious performance degradation.\n",
      "24/03/17 20:05:11 WARN WindowExec: No Partition Defined for Window operation! Moving all data to a single partition, this can cause serious performance degradation.\n",
      "24/03/17 20:05:11 WARN WindowExec: No Partition Defined for Window operation! Moving all data to a single partition, this can cause serious performance degradation.\n",
      "24/03/17 20:05:11 WARN WindowExec: No Partition Defined for Window operation! Moving all data to a single partition, this can cause serious performance degradation.\n"
     ]
    },
    {
     "name": "stdout",
     "output_type": "stream",
     "text": [
      "+------+------------+\n",
      "|bus_id|passenger_id|\n",
      "+------+------------+\n",
      "|     1|          11|\n",
      "|     2|          12|\n",
      "|     3|          13|\n",
      "|     3|          14|\n",
      "+------+------------+\n",
      "\n"
     ]
    }
   ],
   "source": [
    "spark.sql(query_final_result).show(10000)"
   ]
  },
  {
   "cell_type": "code",
   "execution_count": null,
   "metadata": {},
   "outputs": [],
   "source": []
  }
 ],
 "metadata": {
  "kernelspec": {
   "display_name": "venv",
   "language": "python",
   "name": "python3"
  },
  "language_info": {
   "codemirror_mode": {
    "name": "ipython",
    "version": 3
   },
   "file_extension": ".py",
   "mimetype": "text/x-python",
   "name": "python",
   "nbconvert_exporter": "python",
   "pygments_lexer": "ipython3",
   "version": "3.11.8"
  }
 },
 "nbformat": 4,
 "nbformat_minor": 2
}
