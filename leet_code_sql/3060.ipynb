{
 "cells": [
  {
   "cell_type": "code",
   "execution_count": 1,
   "metadata": {},
   "outputs": [
    {
     "name": "stderr",
     "output_type": "stream",
     "text": [
      "/tmp/ipykernel_69940/2081191832.py:4: DeprecationWarning: \n",
      "Pyarrow will become a required dependency of pandas in the next major release of pandas (pandas 3.0),\n",
      "(to allow more performant data types, such as the Arrow string type, and better interoperability with other libraries)\n",
      "but was not found to be installed on your system.\n",
      "If this would cause problems for you,\n",
      "please provide us feedback at https://github.com/pandas-dev/pandas/issues/54466\n",
      "        \n",
      "  import pandas as pd\n"
     ]
    }
   ],
   "source": [
    "from pyspark.sql import SparkSession\n",
    "from pyspark import  SparkContext\n",
    "import os\n",
    "import pandas as pd"
   ]
  },
  {
   "cell_type": "code",
   "execution_count": 2,
   "metadata": {},
   "outputs": [
    {
     "name": "stderr",
     "output_type": "stream",
     "text": [
      "/spark/bin/load-spark-env.sh: line 68: ps: command not found\n",
      "Setting default log level to \"WARN\".\n",
      "To adjust logging level use sc.setLogLevel(newLevel). For SparkR, use setLogLevel(newLevel).\n",
      "24/03/21 13:42:49 WARN NativeCodeLoader: Unable to load native-hadoop library for your platform... using builtin-java classes where applicable\n",
      "24/03/21 13:42:50 WARN Client: Neither spark.yarn.jars nor spark.yarn.archive is set, falling back to uploading libraries under SPARK_HOME.\n"
     ]
    }
   ],
   "source": [
    "spark = SparkSession.builder.master(\"yarn\").getOrCreate()"
   ]
  },
  {
   "cell_type": "code",
   "execution_count": 3,
   "metadata": {},
   "outputs": [
    {
     "name": "stdout",
     "output_type": "stream",
     "text": [
      "Sessions table:\n",
      "    user_id        session_start          session_end  session_id session_type\n",
      "0       101  2023-11-01 08:00:00  2023-11-01 09:00:00           1       Viewer\n",
      "1       101  2023-11-01 10:00:00  2023-11-01 11:00:00           2     Streamer\n",
      "2       102  2023-11-01 13:00:00  2023-11-01 14:00:00           3       Viewer\n",
      "3       102  2023-11-01 15:00:00  2023-11-01 16:00:00           4       Viewer\n",
      "4       101  2023-11-02 09:00:00  2023-11-02 10:00:00           5       Viewer\n",
      "5       102  2023-11-02 12:00:00  2023-11-02 13:00:00           6     Streamer\n",
      "6       101  2023-11-02 13:00:00  2023-11-02 14:00:00           7     Streamer\n",
      "7       102  2023-11-02 16:00:00  2023-11-02 17:00:00           8       Viewer\n",
      "8       103  2023-11-01 08:00:00  2023-11-01 09:00:00           9       Viewer\n",
      "9       103  2023-11-02 20:00:00  2023-11-02 23:00:00          10       Viewer\n",
      "10      103  2023-11-03 09:00:00  2023-11-03 10:00:00          11       Viewer\n"
     ]
    }
   ],
   "source": [
    "import pandas as pd\n",
    "\n",
    "# Sample data for Sessions table\n",
    "sessions_data = {\n",
    "    'user_id': [101, 101, 102, 102, 101, 102, 101, 102, 103, 103, 103],\n",
    "    'session_start': ['2023-11-01 08:00:00', '2023-11-01 10:00:00', '2023-11-01 13:00:00', '2023-11-01 15:00:00',\n",
    "                      '2023-11-02 09:00:00', '2023-11-02 12:00:00', '2023-11-02 13:00:00', '2023-11-02 16:00:00',\n",
    "                      '2023-11-01 08:00:00', '2023-11-02 20:00:00', '2023-11-03 09:00:00'],\n",
    "    'session_end': ['2023-11-01 09:00:00', '2023-11-01 11:00:00', '2023-11-01 14:00:00', '2023-11-01 16:00:00',\n",
    "                    '2023-11-02 10:00:00', '2023-11-02 13:00:00', '2023-11-02 14:00:00', '2023-11-02 17:00:00',\n",
    "                    '2023-11-01 09:00:00', '2023-11-02 23:00:00', '2023-11-03 10:00:00'],\n",
    "    'session_id': [1, 2, 3, 4, 5, 6, 7, 8, 9, 10, 11],\n",
    "    'session_type': ['Viewer', 'Streamer', 'Viewer', 'Viewer', 'Viewer', 'Streamer', 'Streamer', 'Viewer', 'Viewer', 'Viewer', 'Viewer']\n",
    "}\n",
    "\n",
    "# Create DataFrame for Sessions\n",
    "sessions_df = pd.DataFrame(sessions_data)\n",
    "\n",
    "# Display the DataFrame\n",
    "print(\"Sessions table:\")\n",
    "print(sessions_df)\n",
    "\n",
    "\n",
    "\n",
    "df_person = spark.createDataFrame(sessions_df)\n",
    "df_person.createOrReplaceTempView(\"Sessions\")\n",
    "\n"
   ]
  },
  {
   "cell_type": "code",
   "execution_count": 6,
   "metadata": {},
   "outputs": [],
   "source": [
    "query = \"\"\"\n",
    "    select \n",
    "        *\n",
    "    from Sessions s where user_id = 101\n",
    "    order by session_start\n",
    "\"\"\""
   ]
  },
  {
   "cell_type": "code",
   "execution_count": 7,
   "metadata": {},
   "outputs": [
    {
     "name": "stdout",
     "output_type": "stream",
     "text": [
      "+-------+-------------------+-------------------+----------+------------+\n",
      "|user_id|      session_start|        session_end|session_id|session_type|\n",
      "+-------+-------------------+-------------------+----------+------------+\n",
      "|    101|2023-11-01 08:00:00|2023-11-01 09:00:00|         1|      Viewer|\n",
      "|    101|2023-11-01 10:00:00|2023-11-01 11:00:00|         2|    Streamer|\n",
      "|    101|2023-11-02 09:00:00|2023-11-02 10:00:00|         5|      Viewer|\n",
      "|    101|2023-11-02 13:00:00|2023-11-02 14:00:00|         7|    Streamer|\n",
      "+-------+-------------------+-------------------+----------+------------+\n",
      "\n"
     ]
    }
   ],
   "source": [
    "spark.sql(query).show()"
   ]
  },
  {
   "cell_type": "code",
   "execution_count": 10,
   "metadata": {},
   "outputs": [
    {
     "name": "stdout",
     "output_type": "stream",
     "text": [
      "+-------+-------------------+-------------------+----------+------------+\n",
      "|user_id|      session_start|        session_end|session_id|session_type|\n",
      "+-------+-------------------+-------------------+----------+------------+\n",
      "|    102|2023-11-01 13:00:00|2023-11-01 14:00:00|         3|      Viewer|\n",
      "|    102|2023-11-01 15:00:00|2023-11-01 16:00:00|         4|      Viewer|\n",
      "|    102|2023-11-02 12:00:00|2023-11-02 13:00:00|         6|    Streamer|\n",
      "|    102|2023-11-02 16:00:00|2023-11-02 17:00:00|         8|      Viewer|\n",
      "+-------+-------------------+-------------------+----------+------------+\n",
      "\n",
      "+-------+-------------------+-------------------+----------+------------+\n",
      "|user_id|      session_start|        session_end|session_id|session_type|\n",
      "+-------+-------------------+-------------------+----------+------------+\n",
      "|    103|2023-11-01 08:00:00|2023-11-01 09:00:00|         9|      Viewer|\n",
      "|    103|2023-11-02 20:00:00|2023-11-02 23:00:00|        10|      Viewer|\n",
      "|    103|2023-11-03 09:00:00|2023-11-03 10:00:00|        11|      Viewer|\n",
      "+-------+-------------------+-------------------+----------+------------+\n",
      "\n"
     ]
    }
   ],
   "source": [
    "spark.sql(\"\"\"\n",
    "    select \n",
    "        *\n",
    "    from Sessions s where user_id = 102\n",
    "    order by session_start\n",
    "\"\"\").show()\n",
    "\n",
    "spark.sql(\"\"\"\n",
    "    select \n",
    "        *\n",
    "    from Sessions s where user_id = 103\n",
    "    order by session_start\n",
    "\"\"\").show()"
   ]
  },
  {
   "cell_type": "code",
   "execution_count": 22,
   "metadata": {},
   "outputs": [
    {
     "name": "stderr",
     "output_type": "stream",
     "text": [
      "[Stage 36:>                                                         (0 + 1) / 1]\r"
     ]
    },
    {
     "name": "stdout",
     "output_type": "stream",
     "text": [
      "+-------+\n",
      "|user_id|\n",
      "+-------+\n",
      "|    102|\n",
      "|    103|\n",
      "+-------+\n",
      "\n"
     ]
    },
    {
     "name": "stderr",
     "output_type": "stream",
     "text": [
      "                                                                                \r"
     ]
    }
   ],
   "source": [
    "spark.sql(\"\"\"\n",
    "    select\n",
    "        distinct user_id\n",
    "    from (\n",
    "        select\n",
    "            *,\n",
    "            sum(\n",
    "                case\n",
    "                    when is_conse then 0\n",
    "                    else 1\n",
    "                end\n",
    "            ) over(partition by user_id order by session_start asc) as group_id\n",
    "        from (\n",
    "            select\n",
    "                *,\n",
    "                (is_same_session_type and is_less_than_12) as is_conse\n",
    "            from (\n",
    "                select \n",
    "                    *,\n",
    "                    ifnull(\n",
    "                        session_type = lag(session_type) over(partition by user_id order by session_start asc), \n",
    "                        False\n",
    "                    ) as is_same_session_type,\n",
    "                    ifnull(\n",
    "                        cast(to_timestamp(session_start) as long) \n",
    "                        -\n",
    "                        cast(\n",
    "                            to_timestamp(\n",
    "                                lag(session_end) over(partition by user_id order by session_start asc)\n",
    "                            ) as long\n",
    "                        ), \n",
    "                        0\n",
    "                    ) <= 12 * 60 * 60 as is_less_than_12\n",
    "                from Sessions s\n",
    "            )\n",
    "        )\n",
    "    ) group by user_id, group_id having count(*) >= 2\n",
    "    \n",
    "\n",
    "\n",
    "\"\"\").show()"
   ]
  },
  {
   "cell_type": "markdown",
   "metadata": {},
   "source": []
  },
  {
   "cell_type": "code",
   "execution_count": null,
   "metadata": {},
   "outputs": [],
   "source": []
  },
  {
   "cell_type": "code",
   "execution_count": null,
   "metadata": {},
   "outputs": [],
   "source": []
  }
 ],
 "metadata": {
  "kernelspec": {
   "display_name": "venv",
   "language": "python",
   "name": "python3"
  },
  "language_info": {
   "codemirror_mode": {
    "name": "ipython",
    "version": 3
   },
   "file_extension": ".py",
   "mimetype": "text/x-python",
   "name": "python",
   "nbconvert_exporter": "python",
   "pygments_lexer": "ipython3",
   "version": "3.11.8"
  }
 },
 "nbformat": 4,
 "nbformat_minor": 2
}
