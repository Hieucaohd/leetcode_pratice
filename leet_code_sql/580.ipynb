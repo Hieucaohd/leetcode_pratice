{
 "cells": [
  {
   "cell_type": "code",
   "execution_count": 1,
   "metadata": {},
   "outputs": [
    {
     "name": "stderr",
     "output_type": "stream",
     "text": [
      "/tmp/ipykernel_427161/2081191832.py:4: DeprecationWarning: \n",
      "Pyarrow will become a required dependency of pandas in the next major release of pandas (pandas 3.0),\n",
      "(to allow more performant data types, such as the Arrow string type, and better interoperability with other libraries)\n",
      "but was not found to be installed on your system.\n",
      "If this would cause problems for you,\n",
      "please provide us feedback at https://github.com/pandas-dev/pandas/issues/54466\n",
      "        \n",
      "  import pandas as pd\n"
     ]
    }
   ],
   "source": [
    "from pyspark.sql import SparkSession\n",
    "from pyspark import  SparkContext\n",
    "import os\n",
    "import pandas as pd"
   ]
  },
  {
   "cell_type": "code",
   "execution_count": 2,
   "metadata": {},
   "outputs": [
    {
     "name": "stderr",
     "output_type": "stream",
     "text": [
      "/spark/bin/load-spark-env.sh: line 68: ps: command not found\n",
      "Setting default log level to \"WARN\".\n",
      "To adjust logging level use sc.setLogLevel(newLevel). For SparkR, use setLogLevel(newLevel).\n",
      "24/03/12 14:53:01 WARN NativeCodeLoader: Unable to load native-hadoop library for your platform... using builtin-java classes where applicable\n",
      "24/03/12 14:53:02 WARN Client: Neither spark.yarn.jars nor spark.yarn.archive is set, falling back to uploading libraries under SPARK_HOME.\n"
     ]
    }
   ],
   "source": [
    "spark = SparkSession.builder.master(\"yarn\").getOrCreate()"
   ]
  },
  {
   "cell_type": "code",
   "execution_count": 3,
   "metadata": {},
   "outputs": [
    {
     "name": "stdout",
     "output_type": "stream",
     "text": [
      "Student table:\n",
      "   student_id student_name gender  dept_id\n",
      "0           1         Jack      M        1\n",
      "1           2         Jane      F        1\n",
      "2           3         Mark      M        2\n",
      "\n",
      "Department table:\n",
      "   dept_id    dept_name\n",
      "0        1  Engineering\n",
      "1        2      Science\n",
      "2        3          Law\n"
     ]
    }
   ],
   "source": [
    "import pandas as pd\n",
    "\n",
    "# Sample data for the Student table\n",
    "student_data = {\n",
    "    'student_id': [1, 2, 3],\n",
    "    'student_name': ['Jack', 'Jane', 'Mark'],\n",
    "    'gender': ['M', 'F', 'M'],\n",
    "    'dept_id': [1, 1, 2]\n",
    "}\n",
    "\n",
    "# Sample data for the Department table\n",
    "department_data = {\n",
    "    'dept_id': [1, 2, 3],\n",
    "    'dept_name': ['Engineering', 'Science', 'Law']\n",
    "}\n",
    "\n",
    "# Creating pandas DataFrames for Student and Department tables\n",
    "student_df = pd.DataFrame(student_data)\n",
    "department_df = pd.DataFrame(department_data)\n",
    "\n",
    "# Displaying the Student and Department DataFrames\n",
    "print(\"Student table:\")\n",
    "print(student_df)\n",
    "print(\"\\nDepartment table:\")\n",
    "print(department_df)\n",
    "\n",
    "\n",
    "\n",
    "df_person = spark.createDataFrame(student_df)\n",
    "df_person.createOrReplaceTempView(\"Student\")\n",
    "\n",
    "df_person = spark.createDataFrame(department_df)\n",
    "df_person.createOrReplaceTempView(\"Department\")\n",
    "\n"
   ]
  },
  {
   "cell_type": "code",
   "execution_count": null,
   "metadata": {},
   "outputs": [],
   "source": [
    "query = \"\"\"\n",
    "    select\n",
    "        d.dept_name,\n",
    "        ifnull(s.student_number, 0) as student_number\n",
    "    from Department d\n",
    "    left join (\n",
    "        select\n",
    "            dept_id,\n",
    "            count(*) as student_number\n",
    "        from Student s\n",
    "        group by dept_id\n",
    "    ) s on d.dept_id = s.dept_id\n",
    "\n",
    "\"\"\""
   ]
  },
  {
   "cell_type": "code",
   "execution_count": 4,
   "metadata": {},
   "outputs": [],
   "source": [
    "query = \"\"\"\n",
    "select dept_name,count(Student.student_id)\n",
    "from Department\n",
    "left join Student on Department.dept_id = Student.dept_id\n",
    "group by dept_name\n",
    "\n",
    "\"\"\""
   ]
  },
  {
   "cell_type": "code",
   "execution_count": 5,
   "metadata": {},
   "outputs": [
    {
     "name": "stderr",
     "output_type": "stream",
     "text": [
      "                                                                                \r"
     ]
    },
    {
     "name": "stdout",
     "output_type": "stream",
     "text": [
      "+-----------+-----------------+\n",
      "|  dept_name|count(student_id)|\n",
      "+-----------+-----------------+\n",
      "|    Science|                1|\n",
      "|Engineering|                2|\n",
      "|        Law|                0|\n",
      "+-----------+-----------------+\n",
      "\n"
     ]
    }
   ],
   "source": [
    "spark.sql(query).show()"
   ]
  }
 ],
 "metadata": {
  "kernelspec": {
   "display_name": "venv",
   "language": "python",
   "name": "python3"
  },
  "language_info": {
   "codemirror_mode": {
    "name": "ipython",
    "version": 3
   },
   "file_extension": ".py",
   "mimetype": "text/x-python",
   "name": "python",
   "nbconvert_exporter": "python",
   "pygments_lexer": "ipython3",
   "version": "3.11.8"
  }
 },
 "nbformat": 4,
 "nbformat_minor": 2
}
