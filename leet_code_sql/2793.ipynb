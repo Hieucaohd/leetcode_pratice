{
 "cells": [
  {
   "cell_type": "code",
   "execution_count": 1,
   "metadata": {},
   "outputs": [
    {
     "name": "stderr",
     "output_type": "stream",
     "text": [
      "/tmp/ipykernel_5084/2081191832.py:4: DeprecationWarning: \n",
      "Pyarrow will become a required dependency of pandas in the next major release of pandas (pandas 3.0),\n",
      "(to allow more performant data types, such as the Arrow string type, and better interoperability with other libraries)\n",
      "but was not found to be installed on your system.\n",
      "If this would cause problems for you,\n",
      "please provide us feedback at https://github.com/pandas-dev/pandas/issues/54466\n",
      "        \n",
      "  import pandas as pd\n"
     ]
    }
   ],
   "source": [
    "from pyspark.sql import SparkSession\n",
    "from pyspark import  SparkContext\n",
    "import os\n",
    "import pandas as pd"
   ]
  },
  {
   "cell_type": "code",
   "execution_count": 2,
   "metadata": {},
   "outputs": [
    {
     "name": "stderr",
     "output_type": "stream",
     "text": [
      "/spark/bin/load-spark-env.sh: line 68: ps: command not found\n",
      "Setting default log level to \"WARN\".\n",
      "To adjust logging level use sc.setLogLevel(newLevel). For SparkR, use setLogLevel(newLevel).\n",
      "24/03/20 13:31:08 WARN NativeCodeLoader: Unable to load native-hadoop library for your platform... using builtin-java classes where applicable\n",
      "24/03/20 13:31:10 WARN Client: Neither spark.yarn.jars nor spark.yarn.archive is set, falling back to uploading libraries under SPARK_HOME.\n"
     ]
    }
   ],
   "source": [
    "spark = SparkSession.builder.master(\"yarn\").getOrCreate()"
   ]
  },
  {
   "cell_type": "code",
   "execution_count": 3,
   "metadata": {},
   "outputs": [
    {
     "name": "stdout",
     "output_type": "stream",
     "text": [
      "Flights table:\n",
      "   flight_id  capacity\n",
      "0          1         2\n",
      "1          2         2\n",
      "2          3         1\n",
      "\n",
      "Passengers table:\n",
      "   passenger_id  flight_id        booking_time\n",
      "0           101          1 2023-07-10 16:30:00\n",
      "1           102          1 2023-07-10 17:45:00\n",
      "2           103          1 2023-07-10 12:00:00\n",
      "3           104          2 2023-07-05 13:23:00\n",
      "4           105          2 2023-07-05 09:00:00\n",
      "5           106          3 2023-07-08 11:10:00\n",
      "6           107          3 2023-07-08 09:10:00\n"
     ]
    }
   ],
   "source": [
    "import pandas as pd\n",
    "\n",
    "# Sample data for Flights table\n",
    "flights_data = {\n",
    "    'flight_id': [1, 2, 3],\n",
    "    'capacity': [2, 2, 1]\n",
    "}\n",
    "\n",
    "# Sample data for Passengers table\n",
    "passengers_data = {\n",
    "    'passenger_id': [101, 102, 103, 104, 105, 106, 107],\n",
    "    'flight_id': [1, 1, 1, 2, 2, 3, 3],\n",
    "    'booking_time': ['2023-07-10 16:30:00', '2023-07-10 17:45:00', '2023-07-10 12:00:00',\n",
    "                     '2023-07-05 13:23:00', '2023-07-05 09:00:00', '2023-07-08 11:10:00',\n",
    "                     '2023-07-08 09:10:00']\n",
    "}\n",
    "\n",
    "# Create DataFrame for Flights\n",
    "flights_df = pd.DataFrame(flights_data)\n",
    "\n",
    "# Create DataFrame for Passengers\n",
    "passengers_df = pd.DataFrame(passengers_data)\n",
    "\n",
    "# Convert booking_time to datetime type\n",
    "passengers_df['booking_time'] = pd.to_datetime(passengers_df['booking_time'])\n",
    "\n",
    "# Display the DataFrames\n",
    "print(\"Flights table:\")\n",
    "print(flights_df)\n",
    "print(\"\\nPassengers table:\")\n",
    "print(passengers_df)\n",
    "\n",
    "\n",
    "df_person = spark.createDataFrame(flights_df)\n",
    "df_person.createOrReplaceTempView(\"Flights\")\n",
    "\n",
    "df_person = spark.createDataFrame(passengers_df)\n",
    "df_person.createOrReplaceTempView(\"Passengers\")\n",
    "\n"
   ]
  },
  {
   "cell_type": "code",
   "execution_count": 12,
   "metadata": {},
   "outputs": [],
   "source": [
    "query = \"\"\"\n",
    "    select\n",
    "        p.passenger_id,\n",
    "        if(f.capacity >= row_number() over(partition by p.flight_id order by p.booking_time asc), 'Comfirmed', 'Waitlist') as Status\n",
    "    from Passengers p left join Flights f on p.flight_id = f.flight_id\n",
    "    order by p.passenger_id asc\n",
    "\"\"\""
   ]
  },
  {
   "cell_type": "code",
   "execution_count": 13,
   "metadata": {},
   "outputs": [
    {
     "name": "stdout",
     "output_type": "stream",
     "text": [
      "+------------+---------+\n",
      "|passenger_id|   Status|\n",
      "+------------+---------+\n",
      "|         101|Comfirmed|\n",
      "|         102| Waitlist|\n",
      "|         103|Comfirmed|\n",
      "|         104|Comfirmed|\n",
      "|         105|Comfirmed|\n",
      "|         106| Waitlist|\n",
      "|         107|Comfirmed|\n",
      "+------------+---------+\n",
      "\n"
     ]
    }
   ],
   "source": [
    "spark.sql(query).show()"
   ]
  }
 ],
 "metadata": {
  "kernelspec": {
   "display_name": "venv",
   "language": "python",
   "name": "python3"
  },
  "language_info": {
   "codemirror_mode": {
    "name": "ipython",
    "version": 3
   },
   "file_extension": ".py",
   "mimetype": "text/x-python",
   "name": "python",
   "nbconvert_exporter": "python",
   "pygments_lexer": "ipython3",
   "version": "3.11.8"
  }
 },
 "nbformat": 4,
 "nbformat_minor": 2
}
