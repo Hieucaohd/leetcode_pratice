{
 "cells": [
  {
   "cell_type": "code",
   "execution_count": 1,
   "metadata": {},
   "outputs": [
    {
     "name": "stderr",
     "output_type": "stream",
     "text": [
      "/tmp/ipykernel_22294/2081191832.py:4: DeprecationWarning: \n",
      "Pyarrow will become a required dependency of pandas in the next major release of pandas (pandas 3.0),\n",
      "(to allow more performant data types, such as the Arrow string type, and better interoperability with other libraries)\n",
      "but was not found to be installed on your system.\n",
      "If this would cause problems for you,\n",
      "please provide us feedback at https://github.com/pandas-dev/pandas/issues/54466\n",
      "        \n",
      "  import pandas as pd\n"
     ]
    }
   ],
   "source": [
    "from pyspark.sql import SparkSession\n",
    "from pyspark import  SparkContext\n",
    "import os\n",
    "import pandas as pd"
   ]
  },
  {
   "cell_type": "code",
   "execution_count": 2,
   "metadata": {},
   "outputs": [
    {
     "name": "stderr",
     "output_type": "stream",
     "text": [
      "/spark/bin/load-spark-env.sh: line 68: ps: command not found\n"
     ]
    },
    {
     "name": "stderr",
     "output_type": "stream",
     "text": [
      "Setting default log level to \"WARN\".\n",
      "To adjust logging level use sc.setLogLevel(newLevel). For SparkR, use setLogLevel(newLevel).\n",
      "24/03/21 03:23:35 WARN NativeCodeLoader: Unable to load native-hadoop library for your platform... using builtin-java classes where applicable\n",
      "24/03/21 03:23:36 WARN Utils: Service 'SparkUI' could not bind on port 4040. Attempting port 4041.\n",
      "24/03/21 03:23:37 WARN Client: Neither spark.yarn.jars nor spark.yarn.archive is set, falling back to uploading libraries under SPARK_HOME.\n"
     ]
    }
   ],
   "source": [
    "spark = SparkSession.builder.master(\"yarn\").getOrCreate()"
   ]
  },
  {
   "cell_type": "code",
   "execution_count": 3,
   "metadata": {},
   "outputs": [
    {
     "name": "stdout",
     "output_type": "stream",
     "text": [
      "Wineries table:\n",
      "    id    country  points           winery\n",
      "0  103  Australia      84  WhisperingPines\n",
      "1  737  Australia      85     GrapesGalore\n",
      "2  848  Australia     100      HarmonyHill\n",
      "3  222    Hungary      60   MoonlitCellars\n",
      "4  116        USA      47       RoyalVines\n",
      "5  124        USA      45      Eagle'sNest\n",
      "6  648      India      69      SunsetVines\n",
      "7  894        USA      39       RoyalVines\n",
      "8  677        USA       9     PacificCrest\n"
     ]
    }
   ],
   "source": [
    "import pandas as pd\n",
    "\n",
    "# Sample data for Wineries table\n",
    "wineries_data = {\n",
    "    'id': [103, 737, 848, 222, 116, 124, 648, 894, 677],\n",
    "    'country': ['Australia', 'Australia', 'Australia', 'Hungary', 'USA', 'USA', 'India', 'USA', 'USA'],\n",
    "    'points': [84, 85, 100, 60, 47, 45, 69, 39, 9],\n",
    "    'winery': ['WhisperingPines', 'GrapesGalore', 'HarmonyHill', 'MoonlitCellars', 'RoyalVines', 'Eagle\\'sNest', 'SunsetVines', 'RoyalVines', 'PacificCrest']\n",
    "}\n",
    "\n",
    "# Create DataFrame for Wineries\n",
    "wineries_df = pd.DataFrame(wineries_data)\n",
    "\n",
    "# Display the DataFrame\n",
    "print(\"Wineries table:\")\n",
    "print(wineries_df)\n",
    "\n",
    "\n",
    "\n",
    "df_person = spark.createDataFrame(wineries_df)\n",
    "df_person.createOrReplaceTempView(\"Wineries\")\n",
    "\n"
   ]
  },
  {
   "cell_type": "code",
   "execution_count": 10,
   "metadata": {},
   "outputs": [],
   "source": [
    "query = \"\"\"\n",
    "    with rk_points as (\n",
    "        select\n",
    "            *\n",
    "        from (\n",
    "            select\n",
    "                *,\n",
    "                row_number() over(partition by country order by points desc, winery asc) as rk\n",
    "            from (\n",
    "                select\n",
    "                    country,\n",
    "                    winery,\n",
    "                    sum(points) as points\n",
    "                from Wineries w \n",
    "                group by country, winery\n",
    "            )\n",
    "        )\n",
    "        where rk <= 3\n",
    "    ),\n",
    "    \n",
    "    r as (\n",
    "        select\n",
    "            r.country,\n",
    "            r.rk,\n",
    "            p.points,\n",
    "            p.winery,\n",
    "            case \n",
    "                when r.rk = 2 and p.points is null then 'No second winery'\n",
    "                when r.rk = 3 and p.points is null then 'No third winery'\n",
    "                else concat(p.winery, \" (\", p.points, \")\") \n",
    "            end as name\n",
    "        from (\n",
    "            select\n",
    "                distinct\n",
    "                country,\n",
    "                explode(sequence(1, 3)) as rk\n",
    "            from Wineries w \n",
    "            order by country, rk\n",
    "        ) r left join rk_points p on r.country = p.country and r.rk = p.rk\n",
    "        order by country, rk\n",
    "    )\n",
    "    \n",
    "    select * from (\n",
    "        select\n",
    "            country,\n",
    "            rk,\n",
    "            name\n",
    "        from r\n",
    "    )\n",
    "    pivot (\n",
    "        max(name) for rk in (\n",
    "            1 top_winery,\n",
    "            2 second_winery,\n",
    "            3 third_winery\n",
    "        )\n",
    "    )\n",
    "\"\"\""
   ]
  },
  {
   "cell_type": "code",
   "execution_count": 11,
   "metadata": {},
   "outputs": [
    {
     "name": "stdout",
     "output_type": "stream",
     "text": [
      "+---------+-------------------+-----------------+--------------------+\n",
      "|  country|         top_winery|    second_winery|        third_winery|\n",
      "+---------+-------------------+-----------------+--------------------+\n",
      "|Australia|  HarmonyHill (100)|GrapesGalore (85)|WhisperingPines (84)|\n",
      "|  Hungary|MoonlitCellars (60)| No second winery|     No third winery|\n",
      "|    India|   SunsetVines (69)| No second winery|     No third winery|\n",
      "|      USA|    RoyalVines (86)| Eagle'sNest (45)|    PacificCrest (9)|\n",
      "+---------+-------------------+-----------------+--------------------+\n",
      "\n"
     ]
    }
   ],
   "source": [
    "spark.sql(query).show()"
   ]
  }
 ],
 "metadata": {
  "kernelspec": {
   "display_name": "venv",
   "language": "python",
   "name": "python3"
  },
  "language_info": {
   "codemirror_mode": {
    "name": "ipython",
    "version": 3
   },
   "file_extension": ".py",
   "mimetype": "text/x-python",
   "name": "python",
   "nbconvert_exporter": "python",
   "pygments_lexer": "ipython3",
   "version": "3.11.8"
  }
 },
 "nbformat": 4,
 "nbformat_minor": 2
}
