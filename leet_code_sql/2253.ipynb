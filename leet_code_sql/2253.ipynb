{
 "cells": [
  {
   "cell_type": "code",
   "execution_count": 1,
   "metadata": {},
   "outputs": [
    {
     "name": "stderr",
     "output_type": "stream",
     "text": [
      "/tmp/ipykernel_442915/2081191832.py:4: DeprecationWarning: \n",
      "Pyarrow will become a required dependency of pandas in the next major release of pandas (pandas 3.0),\n",
      "(to allow more performant data types, such as the Arrow string type, and better interoperability with other libraries)\n",
      "but was not found to be installed on your system.\n",
      "If this would cause problems for you,\n",
      "please provide us feedback at https://github.com/pandas-dev/pandas/issues/54466\n",
      "        \n",
      "  import pandas as pd\n"
     ]
    }
   ],
   "source": [
    "from pyspark.sql import SparkSession\n",
    "from pyspark import  SparkContext\n",
    "import os\n",
    "import pandas as pd"
   ]
  },
  {
   "cell_type": "code",
   "execution_count": 2,
   "metadata": {},
   "outputs": [
    {
     "name": "stderr",
     "output_type": "stream",
     "text": [
      "/spark/bin/load-spark-env.sh: line 68: ps: command not found\n",
      "Setting default log level to \"WARN\".\n",
      "To adjust logging level use sc.setLogLevel(newLevel). For SparkR, use setLogLevel(newLevel).\n",
      "24/03/18 14:26:17 WARN NativeCodeLoader: Unable to load native-hadoop library for your platform... using builtin-java classes where applicable\n",
      "24/03/18 14:26:19 WARN Client: Neither spark.yarn.jars nor spark.yarn.archive is set, falling back to uploading libraries under SPARK_HOME.\n"
     ]
    }
   ],
   "source": [
    "spark = SparkSession.builder.master(\"yarn\").getOrCreate()"
   ]
  },
  {
   "cell_type": "code",
   "execution_count": 34,
   "metadata": {},
   "outputs": [
    {
     "name": "stdout",
     "output_type": "stream",
     "text": [
      "Products table:\n",
      "   product_id  LC_Store  Nozama    Shop    Souq\n",
      "0           1     100.0     NaN   110.0     NaN\n",
      "1           2       NaN   200.0     NaN   190.0\n",
      "2           3       NaN     NaN  1000.0  1900.0\n"
     ]
    }
   ],
   "source": [
    "import pandas as pd\n",
    "\n",
    "# Sample data for Products table\n",
    "products_data = {\n",
    "    'product_id': [1, 2, 3],\n",
    "    'LC_Store': [100, None, None],\n",
    "    'Nozama': [None, 200, None],\n",
    "    'Shop': [110, None, 1000],\n",
    "    'Souq': [None, 190, 1900]\n",
    "}\n",
    "\n",
    "# Create DataFrame for Products\n",
    "products_df = pd.DataFrame(products_data)\n",
    "\n",
    "# Display the DataFrame\n",
    "print(\"Products table:\")\n",
    "print(products_df)\n",
    "\n",
    "\n",
    "\n",
    "df_product = spark.createDataFrame(products_df)\n",
    "df_product.createOrReplaceTempView(\"Products\")\n",
    "\n"
   ]
  },
  {
   "cell_type": "code",
   "execution_count": 35,
   "metadata": {},
   "outputs": [
    {
     "data": {
      "text/plain": [
       "['LC_Store', 'Nozama', 'Shop', 'Souq']"
      ]
     },
     "execution_count": 35,
     "metadata": {},
     "output_type": "execute_result"
    }
   ],
   "source": [
    "store_names = df_product.columns\n",
    "store_names.remove(\"product_id\")\n",
    "store_names"
   ]
  },
  {
   "cell_type": "code",
   "execution_count": 36,
   "metadata": {},
   "outputs": [],
   "source": [
    "query = \"\\nunion all\\n\".join([f\"select product_id, '{store_name}' as store, {store_name} as price from Products\" for store_name in store_names])"
   ]
  },
  {
   "cell_type": "code",
   "execution_count": 37,
   "metadata": {},
   "outputs": [
    {
     "name": "stdout",
     "output_type": "stream",
     "text": [
      "select product_id, 'LC_Store' as store, LC_Store as price from Products\n",
      "union all\n",
      "select product_id, 'Nozama' as store, Nozama as price from Products\n",
      "union all\n",
      "select product_id, 'Shop' as store, Shop as price from Products\n",
      "union all\n",
      "select product_id, 'Souq' as store, Souq as price from Products\n"
     ]
    }
   ],
   "source": [
    "print(query)"
   ]
  },
  {
   "cell_type": "code",
   "execution_count": 38,
   "metadata": {},
   "outputs": [],
   "source": [
    "query_1 = f\"\"\"\n",
    "    select\n",
    "        *\n",
    "    from (\n",
    "        {query}\n",
    "    ) where price != 'NULL'\n",
    "\"\"\""
   ]
  },
  {
   "cell_type": "code",
   "execution_count": 41,
   "metadata": {},
   "outputs": [
    {
     "name": "stdout",
     "output_type": "stream",
     "text": [
      "root\n",
      " |-- product_id: long (nullable = true)\n",
      " |-- store: string (nullable = false)\n",
      " |-- price: double (nullable = true)\n",
      "\n",
      "+----------+--------+------+\n",
      "|product_id|   store| price|\n",
      "+----------+--------+------+\n",
      "|         1|LC_Store| 100.0|\n",
      "|         2|LC_Store|   NaN|\n",
      "|         3|LC_Store|   NaN|\n",
      "|         1|  Nozama|   NaN|\n",
      "|         2|  Nozama| 200.0|\n",
      "|         3|  Nozama|   NaN|\n",
      "|         1|    Shop| 110.0|\n",
      "|         2|    Shop|   NaN|\n",
      "|         3|    Shop|1000.0|\n",
      "|         1|    Souq|   NaN|\n",
      "|         2|    Souq| 190.0|\n",
      "|         3|    Souq|1900.0|\n",
      "+----------+--------+------+\n",
      "\n"
     ]
    }
   ],
   "source": [
    "spark.sql(query).printSchema()\n",
    "spark.sql(query).show()"
   ]
  },
  {
   "cell_type": "code",
   "execution_count": null,
   "metadata": {},
   "outputs": [],
   "source": []
  }
 ],
 "metadata": {
  "kernelspec": {
   "display_name": "venv",
   "language": "python",
   "name": "python3"
  },
  "language_info": {
   "codemirror_mode": {
    "name": "ipython",
    "version": 3
   },
   "file_extension": ".py",
   "mimetype": "text/x-python",
   "name": "python",
   "nbconvert_exporter": "python",
   "pygments_lexer": "ipython3",
   "version": "3.11.8"
  }
 },
 "nbformat": 4,
 "nbformat_minor": 2
}
