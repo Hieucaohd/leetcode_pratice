{
 "cells": [
  {
   "cell_type": "code",
   "execution_count": 1,
   "metadata": {},
   "outputs": [
    {
     "name": "stderr",
     "output_type": "stream",
     "text": [
      "/tmp/ipykernel_387647/2081191832.py:4: DeprecationWarning: \n",
      "Pyarrow will become a required dependency of pandas in the next major release of pandas (pandas 3.0),\n",
      "(to allow more performant data types, such as the Arrow string type, and better interoperability with other libraries)\n",
      "but was not found to be installed on your system.\n",
      "If this would cause problems for you,\n",
      "please provide us feedback at https://github.com/pandas-dev/pandas/issues/54466\n",
      "        \n",
      "  import pandas as pd\n"
     ]
    }
   ],
   "source": [
    "from pyspark.sql import SparkSession\n",
    "from pyspark import  SparkContext\n",
    "import os\n",
    "import pandas as pd"
   ]
  },
  {
   "cell_type": "code",
   "execution_count": 2,
   "metadata": {},
   "outputs": [
    {
     "name": "stderr",
     "output_type": "stream",
     "text": [
      "/spark/bin/load-spark-env.sh: line 68: ps: command not found\n",
      "Setting default log level to \"WARN\".\n",
      "To adjust logging level use sc.setLogLevel(newLevel). For SparkR, use setLogLevel(newLevel).\n",
      "24/03/12 14:09:44 WARN NativeCodeLoader: Unable to load native-hadoop library for your platform... using builtin-java classes where applicable\n",
      "24/03/12 14:09:46 WARN Client: Neither spark.yarn.jars nor spark.yarn.archive is set, falling back to uploading libraries under SPARK_HOME.\n"
     ]
    }
   ],
   "source": [
    "spark = SparkSession.builder.master(\"yarn\").getOrCreate()"
   ]
  },
  {
   "cell_type": "code",
   "execution_count": 3,
   "metadata": {},
   "outputs": [
    {
     "name": "stdout",
     "output_type": "stream",
     "text": [
      "Employee table:\n",
      "    id  month  salary\n",
      "0    1      1      20\n",
      "1    2      1      20\n",
      "2    1      2      30\n",
      "3    2      2      30\n",
      "4    3      2      40\n",
      "5    1      3      40\n",
      "6    3      3      60\n",
      "7    1      4      60\n",
      "8    3      4      70\n",
      "9    1      7      90\n",
      "10   1      8      90\n"
     ]
    }
   ],
   "source": [
    "import pandas as pd\n",
    "\n",
    "# Sample data for the Employee table\n",
    "employee_data = {\n",
    "    'id': [1, 2, 1, 2, 3, 1, 3, 1, 3, 1, 1],\n",
    "    'month': [1, 1, 2, 2, 2, 3, 3, 4, 4, 7, 8],\n",
    "    'salary': [20, 20, 30, 30, 40, 40, 60, 60, 70, 90, 90]\n",
    "}\n",
    "\n",
    "# Creating a pandas DataFrame for Employee table\n",
    "employee_df = pd.DataFrame(employee_data)\n",
    "\n",
    "# Displaying the Employee DataFrame\n",
    "print(\"Employee table:\")\n",
    "print(employee_df)\n",
    "\n",
    "\n",
    "\n",
    "df_person = spark.createDataFrame(employee_df)\n",
    "df_person.createOrReplaceTempView(\"Employee\")\n",
    "\n"
   ]
  },
  {
   "cell_type": "code",
   "execution_count": 24,
   "metadata": {},
   "outputs": [],
   "source": [
    "query = \"\"\"\n",
    "    with add_2th_month as (\n",
    "        select\n",
    "            e.id,\n",
    "            e.month,\n",
    "            e.salary,\n",
    "            ifnull(e1.salary, 0) as salary_1th,\n",
    "            ifnull(e2.salary, 0) as salary_2th,\n",
    "            e.salary + ifnull(e1.salary, 0) + ifnull(e2.salary, 0) as cumulative_salary \n",
    "        from Employee e\n",
    "        left join Employee e1 on e.id = e1.id and (e.month - 1) = e1.month\n",
    "        left join Employee e2 on e.id = e2.id and (e.month - 2) = e2.month\n",
    "        where (e.id, e.month) not in (\n",
    "            select\n",
    "                id,\n",
    "                max(month) as month\n",
    "            from Employee \n",
    "            group by id\n",
    "        )\n",
    "    )\n",
    "    \n",
    "    select * from add_2th_month order by id asc, month desc\n",
    "\"\"\""
   ]
  },
  {
   "cell_type": "code",
   "execution_count": 25,
   "metadata": {},
   "outputs": [
    {
     "name": "stdout",
     "output_type": "stream",
     "text": [
      "+---+-----+------+----------+----------+-----------------+\n",
      "| id|month|salary|salary_1th|salary_2th|cumulative_salary|\n",
      "+---+-----+------+----------+----------+-----------------+\n",
      "|  1|    7|    90|         0|         0|               90|\n",
      "|  1|    4|    60|        40|        30|              130|\n",
      "|  1|    3|    40|        30|        20|               90|\n",
      "|  1|    2|    30|        20|         0|               50|\n",
      "|  1|    1|    20|         0|         0|               20|\n",
      "|  2|    1|    20|         0|         0|               20|\n",
      "|  3|    3|    60|        40|         0|              100|\n",
      "|  3|    2|    40|         0|         0|               40|\n",
      "+---+-----+------+----------+----------+-----------------+\n",
      "\n"
     ]
    }
   ],
   "source": [
    "spark.sql(query).show()"
   ]
  }
 ],
 "metadata": {
  "kernelspec": {
   "display_name": "venv",
   "language": "python",
   "name": "python3"
  },
  "language_info": {
   "codemirror_mode": {
    "name": "ipython",
    "version": 3
   },
   "file_extension": ".py",
   "mimetype": "text/x-python",
   "name": "python",
   "nbconvert_exporter": "python",
   "pygments_lexer": "ipython3",
   "version": "3.11.8"
  }
 },
 "nbformat": 4,
 "nbformat_minor": 2
}
