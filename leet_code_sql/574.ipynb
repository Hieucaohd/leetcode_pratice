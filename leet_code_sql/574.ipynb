{
 "cells": [
  {
   "cell_type": "code",
   "execution_count": 1,
   "metadata": {},
   "outputs": [
    {
     "name": "stderr",
     "output_type": "stream",
     "text": [
      "/tmp/ipykernel_234530/2081191832.py:4: DeprecationWarning: \n",
      "Pyarrow will become a required dependency of pandas in the next major release of pandas (pandas 3.0),\n",
      "(to allow more performant data types, such as the Arrow string type, and better interoperability with other libraries)\n",
      "but was not found to be installed on your system.\n",
      "If this would cause problems for you,\n",
      "please provide us feedback at https://github.com/pandas-dev/pandas/issues/54466\n",
      "        \n",
      "  import pandas as pd\n"
     ]
    }
   ],
   "source": [
    "from pyspark.sql import SparkSession\n",
    "from pyspark import  SparkContext\n",
    "import os\n",
    "import pandas as pd"
   ]
  },
  {
   "cell_type": "code",
   "execution_count": 2,
   "metadata": {},
   "outputs": [
    {
     "name": "stderr",
     "output_type": "stream",
     "text": [
      "/spark/bin/load-spark-env.sh: line 68: ps: command not found\n",
      "Setting default log level to \"WARN\".\n",
      "To adjust logging level use sc.setLogLevel(newLevel). For SparkR, use setLogLevel(newLevel).\n",
      "24/03/12 09:56:10 WARN NativeCodeLoader: Unable to load native-hadoop library for your platform... using builtin-java classes where applicable\n",
      "24/03/12 09:56:11 WARN Client: Neither spark.yarn.jars nor spark.yarn.archive is set, falling back to uploading libraries under SPARK_HOME.\n"
     ]
    }
   ],
   "source": [
    "spark = SparkSession.builder.master(\"yarn\").getOrCreate()"
   ]
  },
  {
   "cell_type": "code",
   "execution_count": 3,
   "metadata": {},
   "outputs": [
    {
     "name": "stdout",
     "output_type": "stream",
     "text": [
      "Candidate table:\n",
      "   id name\n",
      "0   1    A\n",
      "1   2    B\n",
      "2   3    C\n",
      "3   4    D\n",
      "4   5    E\n",
      "\n",
      "Vote table:\n",
      "   id  candidateId\n",
      "0   1            2\n",
      "1   2            4\n",
      "2   3            3\n",
      "3   4            2\n",
      "4   5            5\n"
     ]
    }
   ],
   "source": [
    "import pandas as pd\n",
    "\n",
    "# Sample data for the Candidate table\n",
    "candidate_data = {\n",
    "    'id': [1, 2, 3, 4, 5],\n",
    "    'name': ['A', 'B', 'C', 'D', 'E']\n",
    "}\n",
    "\n",
    "# Creating a pandas DataFrame for Candidate table\n",
    "candidate_df = pd.DataFrame(candidate_data)\n",
    "\n",
    "# Sample data for the Vote table\n",
    "vote_data = {\n",
    "    'id': [1, 2, 3, 4, 5],\n",
    "    'candidateId': [2, 4, 3, 2, 5]\n",
    "}\n",
    "\n",
    "# Creating a pandas DataFrame for Vote table\n",
    "vote_df = pd.DataFrame(vote_data)\n",
    "\n",
    "# Displaying the Candidate DataFrame\n",
    "print(\"Candidate table:\")\n",
    "print(candidate_df)\n",
    "\n",
    "# Displaying the Vote DataFrame\n",
    "print(\"\\nVote table:\")\n",
    "print(vote_df)\n",
    "\n",
    "\n",
    "\n",
    "df_person = spark.createDataFrame(candidate_df)\n",
    "df_person.createOrReplaceTempView(\"Candidate\")\n",
    "\n",
    "df_person = spark.createDataFrame(vote_df)\n",
    "df_person.createOrReplaceTempView(\"Vote\")\n",
    "\n"
   ]
  },
  {
   "cell_type": "code",
   "execution_count": 10,
   "metadata": {},
   "outputs": [],
   "source": [
    "query = \"\"\"\n",
    "\n",
    "    select c.name from (select candidateId, vote_count from (select\n",
    "        candidateId,\n",
    "        count(*) as vote_count\n",
    "    from\n",
    "        Vote v\n",
    "    group by\n",
    "        v.candidateId) order by vote_count desc limit 1) t inner join Candidate c on t.candidateId = c.id\n",
    "\"\"\""
   ]
  },
  {
   "cell_type": "code",
   "execution_count": 11,
   "metadata": {},
   "outputs": [
    {
     "name": "stdout",
     "output_type": "stream",
     "text": [
      "+----+\n",
      "|name|\n",
      "+----+\n",
      "|   B|\n",
      "+----+\n",
      "\n"
     ]
    }
   ],
   "source": [
    "spark.sql(query).show()"
   ]
  }
 ],
 "metadata": {
  "kernelspec": {
   "display_name": "venv",
   "language": "python",
   "name": "python3"
  },
  "language_info": {
   "codemirror_mode": {
    "name": "ipython",
    "version": 3
   },
   "file_extension": ".py",
   "mimetype": "text/x-python",
   "name": "python",
   "nbconvert_exporter": "python",
   "pygments_lexer": "ipython3",
   "version": "3.11.8"
  }
 },
 "nbformat": 4,
 "nbformat_minor": 2
}
