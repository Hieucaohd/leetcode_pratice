{
 "cells": [
  {
   "cell_type": "code",
   "execution_count": 1,
   "metadata": {},
   "outputs": [
    {
     "name": "stderr",
     "output_type": "stream",
     "text": [
      "/tmp/ipykernel_815622/2081191832.py:4: DeprecationWarning: \n",
      "Pyarrow will become a required dependency of pandas in the next major release of pandas (pandas 3.0),\n",
      "(to allow more performant data types, such as the Arrow string type, and better interoperability with other libraries)\n",
      "but was not found to be installed on your system.\n",
      "If this would cause problems for you,\n",
      "please provide us feedback at https://github.com/pandas-dev/pandas/issues/54466\n",
      "        \n",
      "  import pandas as pd\n"
     ]
    }
   ],
   "source": [
    "from pyspark.sql import SparkSession\n",
    "from pyspark import  SparkContext\n",
    "import os\n",
    "import pandas as pd"
   ]
  },
  {
   "cell_type": "code",
   "execution_count": 2,
   "metadata": {},
   "outputs": [
    {
     "name": "stderr",
     "output_type": "stream",
     "text": [
      "/spark/bin/load-spark-env.sh: line 68: ps: command not found\n",
      "Setting default log level to \"WARN\".\n",
      "To adjust logging level use sc.setLogLevel(newLevel). For SparkR, use setLogLevel(newLevel).\n",
      "24/03/16 16:03:05 WARN NativeCodeLoader: Unable to load native-hadoop library for your platform... using builtin-java classes where applicable\n",
      "24/03/16 16:03:07 WARN Client: Neither spark.yarn.jars nor spark.yarn.archive is set, falling back to uploading libraries under SPARK_HOME.\n"
     ]
    }
   ],
   "source": [
    "spark = SparkSession.builder.master(\"yarn\").getOrCreate()"
   ]
  },
  {
   "cell_type": "code",
   "execution_count": 3,
   "metadata": {},
   "outputs": [
    {
     "name": "stdout",
     "output_type": "stream",
     "text": [
      "Listens table:\n",
      "    user_id  song_id         day\n",
      "0         1       10  2021-03-15\n",
      "1         1       11  2021-03-15\n",
      "2         1       12  2021-03-15\n",
      "3         2       10  2021-03-15\n",
      "4         2       11  2021-03-15\n",
      "5         2       12  2021-03-15\n",
      "6         3       10  2021-03-15\n",
      "7         3       11  2021-03-15\n",
      "8         3       12  2021-03-15\n",
      "9         4       10  2021-03-15\n",
      "10        4       11  2021-03-15\n",
      "11        4       13  2021-03-15\n",
      "12        5       10  2021-03-16\n",
      "13        5       11  2021-03-16\n",
      "14        5       12  2021-03-16\n",
      "\n",
      "Friendship table:\n",
      "   user1_id  user2_id\n",
      "0         1         2\n"
     ]
    }
   ],
   "source": [
    "import pandas as pd\n",
    "\n",
    "# Sample data for the Listens table\n",
    "listens_data = {\n",
    "    'user_id': [1, 1, 1, 2, 2, 2, 3, 3, 3, 4, 4, 4, 5, 5, 5],\n",
    "    'song_id': [10, 11, 12, 10, 11, 12, 10, 11, 12, 10, 11, 13, 10, 11, 12],\n",
    "    'day': ['2021-03-15']*12 + ['2021-03-16']*3\n",
    "}\n",
    "\n",
    "# Sample data for the Friendship table\n",
    "friendship_data = {\n",
    "    'user1_id': [1],\n",
    "    'user2_id': [2]\n",
    "}\n",
    "\n",
    "# Convert data to DataFrames\n",
    "listens_df = pd.DataFrame(listens_data)\n",
    "friendship_df = pd.DataFrame(friendship_data)\n",
    "\n",
    "# Display the DataFrames\n",
    "print(\"Listens table:\")\n",
    "print(listens_df)\n",
    "print(\"\\nFriendship table:\")\n",
    "print(friendship_df)\n",
    "\n",
    "\n",
    "\n",
    "df_person = spark.createDataFrame(listens_df)\n",
    "df_person.createOrReplaceTempView(\"Listens\")\n",
    "\n",
    "df_person = spark.createDataFrame(friendship_df)\n",
    "df_person.createOrReplaceTempView(\"Friendship\")\n",
    "\n"
   ]
  },
  {
   "cell_type": "code",
   "execution_count": 36,
   "metadata": {},
   "outputs": [],
   "source": [
    "query = \"\"\"\n",
    "    select\n",
    "        user_id,\n",
    "        same_person as recommended_id\n",
    "    from (\n",
    "        select\n",
    "            distinct \n",
    "            user_id,\n",
    "            same_person,\n",
    "            count_same\n",
    "        from (\n",
    "            select\n",
    "                *,\n",
    "                count(*) over(partition by day, user_id, same_person) as count_same\n",
    "            from (\n",
    "                select\n",
    "                    distinct\n",
    "                    l.day,\n",
    "                    l.user_id,\n",
    "                    l1.user_id as same_person,\n",
    "                    l.song_id\n",
    "                from\n",
    "                    Listens l \n",
    "                    left join Listens l1 \n",
    "                        on l.day = l1.day \n",
    "                        and l.song_id = l1.song_id \n",
    "                        and l.user_id != l1.user_id\n",
    "                order by day, user_id, same_person, song_id\n",
    "            )\n",
    "        )\n",
    "        where \n",
    "            same_person is not null \n",
    "            and count_same >= 3\n",
    "            and (least(user_id, same_person), greatest(user_id, same_person)) not in (\n",
    "                select user1_id, user2_id from Friendship\n",
    "            )\n",
    "    )\n",
    "\"\"\""
   ]
  },
  {
   "cell_type": "code",
   "execution_count": 37,
   "metadata": {},
   "outputs": [
    {
     "name": "stdout",
     "output_type": "stream",
     "text": [
      "+-------+--------------+\n",
      "|user_id|recommended_id|\n",
      "+-------+--------------+\n",
      "|      3|             2|\n",
      "|      1|             3|\n",
      "|      2|             3|\n",
      "|      3|             1|\n",
      "+-------+--------------+\n",
      "\n"
     ]
    }
   ],
   "source": [
    "spark.sql(query).show(50)"
   ]
  }
 ],
 "metadata": {
  "kernelspec": {
   "display_name": "venv",
   "language": "python",
   "name": "python3"
  },
  "language_info": {
   "codemirror_mode": {
    "name": "ipython",
    "version": 3
   },
   "file_extension": ".py",
   "mimetype": "text/x-python",
   "name": "python",
   "nbconvert_exporter": "python",
   "pygments_lexer": "ipython3",
   "version": "3.11.8"
  }
 },
 "nbformat": 4,
 "nbformat_minor": 2
}
