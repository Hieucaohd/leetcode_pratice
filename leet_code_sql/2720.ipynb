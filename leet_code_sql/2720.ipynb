{
 "cells": [
  {
   "cell_type": "code",
   "execution_count": 1,
   "metadata": {},
   "outputs": [
    {
     "name": "stderr",
     "output_type": "stream",
     "text": [
      "/tmp/ipykernel_4265/2081191832.py:4: DeprecationWarning: \n",
      "Pyarrow will become a required dependency of pandas in the next major release of pandas (pandas 3.0),\n",
      "(to allow more performant data types, such as the Arrow string type, and better interoperability with other libraries)\n",
      "but was not found to be installed on your system.\n",
      "If this would cause problems for you,\n",
      "please provide us feedback at https://github.com/pandas-dev/pandas/issues/54466\n",
      "        \n",
      "  import pandas as pd\n"
     ]
    }
   ],
   "source": [
    "from pyspark.sql import SparkSession\n",
    "from pyspark import  SparkContext\n",
    "import os\n",
    "import pandas as pd"
   ]
  },
  {
   "cell_type": "code",
   "execution_count": 2,
   "metadata": {},
   "outputs": [
    {
     "name": "stderr",
     "output_type": "stream",
     "text": [
      "/spark/bin/load-spark-env.sh: line 68: ps: command not found\n",
      "Setting default log level to \"WARN\".\n",
      "To adjust logging level use sc.setLogLevel(newLevel). For SparkR, use setLogLevel(newLevel).\n",
      "24/03/20 00:04:45 WARN NativeCodeLoader: Unable to load native-hadoop library for your platform... using builtin-java classes where applicable\n",
      "24/03/20 00:04:47 WARN Client: Neither spark.yarn.jars nor spark.yarn.archive is set, falling back to uploading libraries under SPARK_HOME.\n"
     ]
    }
   ],
   "source": [
    "spark = SparkSession.builder.master(\"yarn\").getOrCreate()"
   ]
  },
  {
   "cell_type": "code",
   "execution_count": 3,
   "metadata": {},
   "outputs": [
    {
     "name": "stdout",
     "output_type": "stream",
     "text": [
      "Friends table:\n",
      "   user1  user2\n",
      "0      2      1\n",
      "1      1      3\n",
      "2      4      1\n",
      "3      1      5\n",
      "4      1      6\n",
      "5      2      6\n",
      "6      7      2\n",
      "7      8      3\n",
      "8      3      9\n"
     ]
    }
   ],
   "source": [
    "import pandas as pd\n",
    "\n",
    "# Sample data for Friends table\n",
    "friends_data = {\n",
    "    'user1': [2, 1, 4, 1, 1, 2, 7, 8, 3],\n",
    "    'user2': [1, 3, 1, 5, 6, 6, 2, 3, 9]\n",
    "}\n",
    "\n",
    "# Create DataFrame for Friends\n",
    "friends_df = pd.DataFrame(friends_data)\n",
    "\n",
    "# Display the DataFrame\n",
    "print(\"Friends table:\")\n",
    "print(friends_df)\n",
    "\n",
    "\n",
    "\n",
    "df_person = spark.createDataFrame(friends_df)\n",
    "df_person.createOrReplaceTempView(\"Friends\")\n",
    "\n"
   ]
  },
  {
   "cell_type": "code",
   "execution_count": 19,
   "metadata": {},
   "outputs": [],
   "source": [
    "query = \"\"\"\n",
    "    with all_user as (\n",
    "        select\n",
    "            distinct user_id, friend_id\n",
    "        from (\n",
    "            select user1 user_id, user2 friend_id from Friends \n",
    "            union all\n",
    "            select user2 user_id, user1 friend_id from Friends \n",
    "        )\n",
    "    )\n",
    "    \n",
    "    select\n",
    "        distinct\n",
    "        user_id,\n",
    "        round(count(*) over(partition by user_id) / (select count(distinct user_id) from all_user) * 100, 2) as percentage_popularity \n",
    "    from all_user\n",
    "\n",
    "\"\"\""
   ]
  },
  {
   "cell_type": "code",
   "execution_count": 20,
   "metadata": {},
   "outputs": [
    {
     "name": "stdout",
     "output_type": "stream",
     "text": [
      "+-------+---------------------+\n",
      "|user_id|percentage_popularity|\n",
      "+-------+---------------------+\n",
      "|      1|                55.56|\n",
      "|      2|                33.33|\n",
      "|      3|                33.33|\n",
      "|      4|                11.11|\n",
      "|      5|                11.11|\n",
      "|      6|                22.22|\n",
      "|      7|                11.11|\n",
      "|      8|                11.11|\n",
      "|      9|                11.11|\n",
      "+-------+---------------------+\n",
      "\n"
     ]
    }
   ],
   "source": [
    "spark.sql(query).show()"
   ]
  }
 ],
 "metadata": {
  "kernelspec": {
   "display_name": "venv",
   "language": "python",
   "name": "python3"
  },
  "language_info": {
   "codemirror_mode": {
    "name": "ipython",
    "version": 3
   },
   "file_extension": ".py",
   "mimetype": "text/x-python",
   "name": "python",
   "nbconvert_exporter": "python",
   "pygments_lexer": "ipython3",
   "version": "3.11.8"
  }
 },
 "nbformat": 4,
 "nbformat_minor": 2
}
