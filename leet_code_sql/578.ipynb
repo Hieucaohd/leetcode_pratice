{
 "cells": [
  {
   "cell_type": "code",
   "execution_count": 3,
   "metadata": {},
   "outputs": [],
   "source": [
    "from pyspark.sql import SparkSession\n",
    "from pyspark import  SparkContext\n",
    "import os\n",
    "import pandas as pd"
   ]
  },
  {
   "cell_type": "code",
   "execution_count": 4,
   "metadata": {},
   "outputs": [
    {
     "name": "stderr",
     "output_type": "stream",
     "text": [
      "/spark/bin/load-spark-env.sh: line 68: ps: command not found\n",
      "Setting default log level to \"WARN\".\n",
      "To adjust logging level use sc.setLogLevel(newLevel). For SparkR, use setLogLevel(newLevel).\n",
      "24/03/12 15:03:12 WARN NativeCodeLoader: Unable to load native-hadoop library for your platform... using builtin-java classes where applicable\n",
      "24/03/12 15:03:13 WARN Client: Neither spark.yarn.jars nor spark.yarn.archive is set, falling back to uploading libraries under SPARK_HOME.\n"
     ]
    }
   ],
   "source": [
    "spark = SparkSession.builder.master(\"yarn\").getOrCreate()"
   ]
  },
  {
   "cell_type": "code",
   "execution_count": 5,
   "metadata": {},
   "outputs": [
    {
     "name": "stdout",
     "output_type": "stream",
     "text": [
      "SurveyLog table:\n",
      "   id  action  question_id  answer_id  q_num  timestamp\n",
      "0   5    show          285        NaN      1        123\n",
      "1   5  answer          285   124124.0      1        124\n",
      "2   5    show          369        NaN      2        125\n",
      "3   5    skip          369        NaN      2        126\n"
     ]
    }
   ],
   "source": [
    "import pandas as pd\n",
    "\n",
    "# Sample data for the SurveyLog table\n",
    "survey_log_data = {\n",
    "    'id': [5, 5, 5, 5],\n",
    "    'action': ['show', 'answer', 'show', 'skip'],\n",
    "    'question_id': [285, 285, 369, 369],\n",
    "    'answer_id': [None, 124124, None, None],\n",
    "    'q_num': [1, 1, 2, 2],\n",
    "    'timestamp': [123, 124, 125, 126]\n",
    "}\n",
    "\n",
    "# Creating a pandas DataFrame for SurveyLog table\n",
    "survey_log_df = pd.DataFrame(survey_log_data)\n",
    "\n",
    "# Displaying the SurveyLog DataFrame\n",
    "print(\"SurveyLog table:\")\n",
    "print(survey_log_df)\n",
    "\n",
    "\n",
    "\n",
    "df_person = spark.createDataFrame(survey_log_df)\n",
    "df_person.createOrReplaceTempView(\"SurveyLog\")\n",
    "\n"
   ]
  },
  {
   "cell_type": "code",
   "execution_count": 6,
   "metadata": {},
   "outputs": [],
   "source": [
    "query = \"\"\"\n",
    "    select\n",
    "        question_id,\n",
    "        sum(\n",
    "            case\n",
    "                when action = 'answer' then 1\n",
    "                else 0\n",
    "            end\n",
    "        ) / sum(\n",
    "            case\n",
    "                when action = 'show' then 1\n",
    "                else 0\n",
    "            end\n",
    "        ) as answer_rate\n",
    "    from SurveyLog s\n",
    "    group by question_id\n",
    "    order by answer_rate desc, question_id asc\n",
    "    limit 1\n",
    "\"\"\""
   ]
  },
  {
   "cell_type": "code",
   "execution_count": 22,
   "metadata": {},
   "outputs": [],
   "source": [
    "query = \"\"\"\n",
    "select question_id,sum(\n",
    "\n",
    "    case\n",
    "        when action='answer' then 1\n",
    "        else 0\n",
    "    end\n",
    ")/ sum (\n",
    "    case\n",
    "        when action='show' then 1\n",
    "        else 0\n",
    "    end\n",
    ") as percent\n",
    "from SurveyLog\n",
    "group by question_id\n",
    "order by percent desc\n",
    "limit 1\n",
    "\n",
    "\"\"\""
   ]
  },
  {
   "cell_type": "code",
   "execution_count": 23,
   "metadata": {},
   "outputs": [
    {
     "name": "stdout",
     "output_type": "stream",
     "text": [
      "+-----------+-------+\n",
      "|question_id|percent|\n",
      "+-----------+-------+\n",
      "|        285|    1.0|\n",
      "+-----------+-------+\n",
      "\n"
     ]
    }
   ],
   "source": [
    "spark.sql(query).show()"
   ]
  }
 ],
 "metadata": {
  "kernelspec": {
   "display_name": "venv",
   "language": "python",
   "name": "python3"
  },
  "language_info": {
   "codemirror_mode": {
    "name": "ipython",
    "version": 3
   },
   "file_extension": ".py",
   "mimetype": "text/x-python",
   "name": "python",
   "nbconvert_exporter": "python",
   "pygments_lexer": "ipython3",
   "version": "3.11.8"
  }
 },
 "nbformat": 4,
 "nbformat_minor": 2
}
