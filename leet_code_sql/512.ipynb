{
 "cells": [
  {
   "cell_type": "code",
   "execution_count": 1,
   "metadata": {},
   "outputs": [
    {
     "name": "stderr",
     "output_type": "stream",
     "text": [
      "/tmp/ipykernel_244282/2081191832.py:4: DeprecationWarning: \n",
      "Pyarrow will become a required dependency of pandas in the next major release of pandas (pandas 3.0),\n",
      "(to allow more performant data types, such as the Arrow string type, and better interoperability with other libraries)\n",
      "but was not found to be installed on your system.\n",
      "If this would cause problems for you,\n",
      "please provide us feedback at https://github.com/pandas-dev/pandas/issues/54466\n",
      "        \n",
      "  import pandas as pd\n"
     ]
    }
   ],
   "source": [
    "from pyspark.sql import SparkSession\n",
    "from pyspark import  SparkContext\n",
    "import os\n",
    "import pandas as pd"
   ]
  },
  {
   "cell_type": "code",
   "execution_count": 2,
   "metadata": {},
   "outputs": [
    {
     "name": "stderr",
     "output_type": "stream",
     "text": [
      "/spark/bin/load-spark-env.sh: line 68: ps: command not found\n",
      "Setting default log level to \"WARN\".\n",
      "To adjust logging level use sc.setLogLevel(newLevel). For SparkR, use setLogLevel(newLevel).\n",
      "24/03/11 13:23:50 WARN NativeCodeLoader: Unable to load native-hadoop library for your platform... using builtin-java classes where applicable\n",
      "24/03/11 13:23:52 WARN Client: Neither spark.yarn.jars nor spark.yarn.archive is set, falling back to uploading libraries under SPARK_HOME.\n"
     ]
    }
   ],
   "source": [
    "spark = SparkSession.builder.master(\"yarn\").getOrCreate()"
   ]
  },
  {
   "cell_type": "code",
   "execution_count": 8,
   "metadata": {},
   "outputs": [
    {
     "name": "stdout",
     "output_type": "stream",
     "text": [
      "Activity table:\n",
      "   player_id  device_id event_date  games_played\n",
      "0          1          2 2016-03-01             5\n",
      "1          1          2 2016-05-02             6\n",
      "2          2          3 2017-06-25             1\n",
      "3          3          1 2016-03-02             0\n",
      "4          3          4 2018-07-03             5\n",
      "\n",
      "Result table:\n",
      "   player_id  device_id\n",
      "0          3          4\n",
      "1          2          3\n",
      "2          1          2\n",
      "Activity table:\n",
      "   player_id  device_id event_date  games_played\n",
      "0          1          2 2016-03-01             5\n",
      "1          1          2 2016-05-02             6\n",
      "2          1          3 2016-06-01             0\n",
      "3          2          3 2017-06-25             1\n",
      "4          2          4 2018-01-15             3\n",
      "5          3          1 2016-03-02             0\n",
      "6          3          4 2018-07-03             5\n",
      "7          3          5 2018-07-04             2\n",
      "\n",
      "Result table:\n",
      "   player_id  device_id\n",
      "0          3          5\n",
      "1          2          4\n",
      "2          1          3\n"
     ]
    }
   ],
   "source": [
    "\n",
    "\n",
    "data = {\n",
    "    'player_id': [1, 1, 2, 3, 3],\n",
    "    'device_id': [2, 2, 3, 1, 4],\n",
    "    'event_date': ['2016-03-01', '2016-05-02', '2017-06-25', '2016-03-02', '2018-07-03'],\n",
    "    'games_played': [5, 6, 1, 0, 5]\n",
    "}\n",
    "\n",
    "activity_df = pd.DataFrame(data)\n",
    "activity_df['event_date'] = pd.to_datetime(activity_df['event_date'])\n",
    "\n",
    "print(\"Activity table:\")\n",
    "print(activity_df)\n",
    "\n",
    "# Now, let's find the latest device for each player\n",
    "result_df = activity_df.sort_values(\n",
    "    by='event_date', ascending=False).drop_duplicates(subset='player_id')\n",
    "\n",
    "print(\"\\nResult table:\")\n",
    "print(result_df[['player_id', 'device_id']].reset_index(drop=True))\n",
    "\n",
    "\n",
    "df_person = spark.createDataFrame(activity_df)\n",
    "df_person.createOrReplaceTempView(\"Activity\")\n",
    "\n",
    "\n",
    "data = {\n",
    "    'player_id': [1, 1, 1, 2, 2, 3, 3, 3],\n",
    "    'device_id': [2, 2, 3, 3, 4, 1, 4, 5],\n",
    "    'event_date': ['2016-03-01', '2016-05-02', '2016-06-01', '2017-06-25', '2018-01-15', '2016-03-02', '2018-07-03', '2018-07-04'],\n",
    "    'games_played': [5, 6, 0, 1, 3, 0, 5, 2]\n",
    "}\n",
    "\n",
    "activity_df = pd.DataFrame(data)\n",
    "activity_df['event_date'] = pd.to_datetime(activity_df['event_date'])\n",
    "\n",
    "print(\"Activity table:\")\n",
    "print(activity_df)\n",
    "\n",
    "# Now, let's find the latest device for each player\n",
    "result_df = activity_df.sort_values(\n",
    "    by='event_date', ascending=False).drop_duplicates(subset='player_id')\n",
    "\n",
    "print(\"\\nResult table:\")\n",
    "print(result_df[['player_id', 'device_id']].reset_index(drop=True))\n",
    "\n",
    "\n",
    "df_person = spark.createDataFrame(activity_df)\n",
    "df_person.createOrReplaceTempView(\"Activity_1\")"
   ]
  },
  {
   "cell_type": "code",
   "execution_count": 13,
   "metadata": {},
   "outputs": [],
   "source": [
    "query = \"\"\"\n",
    "\tselect\n",
    "\t\tplayer_id,\n",
    "\t\tdevice_id\n",
    " \tfrom (select \n",
    "\t\ta.player_id,\n",
    "\t\ta.device_id,\n",
    "\t\ta.event_date,\n",
    "\t\trow_number() over (partition by player_id order by event_date asc) as rank_date\n",
    "\tfrom Activity_1 a ) t\n",
    "\twhere rank_date = 1\n",
    "\t\n",
    "\n",
    "\"\"\""
   ]
  },
  {
   "cell_type": "code",
   "execution_count": 14,
   "metadata": {},
   "outputs": [
    {
     "name": "stdout",
     "output_type": "stream",
     "text": [
      "+---------+---------+\n",
      "|player_id|device_id|\n",
      "+---------+---------+\n",
      "|        1|        2|\n",
      "|        2|        3|\n",
      "|        3|        1|\n",
      "+---------+---------+\n",
      "\n"
     ]
    }
   ],
   "source": [
    "spark.sql(query).show()"
   ]
  }
 ],
 "metadata": {
  "kernelspec": {
   "display_name": "venv",
   "language": "python",
   "name": "python3"
  },
  "language_info": {
   "codemirror_mode": {
    "name": "ipython",
    "version": 3
   },
   "file_extension": ".py",
   "mimetype": "text/x-python",
   "name": "python",
   "nbconvert_exporter": "python",
   "pygments_lexer": "ipython3",
   "version": "3.11.8"
  }
 },
 "nbformat": 4,
 "nbformat_minor": 2
}
