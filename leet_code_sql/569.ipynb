{
 "cells": [
  {
   "cell_type": "code",
   "execution_count": 1,
   "metadata": {},
   "outputs": [
    {
     "name": "stderr",
     "output_type": "stream",
     "text": [
      "/tmp/ipykernel_20942/2081191832.py:4: DeprecationWarning: \n",
      "Pyarrow will become a required dependency of pandas in the next major release of pandas (pandas 3.0),\n",
      "(to allow more performant data types, such as the Arrow string type, and better interoperability with other libraries)\n",
      "but was not found to be installed on your system.\n",
      "If this would cause problems for you,\n",
      "please provide us feedback at https://github.com/pandas-dev/pandas/issues/54466\n",
      "        \n",
      "  import pandas as pd\n"
     ]
    }
   ],
   "source": [
    "from pyspark.sql import SparkSession\n",
    "from pyspark import  SparkContext\n",
    "import os\n",
    "import pandas as pd"
   ]
  },
  {
   "cell_type": "code",
   "execution_count": 2,
   "metadata": {},
   "outputs": [
    {
     "name": "stderr",
     "output_type": "stream",
     "text": [
      "/spark/bin/load-spark-env.sh: line 68: ps: command not found\n",
      "Setting default log level to \"WARN\".\n",
      "To adjust logging level use sc.setLogLevel(newLevel). For SparkR, use setLogLevel(newLevel).\n",
      "24/03/12 04:05:10 WARN NativeCodeLoader: Unable to load native-hadoop library for your platform... using builtin-java classes where applicable\n",
      "24/03/12 04:05:11 WARN Client: Neither spark.yarn.jars nor spark.yarn.archive is set, falling back to uploading libraries under SPARK_HOME.\n"
     ]
    }
   ],
   "source": [
    "spark = SparkSession.builder.master(\"yarn\").getOrCreate()"
   ]
  },
  {
   "cell_type": "code",
   "execution_count": 3,
   "metadata": {},
   "outputs": [
    {
     "name": "stdout",
     "output_type": "stream",
     "text": [
      "    Id Company  Salary\n",
      "0    1       A    2341\n",
      "1    2       A     341\n",
      "2    3       A      15\n",
      "3    4       A   15314\n",
      "4    5       A     451\n",
      "5    6       A     513\n",
      "6    7       B      15\n",
      "7    8       B      13\n",
      "8    9       B    1154\n",
      "9   10       B    1345\n",
      "10  11       B    1221\n",
      "11  12       B     234\n",
      "12  13       C    2345\n",
      "13  14       C    2645\n",
      "14  15       C    2645\n",
      "15  16       C    2652\n",
      "16  17       C      65\n"
     ]
    }
   ],
   "source": [
    "import pandas as pd\n",
    "\n",
    "# Sample data for the Employee table\n",
    "data = {\n",
    "    'Id': [1, 2, 3, 4, 5, 6, 7, 8, 9, 10, 11, 12, 13, 14, 15, 16, 17],\n",
    "    'Company': ['A', 'A', 'A', 'A', 'A', 'A', 'B', 'B', 'B', 'B', 'B', 'B', 'C', 'C', 'C', 'C', 'C'],\n",
    "    'Salary': [2341, 341, 15, 15314, 451, 513, 15, 13, 1154, 1345, 1221, 234, 2345, 2645, 2645, 2652, 65]\n",
    "}\n",
    "\n",
    "# Creating a pandas DataFrame\n",
    "df = pd.DataFrame(data)\n",
    "\n",
    "# Displaying the DataFrame\n",
    "print(df)\n",
    "\n",
    "\n",
    "\n",
    "df_person = spark.createDataFrame(df)\n",
    "df_person.createOrReplaceTempView(\"Employee\")\n",
    "\n"
   ]
  },
  {
   "cell_type": "code",
   "execution_count": 25,
   "metadata": {},
   "outputs": [],
   "source": [
    "query = \"\"\"\n",
    "    select\n",
    "        *\n",
    "    from (\n",
    "        select\n",
    "            Id,\n",
    "            Company,\n",
    "            Salary,\n",
    "            rank_salary,\n",
    "            max(rank_salary) over (partition by company) as max_rank_salary\n",
    "        from (\n",
    "                select\n",
    "                    Id,\n",
    "                    Company,\n",
    "                    Salary,\n",
    "                    row_number() over (partition by company order by salary asc, id asc) as rank_salary\n",
    "                from Employee e \n",
    "            )\n",
    "        )\n",
    "    where \n",
    "        case \n",
    "            when max_rank_salary % 2 = 0 then rank_salary = (max_rank_salary / 2) or rank_salary = ((max_rank_salary / 2) + 1)\n",
    "            else rank_salary = round(max_rank_salary / 2, 0)\n",
    "        end\n",
    "\"\"\""
   ]
  },
  {
   "cell_type": "code",
   "execution_count": 22,
   "metadata": {},
   "outputs": [],
   "source": [
    "query_1 = \"\"\"\n",
    "select\n",
    "            Id,\n",
    "            Company,\n",
    "            Salary,\n",
    "            rank_salary,\n",
    "            max(rank_salary) over (partition by company) as max_rank_salary\n",
    "        from (\n",
    "                select\n",
    "                    Id,\n",
    "                    Company,\n",
    "                    Salary,\n",
    "                    row_number() over (partition by company order by salary asc, id asc) as rank_salary\n",
    "                from Employee e \n",
    "            )\n",
    "        \n",
    "\n",
    "\"\"\""
   ]
  },
  {
   "cell_type": "code",
   "execution_count": 23,
   "metadata": {},
   "outputs": [
    {
     "name": "stdout",
     "output_type": "stream",
     "text": [
      "+---+-------+------+-----------+---------------+\n",
      "| Id|Company|Salary|rank_salary|max_rank_salary|\n",
      "+---+-------+------+-----------+---------------+\n",
      "|  3|      A|    15|          1|              6|\n",
      "|  2|      A|   341|          2|              6|\n",
      "|  5|      A|   451|          3|              6|\n",
      "|  6|      A|   513|          4|              6|\n",
      "|  1|      A|  2341|          5|              6|\n",
      "|  4|      A| 15314|          6|              6|\n",
      "|  8|      B|    13|          1|              6|\n",
      "|  7|      B|    15|          2|              6|\n",
      "| 12|      B|   234|          3|              6|\n",
      "|  9|      B|  1154|          4|              6|\n",
      "| 11|      B|  1221|          5|              6|\n",
      "| 10|      B|  1345|          6|              6|\n",
      "| 17|      C|    65|          1|              5|\n",
      "| 13|      C|  2345|          2|              5|\n",
      "| 14|      C|  2645|          3|              5|\n",
      "| 15|      C|  2645|          4|              5|\n",
      "| 16|      C|  2652|          5|              5|\n",
      "+---+-------+------+-----------+---------------+\n",
      "\n"
     ]
    }
   ],
   "source": [
    "spark.sql(query_1).show()"
   ]
  },
  {
   "cell_type": "code",
   "execution_count": 26,
   "metadata": {},
   "outputs": [
    {
     "name": "stdout",
     "output_type": "stream",
     "text": [
      "+---+-------+------+-----------+---------------+\n",
      "| Id|Company|Salary|rank_salary|max_rank_salary|\n",
      "+---+-------+------+-----------+---------------+\n",
      "|  5|      A|   451|          3|              6|\n",
      "|  6|      A|   513|          4|              6|\n",
      "| 12|      B|   234|          3|              6|\n",
      "|  9|      B|  1154|          4|              6|\n",
      "| 14|      C|  2645|          3|              5|\n",
      "+---+-------+------+-----------+---------------+\n",
      "\n"
     ]
    }
   ],
   "source": [
    "spark.sql(query).show()"
   ]
  }
 ],
 "metadata": {
  "kernelspec": {
   "display_name": "venv",
   "language": "python",
   "name": "python3"
  },
  "language_info": {
   "codemirror_mode": {
    "name": "ipython",
    "version": 3
   },
   "file_extension": ".py",
   "mimetype": "text/x-python",
   "name": "python",
   "nbconvert_exporter": "python",
   "pygments_lexer": "ipython3",
   "version": "3.11.8"
  }
 },
 "nbformat": 4,
 "nbformat_minor": 2
}
