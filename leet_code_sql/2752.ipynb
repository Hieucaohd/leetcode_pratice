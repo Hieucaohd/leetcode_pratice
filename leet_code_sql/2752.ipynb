{
 "cells": [
  {
   "cell_type": "code",
   "execution_count": 1,
   "metadata": {},
   "outputs": [
    {
     "name": "stderr",
     "output_type": "stream",
     "text": [
      "/tmp/ipykernel_24179/2081191832.py:4: DeprecationWarning: \n",
      "Pyarrow will become a required dependency of pandas in the next major release of pandas (pandas 3.0),\n",
      "(to allow more performant data types, such as the Arrow string type, and better interoperability with other libraries)\n",
      "but was not found to be installed on your system.\n",
      "If this would cause problems for you,\n",
      "please provide us feedback at https://github.com/pandas-dev/pandas/issues/54466\n",
      "        \n",
      "  import pandas as pd\n"
     ]
    }
   ],
   "source": [
    "from pyspark.sql import SparkSession\n",
    "from pyspark import  SparkContext\n",
    "import os\n",
    "import pandas as pd"
   ]
  },
  {
   "cell_type": "code",
   "execution_count": 2,
   "metadata": {},
   "outputs": [
    {
     "name": "stderr",
     "output_type": "stream",
     "text": [
      "/spark/bin/load-spark-env.sh: line 68: ps: command not found\n"
     ]
    },
    {
     "name": "stderr",
     "output_type": "stream",
     "text": [
      "Setting default log level to \"WARN\".\n",
      "To adjust logging level use sc.setLogLevel(newLevel). For SparkR, use setLogLevel(newLevel).\n",
      "24/03/20 00:36:37 WARN NativeCodeLoader: Unable to load native-hadoop library for your platform... using builtin-java classes where applicable\n",
      "24/03/20 00:36:39 WARN Client: Neither spark.yarn.jars nor spark.yarn.archive is set, falling back to uploading libraries under SPARK_HOME.\n"
     ]
    }
   ],
   "source": [
    "spark = SparkSession.builder.master(\"yarn\").getOrCreate()"
   ]
  },
  {
   "cell_type": "code",
   "execution_count": 3,
   "metadata": {},
   "outputs": [
    {
     "name": "stdout",
     "output_type": "stream",
     "text": [
      "Transactions table:\n",
      "   transaction_id  customer_id transaction_date  amount\n",
      "0               1          101       2023-05-01     100\n",
      "1               2          101       2023-05-02     150\n",
      "2               3          101       2023-05-03     200\n",
      "3               4          102       2023-05-01      50\n",
      "4               5          102       2023-05-03     100\n",
      "5               6          102       2023-05-04     200\n",
      "6               7          105       2023-05-01     100\n",
      "7               8          105       2023-05-02     150\n",
      "8               9          105       2023-05-03     200\n"
     ]
    }
   ],
   "source": [
    "import pandas as pd\n",
    "\n",
    "# Sample data for Transactions table\n",
    "transactions_data = {\n",
    "    'transaction_id': [1, 2, 3, 4, 5, 6, 7, 8, 9],\n",
    "    'customer_id': [101, 101, 101, 102, 102, 102, 105, 105, 105],\n",
    "    'transaction_date': ['2023-05-01', '2023-05-02', '2023-05-03', '2023-05-01', '2023-05-03',\n",
    "                         '2023-05-04', '2023-05-01', '2023-05-02', '2023-05-03'],\n",
    "    'amount': [100, 150, 200, 50, 100, 200, 100, 150, 200]\n",
    "}\n",
    "\n",
    "# Create DataFrame for Transactions\n",
    "transactions_df = pd.DataFrame(transactions_data)\n",
    "\n",
    "# Convert transaction_date to datetime type\n",
    "transactions_df['transaction_date'] = pd.to_datetime(transactions_df['transaction_date'])\n",
    "\n",
    "# Display the DataFrame\n",
    "print(\"Transactions table:\")\n",
    "print(transactions_df)\n",
    "\n",
    "\n",
    "\n",
    "df_person = spark.createDataFrame(transactions_df)\n",
    "df_person.createOrReplaceTempView(\"Transactions\")\n",
    "\n"
   ]
  },
  {
   "cell_type": "code",
   "execution_count": 14,
   "metadata": {},
   "outputs": [],
   "source": [
    "query = \"\"\"\n",
    "    select\n",
    "        customer_id\n",
    "    from (\n",
    "        select\n",
    "            customer_id,\n",
    "            rank() over(order by number_in_group desc) as rk\n",
    "        from (\n",
    "            select\n",
    "                customer_id,\n",
    "                count(*) as number_in_group\n",
    "            from (\n",
    "                select\n",
    "                    *,\n",
    "                    sum(\n",
    "                        if(is_consecutive_day, 0, 1)\n",
    "                    ) over(partition by customer_id order by transaction_date asc) as group_id\n",
    "                from (\n",
    "                    select\n",
    "                        *,\n",
    "                        (date_diff(transaction_date, previous_transaction_date) = 1) and (amount > previous_amount) as is_consecutive_day\n",
    "                    from (\n",
    "                        select\n",
    "                            *,\n",
    "                            lag(transaction_date, 1, transaction_date) over(partition by customer_id order by transaction_date asc) as previous_transaction_date,\n",
    "                            lag(amount, 1, amount) over(partition by customer_id order by transaction_date asc) as previous_amount\n",
    "                        from Transactions \n",
    "                    )\n",
    "                )\n",
    "            ) \n",
    "            group by customer_id, group_id\n",
    "        )\n",
    "    ) where rk = 1\n",
    "\"\"\""
   ]
  },
  {
   "cell_type": "code",
   "execution_count": 15,
   "metadata": {},
   "outputs": [
    {
     "name": "stderr",
     "output_type": "stream",
     "text": [
      "24/03/20 00:49:11 WARN WindowExec: No Partition Defined for Window operation! Moving all data to a single partition, this can cause serious performance degradation.\n",
      "24/03/20 00:49:11 WARN WindowExec: No Partition Defined for Window operation! Moving all data to a single partition, this can cause serious performance degradation.\n",
      "24/03/20 00:49:11 WARN WindowExec: No Partition Defined for Window operation! Moving all data to a single partition, this can cause serious performance degradation.\n",
      "24/03/20 00:49:11 WARN WindowExec: No Partition Defined for Window operation! Moving all data to a single partition, this can cause serious performance degradation.\n",
      "24/03/20 00:49:11 WARN WindowExec: No Partition Defined for Window operation! Moving all data to a single partition, this can cause serious performance degradation.\n"
     ]
    },
    {
     "name": "stderr",
     "output_type": "stream",
     "text": [
      "24/03/20 00:49:12 WARN WindowExec: No Partition Defined for Window operation! Moving all data to a single partition, this can cause serious performance degradation.\n",
      "24/03/20 00:49:12 WARN WindowExec: No Partition Defined for Window operation! Moving all data to a single partition, this can cause serious performance degradation.\n"
     ]
    },
    {
     "name": "stdout",
     "output_type": "stream",
     "text": [
      "+-----------+\n",
      "|customer_id|\n",
      "+-----------+\n",
      "|        101|\n",
      "|        105|\n",
      "+-----------+\n",
      "\n"
     ]
    }
   ],
   "source": [
    "spark.sql(query).show()"
   ]
  }
 ],
 "metadata": {
  "kernelspec": {
   "display_name": "venv",
   "language": "python",
   "name": "python3"
  },
  "language_info": {
   "codemirror_mode": {
    "name": "ipython",
    "version": 3
   },
   "file_extension": ".py",
   "mimetype": "text/x-python",
   "name": "python",
   "nbconvert_exporter": "python",
   "pygments_lexer": "ipython3",
   "version": "3.11.8"
  }
 },
 "nbformat": 4,
 "nbformat_minor": 2
}
