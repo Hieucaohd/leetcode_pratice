{
 "cells": [
  {
   "cell_type": "code",
   "execution_count": 1,
   "metadata": {},
   "outputs": [
    {
     "name": "stderr",
     "output_type": "stream",
     "text": [
      "/tmp/ipykernel_431481/2081191832.py:4: DeprecationWarning: \n",
      "Pyarrow will become a required dependency of pandas in the next major release of pandas (pandas 3.0),\n",
      "(to allow more performant data types, such as the Arrow string type, and better interoperability with other libraries)\n",
      "but was not found to be installed on your system.\n",
      "If this would cause problems for you,\n",
      "please provide us feedback at https://github.com/pandas-dev/pandas/issues/54466\n",
      "        \n",
      "  import pandas as pd\n"
     ]
    }
   ],
   "source": [
    "from pyspark.sql import SparkSession\n",
    "from pyspark import  SparkContext\n",
    "import os\n",
    "import pandas as pd"
   ]
  },
  {
   "cell_type": "code",
   "execution_count": 2,
   "metadata": {},
   "outputs": [
    {
     "name": "stderr",
     "output_type": "stream",
     "text": [
      "/spark/bin/load-spark-env.sh: line 68: ps: command not found\n",
      "Setting default log level to \"WARN\".\n",
      "To adjust logging level use sc.setLogLevel(newLevel). For SparkR, use setLogLevel(newLevel).\n",
      "24/03/18 14:07:50 WARN NativeCodeLoader: Unable to load native-hadoop library for your platform... using builtin-java classes where applicable\n",
      "24/03/18 14:07:52 WARN Client: Neither spark.yarn.jars nor spark.yarn.archive is set, falling back to uploading libraries under SPARK_HOME.\n"
     ]
    }
   ],
   "source": [
    "spark = SparkSession.builder.master(\"yarn\").getOrCreate()"
   ]
  },
  {
   "cell_type": "code",
   "execution_count": 3,
   "metadata": {},
   "outputs": [
    {
     "name": "stdout",
     "output_type": "stream",
     "text": [
      "Products table:\n",
      "   product_id     store  price\n",
      "0           1      Shop    110\n",
      "1           1  LC_Store    100\n",
      "2           2    Nozama    200\n",
      "3           2      Souq    190\n",
      "4           3      Shop   1000\n",
      "5           3      Souq   1900\n"
     ]
    }
   ],
   "source": [
    "import pandas as pd\n",
    "\n",
    "# Sample data for Products table\n",
    "products_data = {\n",
    "    'product_id': [1, 1, 2, 2, 3, 3],\n",
    "    'store': ['Shop', 'LC_Store', 'Nozama', 'Souq', 'Shop', 'Souq'],\n",
    "    'price': [110, 100, 200, 190, 1000, 1900]\n",
    "}\n",
    "\n",
    "# Create DataFrame for Products\n",
    "products_df = pd.DataFrame(products_data)\n",
    "\n",
    "# Display the DataFrame\n",
    "print(\"Products table:\")\n",
    "print(products_df)\n",
    "\n",
    "\n",
    "\n",
    "df_person = spark.createDataFrame(products_df)\n",
    "df_person.createOrReplaceTempView(\"Products\")\n",
    "\n"
   ]
  },
  {
   "cell_type": "code",
   "execution_count": 4,
   "metadata": {},
   "outputs": [],
   "source": [
    "query = \"\"\"\n",
    "    select *\n",
    "    from (\n",
    "        select product_id, store, price from Products p\n",
    "    )\n",
    "    pivot (\n",
    "        max(price) for store in (\n",
    "            'LC_Store' LC_Store,\n",
    "            'Nozama' Nozama,\n",
    "            'Shop' Shop,\n",
    "            'Souq' Souq \n",
    "        )\n",
    "    ) order by product_id\n",
    "\n",
    "\"\"\""
   ]
  },
  {
   "cell_type": "code",
   "execution_count": 5,
   "metadata": {},
   "outputs": [
    {
     "name": "stderr",
     "output_type": "stream",
     "text": [
      "                                                                                \r"
     ]
    },
    {
     "name": "stdout",
     "output_type": "stream",
     "text": [
      "+----------+--------+------+----+----+\n",
      "|product_id|LC_Store|Nozama|Shop|Souq|\n",
      "+----------+--------+------+----+----+\n",
      "|         1|     100|  NULL| 110|NULL|\n",
      "|         2|    NULL|   200|NULL| 190|\n",
      "|         3|    NULL|  NULL|1000|1900|\n",
      "+----------+--------+------+----+----+\n",
      "\n"
     ]
    }
   ],
   "source": [
    "spark.sql(query).show()"
   ]
  }
 ],
 "metadata": {
  "kernelspec": {
   "display_name": "venv",
   "language": "python",
   "name": "python3"
  },
  "language_info": {
   "codemirror_mode": {
    "name": "ipython",
    "version": 3
   },
   "file_extension": ".py",
   "mimetype": "text/x-python",
   "name": "python",
   "nbconvert_exporter": "python",
   "pygments_lexer": "ipython3",
   "version": "3.11.8"
  }
 },
 "nbformat": 4,
 "nbformat_minor": 2
}
