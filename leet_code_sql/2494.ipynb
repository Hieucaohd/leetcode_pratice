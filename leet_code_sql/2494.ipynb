{
 "cells": [
  {
   "cell_type": "code",
   "execution_count": 2,
   "metadata": {},
   "outputs": [
    {
     "name": "stderr",
     "output_type": "stream",
     "text": [
      "/tmp/ipykernel_6978/2081191832.py:4: DeprecationWarning: \n",
      "Pyarrow will become a required dependency of pandas in the next major release of pandas (pandas 3.0),\n",
      "(to allow more performant data types, such as the Arrow string type, and better interoperability with other libraries)\n",
      "but was not found to be installed on your system.\n",
      "If this would cause problems for you,\n",
      "please provide us feedback at https://github.com/pandas-dev/pandas/issues/54466\n",
      "        \n",
      "  import pandas as pd\n"
     ]
    }
   ],
   "source": [
    "from pyspark.sql import SparkSession\n",
    "from pyspark import  SparkContext\n",
    "import os\n",
    "import pandas as pd"
   ]
  },
  {
   "cell_type": "code",
   "execution_count": 3,
   "metadata": {},
   "outputs": [
    {
     "name": "stderr",
     "output_type": "stream",
     "text": [
      "/spark/bin/load-spark-env.sh: line 68: ps: command not found\n",
      "Setting default log level to \"WARN\".\n",
      "To adjust logging level use sc.setLogLevel(newLevel). For SparkR, use setLogLevel(newLevel).\n",
      "24/03/19 16:32:51 WARN NativeCodeLoader: Unable to load native-hadoop library for your platform... using builtin-java classes where applicable\n",
      "24/03/19 16:32:53 WARN Client: Neither spark.yarn.jars nor spark.yarn.archive is set, falling back to uploading libraries under SPARK_HOME.\n"
     ]
    }
   ],
   "source": [
    "spark = SparkSession.builder.master(\"yarn\").getOrCreate()"
   ]
  },
  {
   "cell_type": "code",
   "execution_count": 13,
   "metadata": {},
   "outputs": [
    {
     "name": "stdout",
     "output_type": "stream",
     "text": [
      "HallEvents table:\n",
      "   hall_id  start_day    end_day\n",
      "0        1 2023-01-12 2023-01-14\n",
      "1        1 2023-01-14 2023-01-17\n",
      "2        1 2023-01-18 2023-01-25\n",
      "3        1 2023-01-13 2023-01-18\n",
      "4        2 2022-12-09 2022-12-23\n",
      "5        2 2022-12-13 2022-12-17\n",
      "6        3 2022-12-01 2023-01-30\n"
     ]
    }
   ],
   "source": [
    "import pandas as pd\n",
    "\n",
    "# Sample data for HallEvents table\n",
    "hall_events_data = {\n",
    "    'hall_id': [1, 1, 1, 1, 2, 2, 3],\n",
    "    'start_day': ['2023-01-12', '2023-01-14', '2023-01-18', '2023-01-13', \n",
    "                  '2022-12-09', '2022-12-13', '2022-12-01'],\n",
    "    'end_day': ['2023-01-14', '2023-01-17', '2023-01-25', '2023-01-18',\n",
    "                '2022-12-23', '2022-12-17', '2023-01-30']\n",
    "}\n",
    "\n",
    "# # Sample data for HallEvents table\n",
    "# hall_events_data = {\n",
    "#     'hall_id': [1, 1, 1, 2, 2, 3],\n",
    "#     'start_day': ['2023-01-13', '2023-01-14', '2023-01-18', \n",
    "#                   '2022-12-09', '2022-12-13', '2022-12-01'],\n",
    "#     'end_day': ['2023-01-14', '2023-01-17', '2023-01-25',\n",
    "#                 '2022-12-23', '2022-12-17', '2023-01-30']\n",
    "# }\n",
    "\n",
    "# Create DataFrame for HallEvents\n",
    "hall_events_df = pd.DataFrame(hall_events_data)\n",
    "\n",
    "# Convert date columns to datetime type\n",
    "hall_events_df['start_day'] = pd.to_datetime(hall_events_df['start_day'])\n",
    "hall_events_df['end_day'] = pd.to_datetime(hall_events_df['end_day'])\n",
    "\n",
    "# Display the DataFrame\n",
    "print(\"HallEvents table:\")\n",
    "print(hall_events_df)\n",
    "\n",
    "\n",
    "df_person = spark.createDataFrame(hall_events_df)\n",
    "df_person.createOrReplaceTempView(\"HallEvents\")"
   ]
  },
  {
   "cell_type": "code",
   "execution_count": 14,
   "metadata": {},
   "outputs": [],
   "source": [
    "query = \"\"\"\n",
    "    select\n",
    "        hall_id,\n",
    "        min(start_day),\n",
    "        max(end_day)\n",
    "    from (\n",
    "        select\n",
    "            hall_id,\n",
    "            sum(\n",
    "                if(overlap_with_past, 0, 1)\n",
    "            ) over (partition by hall_id order by start_day asc) as group_id,\n",
    "            start_day,\n",
    "            end_day,\n",
    "            max_end_day_past,\n",
    "            overlap_with_past\n",
    "        from (\n",
    "            select\n",
    "                *,\n",
    "                max(end_day) over(partition by hall_id order by start_day asc ROWS BETWEEN UNBOUNDED PRECEDING AND 1 PRECEDING) as max_end_day_past,\n",
    "                ifnull(start_day <= max(end_day) over(partition by hall_id order by start_day asc ROWS BETWEEN UNBOUNDED PRECEDING AND 1 PRECEDING), False) as overlap_with_past\n",
    "            from\n",
    "                HallEvents h\n",
    "        )\n",
    "    ) group by hall_id, group_id\n",
    "\"\"\""
   ]
  },
  {
   "cell_type": "code",
   "execution_count": 15,
   "metadata": {},
   "outputs": [
    {
     "name": "stdout",
     "output_type": "stream",
     "text": [
      "+-------+-------------------+-------------------+\n",
      "|hall_id|     min(start_day)|       max(end_day)|\n",
      "+-------+-------------------+-------------------+\n",
      "|      1|2023-01-12 00:00:00|2023-01-25 00:00:00|\n",
      "|      2|2022-12-09 00:00:00|2022-12-23 00:00:00|\n",
      "|      3|2022-12-01 00:00:00|2023-01-30 00:00:00|\n",
      "+-------+-------------------+-------------------+\n",
      "\n"
     ]
    }
   ],
   "source": [
    "spark.sql(query).show()"
   ]
  }
 ],
 "metadata": {
  "kernelspec": {
   "display_name": "venv",
   "language": "python",
   "name": "python3"
  },
  "language_info": {
   "codemirror_mode": {
    "name": "ipython",
    "version": 3
   },
   "file_extension": ".py",
   "mimetype": "text/x-python",
   "name": "python",
   "nbconvert_exporter": "python",
   "pygments_lexer": "ipython3",
   "version": "3.11.8"
  }
 },
 "nbformat": 4,
 "nbformat_minor": 2
}
