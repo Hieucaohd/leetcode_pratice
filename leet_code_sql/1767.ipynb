{
 "cells": [
  {
   "cell_type": "code",
   "execution_count": 1,
   "metadata": {},
   "outputs": [
    {
     "name": "stderr",
     "output_type": "stream",
     "text": [
      "/tmp/ipykernel_614051/2081191832.py:4: DeprecationWarning: \n",
      "Pyarrow will become a required dependency of pandas in the next major release of pandas (pandas 3.0),\n",
      "(to allow more performant data types, such as the Arrow string type, and better interoperability with other libraries)\n",
      "but was not found to be installed on your system.\n",
      "If this would cause problems for you,\n",
      "please provide us feedback at https://github.com/pandas-dev/pandas/issues/54466\n",
      "        \n",
      "  import pandas as pd\n"
     ]
    }
   ],
   "source": [
    "from pyspark.sql import SparkSession\n",
    "from pyspark import  SparkContext\n",
    "import os\n",
    "import pandas as pd"
   ]
  },
  {
   "cell_type": "code",
   "execution_count": 2,
   "metadata": {},
   "outputs": [
    {
     "name": "stderr",
     "output_type": "stream",
     "text": [
      "/spark/bin/load-spark-env.sh: line 68: ps: command not found\n",
      "Setting default log level to \"WARN\".\n",
      "To adjust logging level use sc.setLogLevel(newLevel). For SparkR, use setLogLevel(newLevel).\n",
      "24/03/16 10:18:40 WARN NativeCodeLoader: Unable to load native-hadoop library for your platform... using builtin-java classes where applicable\n",
      "24/03/16 10:18:41 WARN Client: Neither spark.yarn.jars nor spark.yarn.archive is set, falling back to uploading libraries under SPARK_HOME.\n"
     ]
    }
   ],
   "source": [
    "spark = SparkSession.builder.master(\"yarn\").getOrCreate()"
   ]
  },
  {
   "cell_type": "code",
   "execution_count": 3,
   "metadata": {},
   "outputs": [
    {
     "name": "stdout",
     "output_type": "stream",
     "text": [
      "Tasks table:\n",
      "   task_id  subtasks_count\n",
      "0        1               3\n",
      "1        2               2\n",
      "2        3               4\n",
      "\n",
      "Executed table:\n",
      "   task_id  subtask_id\n",
      "0        1           2\n",
      "1        3           1\n",
      "2        3           2\n",
      "3        3           3\n",
      "4        3           4\n"
     ]
    }
   ],
   "source": [
    "import pandas as pd\n",
    "\n",
    "# Sample data for the Tasks table\n",
    "tasks_data = {\n",
    "    'task_id': [1, 2, 3],\n",
    "    'subtasks_count': [3, 2, 4]\n",
    "}\n",
    "\n",
    "# Sample data for the Executed table\n",
    "executed_data = {\n",
    "    'task_id': [1, 3, 3, 3, 3],\n",
    "    'subtask_id': [2, 1, 2, 3, 4]\n",
    "}\n",
    "\n",
    "# Convert data to DataFrames\n",
    "tasks_df = pd.DataFrame(tasks_data)\n",
    "executed_df = pd.DataFrame(executed_data)\n",
    "\n",
    "# Display the DataFrames\n",
    "print(\"Tasks table:\")\n",
    "print(tasks_df)\n",
    "print(\"\\nExecuted table:\")\n",
    "print(executed_df)\n",
    "\n",
    "\n",
    "df_person = spark.createDataFrame(tasks_df)\n",
    "df_person.createOrReplaceTempView(\"Tasks\")\n",
    "\n",
    "df_person = spark.createDataFrame(executed_df)\n",
    "df_person.createOrReplaceTempView(\"Executed\")\n",
    "\n"
   ]
  },
  {
   "cell_type": "code",
   "execution_count": 7,
   "metadata": {},
   "outputs": [],
   "source": [
    "query = \"\"\"\n",
    "    select\n",
    "        t.task_id,\n",
    "        t.subtask_id\n",
    "    from (\n",
    "        select\n",
    "            t.*,\n",
    "            explode(sequence(1, t.subtasks_count)) as subtask_id\n",
    "        from Tasks t \n",
    "        order by t.task_id, subtask_id asc\n",
    "    ) as t \n",
    "    where (t.task_id, t.subtask_id) not in (\n",
    "        select task_id, subtask_id from Executed\n",
    "    )\n",
    "\"\"\""
   ]
  },
  {
   "cell_type": "code",
   "execution_count": 8,
   "metadata": {},
   "outputs": [
    {
     "name": "stdout",
     "output_type": "stream",
     "text": [
      "+-------+----------+\n",
      "|task_id|subtask_id|\n",
      "+-------+----------+\n",
      "|      1|         1|\n",
      "|      1|         3|\n",
      "|      2|         1|\n",
      "|      2|         2|\n",
      "+-------+----------+\n",
      "\n"
     ]
    }
   ],
   "source": [
    "spark.sql(query).show()"
   ]
  }
 ],
 "metadata": {
  "kernelspec": {
   "display_name": "venv",
   "language": "python",
   "name": "python3"
  },
  "language_info": {
   "codemirror_mode": {
    "name": "ipython",
    "version": 3
   },
   "file_extension": ".py",
   "mimetype": "text/x-python",
   "name": "python",
   "nbconvert_exporter": "python",
   "pygments_lexer": "ipython3",
   "version": "3.11.8"
  }
 },
 "nbformat": 4,
 "nbformat_minor": 2
}
