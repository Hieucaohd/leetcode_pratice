{
 "cells": [
  {
   "cell_type": "code",
   "execution_count": 1,
   "metadata": {},
   "outputs": [
    {
     "name": "stderr",
     "output_type": "stream",
     "text": [
      "/tmp/ipykernel_10701/2081191832.py:4: DeprecationWarning: \n",
      "Pyarrow will become a required dependency of pandas in the next major release of pandas (pandas 3.0),\n",
      "(to allow more performant data types, such as the Arrow string type, and better interoperability with other libraries)\n",
      "but was not found to be installed on your system.\n",
      "If this would cause problems for you,\n",
      "please provide us feedback at https://github.com/pandas-dev/pandas/issues/54466\n",
      "        \n",
      "  import pandas as pd\n"
     ]
    }
   ],
   "source": [
    "from pyspark.sql import SparkSession\n",
    "from pyspark import  SparkContext\n",
    "import os\n",
    "import pandas as pd"
   ]
  },
  {
   "cell_type": "code",
   "execution_count": 2,
   "metadata": {},
   "outputs": [
    {
     "name": "stderr",
     "output_type": "stream",
     "text": [
      "/spark/bin/load-spark-env.sh: line 68: ps: command not found\n",
      "Setting default log level to \"WARN\".\n",
      "To adjust logging level use sc.setLogLevel(newLevel). For SparkR, use setLogLevel(newLevel).\n",
      "24/03/18 02:37:02 WARN NativeCodeLoader: Unable to load native-hadoop library for your platform... using builtin-java classes where applicable\n",
      "24/03/18 02:37:04 WARN Client: Neither spark.yarn.jars nor spark.yarn.archive is set, falling back to uploading libraries under SPARK_HOME.\n"
     ]
    }
   ],
   "source": [
    "spark = SparkSession.builder.master(\"yarn\").getOrCreate()"
   ]
  },
  {
   "cell_type": "code",
   "execution_count": 3,
   "metadata": {},
   "outputs": [
    {
     "name": "stdout",
     "output_type": "stream",
     "text": [
      "Matches table:\n",
      "   player_id   match_day result\n",
      "0          1  2022-01-17    Win\n",
      "1          1  2022-01-18    Win\n",
      "2          1  2022-01-25    Win\n",
      "3          1  2022-01-31   Draw\n",
      "4          1  2022-02-08    Win\n",
      "5          2  2022-02-06   Lose\n",
      "6          2  2022-02-08   Lose\n",
      "7          3  2022-03-30    Win\n"
     ]
    }
   ],
   "source": [
    "import pandas as pd\n",
    "\n",
    "# Sample data for Matches table\n",
    "matches_data = {\n",
    "    'player_id': [1, 1, 1, 1, 1, 2, 2, 3],\n",
    "    'match_day': ['2022-01-17', '2022-01-18', '2022-01-25', '2022-01-31', '2022-02-08', '2022-02-06', '2022-02-08', '2022-03-30'],\n",
    "    'result': ['Win', 'Win', 'Win', 'Draw', 'Win', 'Lose', 'Lose', 'Win']\n",
    "}\n",
    "\n",
    "# Create DataFrame\n",
    "matches_df = pd.DataFrame(matches_data)\n",
    "\n",
    "# Display the DataFrame\n",
    "print(\"Matches table:\")\n",
    "print(matches_df)\n",
    "\n",
    "\n",
    "\n",
    "df_person = spark.createDataFrame(matches_df)\n",
    "df_person.createOrReplaceTempView(\"Matches\")\n",
    "\n"
   ]
  },
  {
   "cell_type": "code",
   "execution_count": 6,
   "metadata": {},
   "outputs": [],
   "source": [
    "query = \"\"\"\n",
    "    select\n",
    "        *,\n",
    "        sum(\n",
    "            case\n",
    "                when result = 'Win' then 0\n",
    "                else 1\n",
    "            end\n",
    "        ) over (partition by player_id order by match_day asc) as group_id\n",
    "    from Matches m\n",
    "\n",
    "\"\"\""
   ]
  },
  {
   "cell_type": "code",
   "execution_count": 7,
   "metadata": {},
   "outputs": [
    {
     "name": "stderr",
     "output_type": "stream",
     "text": [
      "[Stage 5:>                                                          (0 + 1) / 1]\r"
     ]
    },
    {
     "name": "stdout",
     "output_type": "stream",
     "text": [
      "+---------+----------+------+--------+\n",
      "|player_id| match_day|result|group_id|\n",
      "+---------+----------+------+--------+\n",
      "|        1|2022-01-17|   Win|       0|\n",
      "|        1|2022-01-18|   Win|       0|\n",
      "|        1|2022-01-25|   Win|       0|\n",
      "|        1|2022-01-31|  Draw|       1|\n",
      "|        1|2022-02-08|   Win|       1|\n",
      "|        2|2022-02-06|  Lose|       1|\n",
      "|        2|2022-02-08|  Lose|       2|\n",
      "|        3|2022-03-30|   Win|       0|\n",
      "+---------+----------+------+--------+\n",
      "\n"
     ]
    },
    {
     "name": "stderr",
     "output_type": "stream",
     "text": [
      "                                                                                \r"
     ]
    }
   ],
   "source": [
    "spark.sql(query).show()"
   ]
  },
  {
   "cell_type": "code",
   "execution_count": 14,
   "metadata": {},
   "outputs": [],
   "source": [
    "query_result = f\"\"\"\n",
    "    select\n",
    "        t.player_id,\n",
    "        ifnull(k.longest_streak, 0)\n",
    "    from (\n",
    "        select distinct player_id from Matches m order by player_id asc\n",
    "    ) t left join (\n",
    "        select\n",
    "            player_id,\n",
    "            max(total_win) as longest_streak\n",
    "        from (\n",
    "            select\n",
    "                player_id, \n",
    "                group_id, \n",
    "                count(*) as total_win\n",
    "            from (\n",
    "                {query}\n",
    "            ) where result = 'Win'\n",
    "            group by player_id, group_id\n",
    "        ) group by player_id\n",
    "    ) k on t.player_id = k.player_id\n",
    "    order by t.player_id asc\n",
    "\n",
    "\"\"\""
   ]
  },
  {
   "cell_type": "code",
   "execution_count": 15,
   "metadata": {},
   "outputs": [
    {
     "name": "stdout",
     "output_type": "stream",
     "text": [
      "+---------+-------------------------+\n",
      "|player_id|ifnull(longest_streak, 0)|\n",
      "+---------+-------------------------+\n",
      "|        1|                        3|\n",
      "|        2|                        0|\n",
      "|        3|                        1|\n",
      "+---------+-------------------------+\n",
      "\n"
     ]
    }
   ],
   "source": [
    "spark.sql(query_result).show()"
   ]
  }
 ],
 "metadata": {
  "kernelspec": {
   "display_name": "venv",
   "language": "python",
   "name": "python3"
  },
  "language_info": {
   "codemirror_mode": {
    "name": "ipython",
    "version": 3
   },
   "file_extension": ".py",
   "mimetype": "text/x-python",
   "name": "python",
   "nbconvert_exporter": "python",
   "pygments_lexer": "ipython3",
   "version": "3.11.8"
  }
 },
 "nbformat": 4,
 "nbformat_minor": 2
}
