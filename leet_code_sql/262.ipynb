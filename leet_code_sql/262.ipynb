{
 "cells": [
  {
   "cell_type": "code",
   "execution_count": 1,
   "metadata": {},
   "outputs": [
    {
     "name": "stderr",
     "output_type": "stream",
     "text": [
      "/tmp/ipykernel_122123/2081191832.py:4: DeprecationWarning: \n",
      "Pyarrow will become a required dependency of pandas in the next major release of pandas (pandas 3.0),\n",
      "(to allow more performant data types, such as the Arrow string type, and better interoperability with other libraries)\n",
      "but was not found to be installed on your system.\n",
      "If this would cause problems for you,\n",
      "please provide us feedback at https://github.com/pandas-dev/pandas/issues/54466\n",
      "        \n",
      "  import pandas as pd\n"
     ]
    }
   ],
   "source": [
    "from pyspark.sql import SparkSession\n",
    "from pyspark import  SparkContext\n",
    "import os\n",
    "import pandas as pd"
   ]
  },
  {
   "cell_type": "code",
   "execution_count": 2,
   "metadata": {},
   "outputs": [
    {
     "name": "stderr",
     "output_type": "stream",
     "text": [
      "/spark/bin/load-spark-env.sh: line 68: ps: command not found\n",
      "Setting default log level to \"WARN\".\n",
      "To adjust logging level use sc.setLogLevel(newLevel). For SparkR, use setLogLevel(newLevel).\n",
      "24/03/11 10:01:48 WARN NativeCodeLoader: Unable to load native-hadoop library for your platform... using builtin-java classes where applicable\n",
      "24/03/11 10:01:49 WARN Utils: Service 'SparkUI' could not bind on port 4040. Attempting port 4041.\n",
      "24/03/11 10:01:50 WARN Client: Neither spark.yarn.jars nor spark.yarn.archive is set, falling back to uploading libraries under SPARK_HOME.\n"
     ]
    }
   ],
   "source": [
    "spark = SparkSession.builder.master(\"yarn\").getOrCreate()"
   ]
  },
  {
   "cell_type": "code",
   "execution_count": 3,
   "metadata": {},
   "outputs": [],
   "source": [
    "data = [['1', '1', '10', '1', 'completed', '2013-10-01'], ['2', '2', '11', '1', 'cancelled_by_driver', '2013-10-01'], ['3', '3', '12', '6', 'completed', '2013-10-01'], ['4', '4', '13', '6', 'cancelled_by_client', '2013-10-01'], ['5', '1', '10', '1', 'completed', '2013-10-02'], ['6', '2', '11', '6', 'completed', '2013-10-02'], ['7', '3', '12', '6', 'completed', '2013-10-02'], ['8', '2', '12', '12', 'completed', '2013-10-03'], ['9', '3', '10', '12', 'completed', '2013-10-03'], ['10', '4', '13', '12', 'cancelled_by_driver', '2013-10-03']]\n",
    "trips = pd.DataFrame(data, columns=['id', 'client_id', 'driver_id', 'city_id', 'status', 'request_at']).astype({'id':'Int64', 'client_id':'Int64', 'driver_id':'Int64', 'city_id':'Int64', 'status':'object', 'request_at':'object'})\n",
    "\n",
    "data = [['1', 'No', 'client'], ['2', 'Yes', 'client'], ['3', 'No', 'client'], ['4', 'No', 'client'], ['10', 'No', 'driver'], ['11', 'No', 'driver'], ['12', 'No', 'driver'], ['13', 'No', 'driver']]\n",
    "users = pd.DataFrame(data, columns=['users_id', 'banned', 'role']).astype({'users_id':'Int64', 'banned':'object', 'role':'object'})\n",
    "\n",
    "\n",
    "df_person = spark.createDataFrame(trips)\n",
    "# Register the DataFrame as a temporary view\n",
    "df_person.createOrReplaceTempView(\"Trips\")\n",
    "\n",
    "df_person = spark.createDataFrame(users)\n",
    "# Register the DataFrame as a temporary view\n",
    "df_person.createOrReplaceTempView(\"Users\")\n",
    "\n"
   ]
  },
  {
   "cell_type": "code",
   "execution_count": 4,
   "metadata": {},
   "outputs": [
    {
     "name": "stderr",
     "output_type": "stream",
     "text": [
      "                                                                                \r"
     ]
    },
    {
     "name": "stdout",
     "output_type": "stream",
     "text": [
      "+---+---------+---------+-------+-------------------+----------+\n",
      "| id|client_id|driver_id|city_id|             status|request_at|\n",
      "+---+---------+---------+-------+-------------------+----------+\n",
      "|  1|        1|       10|      1|          completed|2013-10-01|\n",
      "|  2|        2|       11|      1|cancelled_by_driver|2013-10-01|\n",
      "|  3|        3|       12|      6|          completed|2013-10-01|\n",
      "|  4|        4|       13|      6|cancelled_by_client|2013-10-01|\n",
      "|  5|        1|       10|      1|          completed|2013-10-02|\n",
      "|  6|        2|       11|      6|          completed|2013-10-02|\n",
      "|  7|        3|       12|      6|          completed|2013-10-02|\n",
      "|  8|        2|       12|     12|          completed|2013-10-03|\n",
      "|  9|        3|       10|     12|          completed|2013-10-03|\n",
      "| 10|        4|       13|     12|cancelled_by_driver|2013-10-03|\n",
      "+---+---------+---------+-------+-------------------+----------+\n",
      "\n",
      "+--------+------+------+\n",
      "|users_id|banned|  role|\n",
      "+--------+------+------+\n",
      "|       1|    No|client|\n",
      "|       2|   Yes|client|\n",
      "|       3|    No|client|\n",
      "|       4|    No|client|\n",
      "|      10|    No|driver|\n",
      "|      11|    No|driver|\n",
      "|      12|    No|driver|\n",
      "|      13|    No|driver|\n",
      "+--------+------+------+\n",
      "\n"
     ]
    }
   ],
   "source": [
    "spark.sql(\"select * from Trips\").show()\n",
    "spark.sql(\"select * from Users\").show()"
   ]
  },
  {
   "cell_type": "code",
   "execution_count": 47,
   "metadata": {},
   "outputs": [],
   "source": [
    "query = \"\"\"\n",
    "\tselect\n",
    "\t\tt.request_at as Day,\n",
    "\t\tround(sum(case when t.status like 'cancelled%' then 1 else 0 end) * 1.0 / count(*), 2) as Cancellation_Rate\n",
    "\tfrom\n",
    "\t\tTrips t \n",
    "  \t\tleft join Users uc on t.client_id = uc.users_id\n",
    "\t\tleft join Users ud on t.driver_id = ud.users_id\n",
    "\twhere uc.banned <> 'Yes' and ud.banned <> 'Yes'\n",
    "    and t.request_at between \"2013-10-01\" and \"2013-10-03\"\n",
    "\tgroup by t.request_at\n",
    "    order by t.request_at asc\n",
    "\n",
    "\"\"\""
   ]
  },
  {
   "cell_type": "code",
   "execution_count": 48,
   "metadata": {},
   "outputs": [
    {
     "name": "stdout",
     "output_type": "stream",
     "text": [
      "+----------+-----------------+\n",
      "|       Day|Cancellation_Rate|\n",
      "+----------+-----------------+\n",
      "|2013-10-01|             0.33|\n",
      "|2013-10-02|             0.00|\n",
      "|2013-10-03|             0.50|\n",
      "+----------+-----------------+\n",
      "\n"
     ]
    }
   ],
   "source": [
    "spark.sql(query).show()"
   ]
  }
 ],
 "metadata": {
  "kernelspec": {
   "display_name": "venv",
   "language": "python",
   "name": "python3"
  },
  "language_info": {
   "codemirror_mode": {
    "name": "ipython",
    "version": 3
   },
   "file_extension": ".py",
   "mimetype": "text/x-python",
   "name": "python",
   "nbconvert_exporter": "python",
   "pygments_lexer": "ipython3",
   "version": "3.11.8"
  }
 },
 "nbformat": 4,
 "nbformat_minor": 2
}
