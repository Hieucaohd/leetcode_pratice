{
 "cells": [
  {
   "cell_type": "code",
   "execution_count": 1,
   "metadata": {},
   "outputs": [
    {
     "name": "stderr",
     "output_type": "stream",
     "text": [
      "/tmp/ipykernel_64879/2081191832.py:4: DeprecationWarning: \n",
      "Pyarrow will become a required dependency of pandas in the next major release of pandas (pandas 3.0),\n",
      "(to allow more performant data types, such as the Arrow string type, and better interoperability with other libraries)\n",
      "but was not found to be installed on your system.\n",
      "If this would cause problems for you,\n",
      "please provide us feedback at https://github.com/pandas-dev/pandas/issues/54466\n",
      "        \n",
      "  import pandas as pd\n"
     ]
    }
   ],
   "source": [
    "from pyspark.sql import SparkSession\n",
    "from pyspark import  SparkContext\n",
    "import os\n",
    "import pandas as pd"
   ]
  },
  {
   "cell_type": "code",
   "execution_count": 2,
   "metadata": {},
   "outputs": [
    {
     "name": "stderr",
     "output_type": "stream",
     "text": [
      "/spark/bin/load-spark-env.sh: line 68: ps: command not found\n",
      "Setting default log level to \"WARN\".\n",
      "To adjust logging level use sc.setLogLevel(newLevel). For SparkR, use setLogLevel(newLevel).\n",
      "24/03/21 13:34:59 WARN NativeCodeLoader: Unable to load native-hadoop library for your platform... using builtin-java classes where applicable\n",
      "24/03/21 13:35:01 WARN Client: Neither spark.yarn.jars nor spark.yarn.archive is set, falling back to uploading libraries under SPARK_HOME.\n"
     ]
    }
   ],
   "source": [
    "spark = SparkSession.builder.master(\"yarn\").getOrCreate()"
   ]
  },
  {
   "cell_type": "code",
   "execution_count": 8,
   "metadata": {},
   "outputs": [
    {
     "name": "stdout",
     "output_type": "stream",
     "text": [
      "Project table:\n",
      "   project_id  employee_id  workload\n",
      "0           1            1        45\n",
      "1           1            2        90\n",
      "2           2            3        12\n",
      "3           2            4        68\n",
      "\n",
      "Employees table:\n",
      "   employee_id    name team\n",
      "0            1  Khaled    A\n",
      "1            2     Ali    B\n",
      "2            3    John    B\n",
      "3            4     Doe    A\n"
     ]
    }
   ],
   "source": [
    "import pandas as pd\n",
    "\n",
    "# Sample data for Project table\n",
    "project_data = {\n",
    "    'project_id': [1, 1, 2, 2],\n",
    "    'employee_id': [1, 2, 3, 4],\n",
    "    'workload': [45, 90, 12, 68]\n",
    "}\n",
    "\n",
    "# Sample data for Employees table\n",
    "employees_data = {\n",
    "    'employee_id': [1, 2, 3, 4],\n",
    "    'name': ['Khaled', 'Ali', 'John', 'Doe'],\n",
    "    'team': ['A', 'B', 'B', 'A']\n",
    "}\n",
    "\n",
    "# Create DataFrame for Project\n",
    "project_df = pd.DataFrame(project_data)\n",
    "\n",
    "# Create DataFrame for Employees\n",
    "employees_df = pd.DataFrame(employees_data)\n",
    "\n",
    "# Display the DataFrames\n",
    "print(\"Project table:\")\n",
    "print(project_df)\n",
    "print(\"\\nEmployees table:\")\n",
    "print(employees_df)\n",
    "\n",
    "\n",
    "df_person = spark.createDataFrame(project_df)\n",
    "df_person.createOrReplaceTempView(\"Project\")\n",
    "\n",
    "df_person = spark.createDataFrame(employees_df)\n",
    "df_person.createOrReplaceTempView(\"Employees\")\n",
    "\n"
   ]
  },
  {
   "cell_type": "code",
   "execution_count": 15,
   "metadata": {},
   "outputs": [],
   "source": [
    "query = \"\"\"\n",
    "    select \n",
    "        *\n",
    "    from (\n",
    "        select\n",
    "            e.employee_id,\n",
    "            p.project_id,\n",
    "            e.name as employee_name,\n",
    "            p.workload as project_workload,\n",
    "            avg(p.workload) over(partition by e.team) as average_workload\n",
    "        from Employees e left join Project p on e.employee_id = p.employee_id\n",
    "    ) where project_workload > average_workload\n",
    "\"\"\""
   ]
  },
  {
   "cell_type": "code",
   "execution_count": 16,
   "metadata": {},
   "outputs": [
    {
     "name": "stdout",
     "output_type": "stream",
     "text": [
      "+-----------+----------+-------------+----------------+----------------+\n",
      "|employee_id|project_id|employee_name|project_workload|average_workload|\n",
      "+-----------+----------+-------------+----------------+----------------+\n",
      "|          4|         2|          Doe|              68|            56.5|\n",
      "|          2|         1|          Ali|              90|            51.0|\n",
      "+-----------+----------+-------------+----------------+----------------+\n",
      "\n"
     ]
    }
   ],
   "source": [
    "spark.sql(query).show()"
   ]
  }
 ],
 "metadata": {
  "kernelspec": {
   "display_name": "venv",
   "language": "python",
   "name": "python3"
  },
  "language_info": {
   "codemirror_mode": {
    "name": "ipython",
    "version": 3
   },
   "file_extension": ".py",
   "mimetype": "text/x-python",
   "name": "python",
   "nbconvert_exporter": "python",
   "pygments_lexer": "ipython3",
   "version": "3.11.8"
  }
 },
 "nbformat": 4,
 "nbformat_minor": 2
}
