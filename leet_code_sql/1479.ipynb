{
 "cells": [
  {
   "cell_type": "code",
   "execution_count": 1,
   "metadata": {},
   "outputs": [
    {
     "name": "stderr",
     "output_type": "stream",
     "text": [
      "/tmp/ipykernel_289320/2081191832.py:4: DeprecationWarning: \n",
      "Pyarrow will become a required dependency of pandas in the next major release of pandas (pandas 3.0),\n",
      "(to allow more performant data types, such as the Arrow string type, and better interoperability with other libraries)\n",
      "but was not found to be installed on your system.\n",
      "If this would cause problems for you,\n",
      "please provide us feedback at https://github.com/pandas-dev/pandas/issues/54466\n",
      "        \n",
      "  import pandas as pd\n"
     ]
    }
   ],
   "source": [
    "from pyspark.sql import SparkSession\n",
    "from pyspark import  SparkContext\n",
    "import os\n",
    "import pandas as pd"
   ]
  },
  {
   "cell_type": "code",
   "execution_count": 2,
   "metadata": {},
   "outputs": [
    {
     "name": "stderr",
     "output_type": "stream",
     "text": [
      "/spark/bin/load-spark-env.sh: line 68: ps: command not found\n",
      "Setting default log level to \"WARN\".\n",
      "To adjust logging level use sc.setLogLevel(newLevel). For SparkR, use setLogLevel(newLevel).\n",
      "24/03/15 10:30:47 WARN NativeCodeLoader: Unable to load native-hadoop library for your platform... using builtin-java classes where applicable\n",
      "24/03/15 10:30:48 WARN Client: Neither spark.yarn.jars nor spark.yarn.archive is set, falling back to uploading libraries under SPARK_HOME.\n"
     ]
    }
   ],
   "source": [
    "spark = SparkSession.builder.master(\"yarn\").getOrCreate()"
   ]
  },
  {
   "cell_type": "code",
   "execution_count": 6,
   "metadata": {},
   "outputs": [],
   "source": [
    "import pandas as pd\n",
    "\n",
    "# Sample data for Orders table\n",
    "orders_data = {\n",
    "    'order_id': [1, 2, 3, 4, 5, 6, 7, 8, 9],\n",
    "    'customer_id': [1, 1, 2, 3, 4, 4, 5, 5, 5],\n",
    "    'order_date': ['2020-06-01', '2020-06-08', '2020-06-02', '2020-06-03', '2020-06-04', '2020-06-05', '2020-06-05', '2020-06-14', '2020-06-21'],\n",
    "    'item_id': [1, 2, 1, 3, 4, 5, 1, 4, 3],\n",
    "    'quantity': [10, 10, 5, 5, 1, 5, 10, 5, 5]\n",
    "}\n",
    "\n",
    "# Sample data for Items table\n",
    "items_data = {\n",
    "    'item_id': [1, 2, 3, 4, 5, 6],\n",
    "    'item_name': ['LC Alg. Book', 'LC DB. Book', 'LC SmarthPhone', 'LC Phone 2020', 'LC SmartGlass', 'LC T-Shirt XL'],\n",
    "    'item_category': ['Book', 'Book', 'Phone', 'Phone', 'Glasses', 'T-Shirt']\n",
    "}\n",
    "\n",
    "# Create DataFrame for Orders and Items tables\n",
    "orders_df = pd.DataFrame(orders_data)\n",
    "items_df = pd.DataFrame(items_data)\n",
    "\n",
    "\n",
    "df_person = spark.createDataFrame(orders_df)\n",
    "df_person.createOrReplaceTempView(\"Orders\")\n",
    "\n",
    "df_person = spark.createDataFrame(items_df)\n",
    "df_person.createOrReplaceTempView(\"Items\")\n",
    "\n"
   ]
  },
  {
   "cell_type": "code",
   "execution_count": 4,
   "metadata": {},
   "outputs": [
    {
     "data": {
      "text/html": [
       "<div>\n",
       "<style scoped>\n",
       "    .dataframe tbody tr th:only-of-type {\n",
       "        vertical-align: middle;\n",
       "    }\n",
       "\n",
       "    .dataframe tbody tr th {\n",
       "        vertical-align: top;\n",
       "    }\n",
       "\n",
       "    .dataframe thead th {\n",
       "        text-align: right;\n",
       "    }\n",
       "</style>\n",
       "<table border=\"1\" class=\"dataframe\">\n",
       "  <thead>\n",
       "    <tr style=\"text-align: right;\">\n",
       "      <th></th>\n",
       "      <th>order_id</th>\n",
       "      <th>customer_id</th>\n",
       "      <th>order_date</th>\n",
       "      <th>item_id</th>\n",
       "      <th>quantity</th>\n",
       "    </tr>\n",
       "  </thead>\n",
       "  <tbody>\n",
       "    <tr>\n",
       "      <th>0</th>\n",
       "      <td>1</td>\n",
       "      <td>1</td>\n",
       "      <td>2020-06-01</td>\n",
       "      <td>1</td>\n",
       "      <td>10</td>\n",
       "    </tr>\n",
       "    <tr>\n",
       "      <th>1</th>\n",
       "      <td>2</td>\n",
       "      <td>1</td>\n",
       "      <td>2020-06-08</td>\n",
       "      <td>2</td>\n",
       "      <td>10</td>\n",
       "    </tr>\n",
       "    <tr>\n",
       "      <th>2</th>\n",
       "      <td>3</td>\n",
       "      <td>2</td>\n",
       "      <td>2020-06-02</td>\n",
       "      <td>1</td>\n",
       "      <td>5</td>\n",
       "    </tr>\n",
       "    <tr>\n",
       "      <th>3</th>\n",
       "      <td>4</td>\n",
       "      <td>3</td>\n",
       "      <td>2020-06-03</td>\n",
       "      <td>3</td>\n",
       "      <td>5</td>\n",
       "    </tr>\n",
       "    <tr>\n",
       "      <th>4</th>\n",
       "      <td>5</td>\n",
       "      <td>4</td>\n",
       "      <td>2020-06-04</td>\n",
       "      <td>4</td>\n",
       "      <td>1</td>\n",
       "    </tr>\n",
       "    <tr>\n",
       "      <th>5</th>\n",
       "      <td>6</td>\n",
       "      <td>4</td>\n",
       "      <td>2020-06-05</td>\n",
       "      <td>5</td>\n",
       "      <td>5</td>\n",
       "    </tr>\n",
       "    <tr>\n",
       "      <th>6</th>\n",
       "      <td>7</td>\n",
       "      <td>5</td>\n",
       "      <td>2020-06-05</td>\n",
       "      <td>1</td>\n",
       "      <td>10</td>\n",
       "    </tr>\n",
       "    <tr>\n",
       "      <th>7</th>\n",
       "      <td>8</td>\n",
       "      <td>5</td>\n",
       "      <td>2020-06-14</td>\n",
       "      <td>4</td>\n",
       "      <td>5</td>\n",
       "    </tr>\n",
       "    <tr>\n",
       "      <th>8</th>\n",
       "      <td>9</td>\n",
       "      <td>5</td>\n",
       "      <td>2020-06-21</td>\n",
       "      <td>3</td>\n",
       "      <td>5</td>\n",
       "    </tr>\n",
       "  </tbody>\n",
       "</table>\n",
       "</div>"
      ],
      "text/plain": [
       "   order_id  customer_id  order_date  item_id  quantity\n",
       "0         1            1  2020-06-01        1        10\n",
       "1         2            1  2020-06-08        2        10\n",
       "2         3            2  2020-06-02        1         5\n",
       "3         4            3  2020-06-03        3         5\n",
       "4         5            4  2020-06-04        4         1\n",
       "5         6            4  2020-06-05        5         5\n",
       "6         7            5  2020-06-05        1        10\n",
       "7         8            5  2020-06-14        4         5\n",
       "8         9            5  2020-06-21        3         5"
      ]
     },
     "execution_count": 4,
     "metadata": {},
     "output_type": "execute_result"
    }
   ],
   "source": [
    "orders_df"
   ]
  },
  {
   "cell_type": "code",
   "execution_count": 5,
   "metadata": {},
   "outputs": [
    {
     "data": {
      "text/html": [
       "<div>\n",
       "<style scoped>\n",
       "    .dataframe tbody tr th:only-of-type {\n",
       "        vertical-align: middle;\n",
       "    }\n",
       "\n",
       "    .dataframe tbody tr th {\n",
       "        vertical-align: top;\n",
       "    }\n",
       "\n",
       "    .dataframe thead th {\n",
       "        text-align: right;\n",
       "    }\n",
       "</style>\n",
       "<table border=\"1\" class=\"dataframe\">\n",
       "  <thead>\n",
       "    <tr style=\"text-align: right;\">\n",
       "      <th></th>\n",
       "      <th>item_id</th>\n",
       "      <th>item_name</th>\n",
       "      <th>item_category</th>\n",
       "    </tr>\n",
       "  </thead>\n",
       "  <tbody>\n",
       "    <tr>\n",
       "      <th>0</th>\n",
       "      <td>1</td>\n",
       "      <td>LC Alg. Book</td>\n",
       "      <td>Book</td>\n",
       "    </tr>\n",
       "    <tr>\n",
       "      <th>1</th>\n",
       "      <td>2</td>\n",
       "      <td>LC DB. Book</td>\n",
       "      <td>Book</td>\n",
       "    </tr>\n",
       "    <tr>\n",
       "      <th>2</th>\n",
       "      <td>3</td>\n",
       "      <td>LC SmarthPhone</td>\n",
       "      <td>Phone</td>\n",
       "    </tr>\n",
       "    <tr>\n",
       "      <th>3</th>\n",
       "      <td>4</td>\n",
       "      <td>LC Phone 2020</td>\n",
       "      <td>Phone</td>\n",
       "    </tr>\n",
       "    <tr>\n",
       "      <th>4</th>\n",
       "      <td>5</td>\n",
       "      <td>LC SmartGlass</td>\n",
       "      <td>Glasses</td>\n",
       "    </tr>\n",
       "    <tr>\n",
       "      <th>5</th>\n",
       "      <td>6</td>\n",
       "      <td>LC T-Shirt XL</td>\n",
       "      <td>T-Shirt</td>\n",
       "    </tr>\n",
       "  </tbody>\n",
       "</table>\n",
       "</div>"
      ],
      "text/plain": [
       "   item_id       item_name item_category\n",
       "0        1    LC Alg. Book          Book\n",
       "1        2     LC DB. Book          Book\n",
       "2        3  LC SmarthPhone         Phone\n",
       "3        4   LC Phone 2020         Phone\n",
       "4        5   LC SmartGlass       Glasses\n",
       "5        6   LC T-Shirt XL       T-Shirt"
      ]
     },
     "execution_count": 5,
     "metadata": {},
     "output_type": "execute_result"
    }
   ],
   "source": [
    "items_df"
   ]
  },
  {
   "cell_type": "code",
   "execution_count": 63,
   "metadata": {},
   "outputs": [],
   "source": [
    "query_0 = \"\"\"\n",
    "    select\n",
    "        o.*,\n",
    "        dayofweek(o.order_date) as day_of_week,\n",
    "        date_format(o.order_date, 'EEEE') AS day_of_week_name,\n",
    "        i.item_category\n",
    "    from\n",
    "        Orders o left join Items i on o.item_id = i.item_id\n",
    "    where i.item_category = 'Phone' \n",
    "    order by day_of_week asc\n",
    "\"\"\""
   ]
  },
  {
   "cell_type": "code",
   "execution_count": 64,
   "metadata": {},
   "outputs": [
    {
     "name": "stdout",
     "output_type": "stream",
     "text": [
      "+--------+-----------+----------+-------+--------+-----------+----------------+-------------+\n",
      "|order_id|customer_id|order_date|item_id|quantity|day_of_week|day_of_week_name|item_category|\n",
      "+--------+-----------+----------+-------+--------+-----------+----------------+-------------+\n",
      "|       9|          5|2020-06-21|      3|       5|          1|          Sunday|        Phone|\n",
      "|       8|          5|2020-06-14|      4|       5|          1|          Sunday|        Phone|\n",
      "|       4|          3|2020-06-03|      3|       5|          4|       Wednesday|        Phone|\n",
      "|       5|          4|2020-06-04|      4|       1|          5|        Thursday|        Phone|\n",
      "+--------+-----------+----------+-------+--------+-----------+----------------+-------------+\n",
      "\n"
     ]
    }
   ],
   "source": [
    "spark.sql(query_0).show()"
   ]
  },
  {
   "cell_type": "code",
   "execution_count": 65,
   "metadata": {},
   "outputs": [],
   "source": [
    "query = \"\"\"\n",
    "    with t as (\n",
    "        select\n",
    "            o.*,\n",
    "            dayofweek(o.order_date) as day_of_week,\n",
    "            date_format(o.order_date, 'EEEE') AS day_of_week_name,\n",
    "            i.item_category\n",
    "        from\n",
    "            Orders o left join Items i on o.item_id = i.item_id\n",
    "    )\n",
    "        \n",
    "    select\n",
    "        k.item_category,\n",
    "        r.day_of_week,\n",
    "        ifnull(t.quantity, 0) as quantity\n",
    "    from (\n",
    "        select distinct item_category from Items t\n",
    "    ) as k \n",
    "    cross join (\n",
    "        select explode(sequence(1, 7)) as day_of_week \n",
    "    ) as r \n",
    "    left join t \n",
    "        on k.item_category = t.item_category \n",
    "        and r.day_of_week = t.day_of_week\n",
    "    order by item_category, day_of_week asc\n",
    "\n",
    "\"\"\""
   ]
  },
  {
   "cell_type": "code",
   "execution_count": 66,
   "metadata": {},
   "outputs": [
    {
     "name": "stdout",
     "output_type": "stream",
     "text": [
      "+-------------+-----------+--------+\n",
      "|item_category|day_of_week|quantity|\n",
      "+-------------+-----------+--------+\n",
      "|         Book|          1|       0|\n",
      "|         Book|          2|      10|\n",
      "|         Book|          2|      10|\n",
      "|         Book|          3|       5|\n",
      "|         Book|          4|       0|\n",
      "|         Book|          5|       0|\n",
      "|         Book|          6|      10|\n",
      "|         Book|          7|       0|\n",
      "|      Glasses|          1|       0|\n",
      "|      Glasses|          2|       0|\n",
      "|      Glasses|          3|       0|\n",
      "|      Glasses|          4|       0|\n",
      "|      Glasses|          5|       0|\n",
      "|      Glasses|          6|       5|\n",
      "|      Glasses|          7|       0|\n",
      "|        Phone|          1|       5|\n",
      "|        Phone|          1|       5|\n",
      "|        Phone|          2|       0|\n",
      "|        Phone|          3|       0|\n",
      "|        Phone|          4|       5|\n",
      "|        Phone|          5|       1|\n",
      "|        Phone|          6|       0|\n",
      "|        Phone|          7|       0|\n",
      "|      T-Shirt|          1|       0|\n",
      "|      T-Shirt|          2|       0|\n",
      "|      T-Shirt|          3|       0|\n",
      "|      T-Shirt|          4|       0|\n",
      "|      T-Shirt|          5|       0|\n",
      "|      T-Shirt|          6|       0|\n",
      "|      T-Shirt|          7|       0|\n",
      "+-------------+-----------+--------+\n",
      "\n"
     ]
    }
   ],
   "source": [
    "spark.sql(query).show(10000)"
   ]
  },
  {
   "cell_type": "code",
   "execution_count": 69,
   "metadata": {},
   "outputs": [],
   "source": [
    "query_1 = f\"\"\"\n",
    "    select * from (\n",
    "        select\n",
    "            item_category, day_of_week, quantity\n",
    "        from (\n",
    "            {query}   \n",
    "        )\n",
    "    )\n",
    "    \n",
    "    pivot (\n",
    "        sum(quantity)\n",
    "        for day_of_week in (\n",
    "            2 Monday, \n",
    "            3 Tuesday, \n",
    "            4 Wednesday, \n",
    "            5 Thursday, \n",
    "            6 Friday, \n",
    "            7 Saturday, \n",
    "            1 Sunday \n",
    "        )\n",
    "    )\n",
    "    order by item_category\n",
    "\"\"\""
   ]
  },
  {
   "cell_type": "code",
   "execution_count": 70,
   "metadata": {},
   "outputs": [
    {
     "name": "stdout",
     "output_type": "stream",
     "text": [
      "+-------------+------+-------+---------+--------+------+--------+------+\n",
      "|item_category|Monday|Tuesday|Wednesday|Thursday|Friday|Saturday|Sunday|\n",
      "+-------------+------+-------+---------+--------+------+--------+------+\n",
      "|         Book|    20|      5|        0|       0|    10|       0|     0|\n",
      "|      Glasses|     0|      0|        0|       0|     5|       0|     0|\n",
      "|        Phone|     0|      0|        5|       1|     0|       0|    10|\n",
      "|      T-Shirt|     0|      0|        0|       0|     0|       0|     0|\n",
      "+-------------+------+-------+---------+--------+------+--------+------+\n",
      "\n"
     ]
    }
   ],
   "source": [
    "spark.sql(query_1).show()"
   ]
  }
 ],
 "metadata": {
  "kernelspec": {
   "display_name": "venv",
   "language": "python",
   "name": "python3"
  },
  "language_info": {
   "codemirror_mode": {
    "name": "ipython",
    "version": 3
   },
   "file_extension": ".py",
   "mimetype": "text/x-python",
   "name": "python",
   "nbconvert_exporter": "python",
   "pygments_lexer": "ipython3",
   "version": "3.11.8"
  }
 },
 "nbformat": 4,
 "nbformat_minor": 2
}
