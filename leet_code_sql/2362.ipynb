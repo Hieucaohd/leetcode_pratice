{
 "cells": [
  {
   "cell_type": "code",
   "execution_count": 1,
   "metadata": {},
   "outputs": [
    {
     "name": "stderr",
     "output_type": "stream",
     "text": [
      "/tmp/ipykernel_515820/2081191832.py:4: DeprecationWarning: \n",
      "Pyarrow will become a required dependency of pandas in the next major release of pandas (pandas 3.0),\n",
      "(to allow more performant data types, such as the Arrow string type, and better interoperability with other libraries)\n",
      "but was not found to be installed on your system.\n",
      "If this would cause problems for you,\n",
      "please provide us feedback at https://github.com/pandas-dev/pandas/issues/54466\n",
      "        \n",
      "  import pandas as pd\n"
     ]
    }
   ],
   "source": [
    "from pyspark.sql import SparkSession\n",
    "from pyspark import  SparkContext\n",
    "import os\n",
    "import pandas as pd"
   ]
  },
  {
   "cell_type": "code",
   "execution_count": 2,
   "metadata": {},
   "outputs": [
    {
     "name": "stderr",
     "output_type": "stream",
     "text": [
      "/spark/bin/load-spark-env.sh: line 68: ps: command not found\n",
      "Setting default log level to \"WARN\".\n",
      "To adjust logging level use sc.setLogLevel(newLevel). For SparkR, use setLogLevel(newLevel).\n",
      "24/03/18 16:25:57 WARN NativeCodeLoader: Unable to load native-hadoop library for your platform... using builtin-java classes where applicable\n",
      "24/03/18 16:25:59 WARN Client: Neither spark.yarn.jars nor spark.yarn.archive is set, falling back to uploading libraries under SPARK_HOME.\n"
     ]
    }
   ],
   "source": [
    "spark = SparkSession.builder.master(\"yarn\").getOrCreate()"
   ]
  },
  {
   "cell_type": "code",
   "execution_count": 3,
   "metadata": {},
   "outputs": [
    {
     "name": "stdout",
     "output_type": "stream",
     "text": [
      "Products table:\n",
      "   product_id  price\n",
      "0           1    100\n",
      "1           2    200\n",
      "\n",
      "Purchases table:\n",
      "   invoice_id  product_id  quantity\n",
      "0           1           1         2\n",
      "1           3           2         1\n",
      "2           2           2         3\n",
      "3           2           1         4\n",
      "4           4           1        10\n"
     ]
    }
   ],
   "source": [
    "import pandas as pd\n",
    "\n",
    "# Sample data for Products table\n",
    "products_data = {\n",
    "    'product_id': [1, 2],\n",
    "    'price': [100, 200]\n",
    "}\n",
    "\n",
    "# Sample data for Purchases table\n",
    "purchases_data = {\n",
    "    'invoice_id': [1, 3, 2, 2, 4],\n",
    "    'product_id': [1, 2, 2, 1, 1],\n",
    "    'quantity': [2, 1, 3, 4, 10]\n",
    "}\n",
    "\n",
    "# Create DataFrame for Products\n",
    "products_df = pd.DataFrame(products_data)\n",
    "\n",
    "# Create DataFrame for Purchases\n",
    "purchases_df = pd.DataFrame(purchases_data)\n",
    "\n",
    "# Display the DataFrames\n",
    "print(\"Products table:\")\n",
    "print(products_df)\n",
    "print(\"\\nPurchases table:\")\n",
    "print(purchases_df)\n",
    "\n",
    "\n",
    "\n",
    "df_person = spark.createDataFrame(products_df)\n",
    "df_person.createOrReplaceTempView(\"Products\")\n",
    "\n",
    "df_person = spark.createDataFrame(purchases_df)\n",
    "df_person.createOrReplaceTempView(\"Purchases\")\n",
    "\n"
   ]
  },
  {
   "cell_type": "code",
   "execution_count": 8,
   "metadata": {},
   "outputs": [],
   "source": [
    "query = \"\"\"\n",
    "    with t as (\n",
    "        select\n",
    "            pu.*,\n",
    "            pr.price * pu.quantity as total_price\n",
    "        from Purchases pu left join Products pr on pu.product_id = pr.product_id \n",
    "    )\n",
    "\n",
    "    select\n",
    "        t.product_id,\n",
    "        t.quantity,\n",
    "        t.total_price\n",
    "    from (\n",
    "        select\n",
    "            invoice_id,\n",
    "            sum(total_price) as total_price\n",
    "        from t \n",
    "        group by invoice_id\n",
    "        order by total_price desc, invoice_id \n",
    "        limit 1\n",
    "    ) as k left join t on k.invoice_id = t.invoice_id\n",
    "\n",
    "\"\"\""
   ]
  },
  {
   "cell_type": "code",
   "execution_count": 9,
   "metadata": {},
   "outputs": [
    {
     "name": "stdout",
     "output_type": "stream",
     "text": [
      "+----------+--------+-----------+\n",
      "|product_id|quantity|total_price|\n",
      "+----------+--------+-----------+\n",
      "|         2|       3|        600|\n",
      "|         1|       4|        400|\n",
      "+----------+--------+-----------+\n",
      "\n"
     ]
    }
   ],
   "source": [
    "spark.sql(query).show()"
   ]
  }
 ],
 "metadata": {
  "kernelspec": {
   "display_name": "venv",
   "language": "python",
   "name": "python3"
  },
  "language_info": {
   "codemirror_mode": {
    "name": "ipython",
    "version": 3
   },
   "file_extension": ".py",
   "mimetype": "text/x-python",
   "name": "python",
   "nbconvert_exporter": "python",
   "pygments_lexer": "ipython3",
   "version": "3.11.8"
  }
 },
 "nbformat": 4,
 "nbformat_minor": 2
}
