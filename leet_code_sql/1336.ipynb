{
 "cells": [
  {
   "cell_type": "code",
   "execution_count": 1,
   "metadata": {},
   "outputs": [
    {
     "name": "stderr",
     "output_type": "stream",
     "text": [
      "/tmp/ipykernel_358722/2081191832.py:4: DeprecationWarning: \n",
      "Pyarrow will become a required dependency of pandas in the next major release of pandas (pandas 3.0),\n",
      "(to allow more performant data types, such as the Arrow string type, and better interoperability with other libraries)\n",
      "but was not found to be installed on your system.\n",
      "If this would cause problems for you,\n",
      "please provide us feedback at https://github.com/pandas-dev/pandas/issues/54466\n",
      "        \n",
      "  import pandas as pd\n"
     ]
    }
   ],
   "source": [
    "from pyspark.sql import SparkSession\n",
    "from pyspark import  SparkContext\n",
    "import os\n",
    "import pandas as pd"
   ]
  },
  {
   "cell_type": "code",
   "execution_count": 2,
   "metadata": {},
   "outputs": [
    {
     "name": "stderr",
     "output_type": "stream",
     "text": [
      "/spark/bin/load-spark-env.sh: line 68: ps: command not found\n",
      "Setting default log level to \"WARN\".\n",
      "To adjust logging level use sc.setLogLevel(newLevel). For SparkR, use setLogLevel(newLevel).\n",
      "24/03/14 15:56:23 WARN NativeCodeLoader: Unable to load native-hadoop library for your platform... using builtin-java classes where applicable\n",
      "24/03/14 15:56:24 WARN Utils: Service 'SparkUI' could not bind on port 4040. Attempting port 4041.\n",
      "24/03/14 15:56:24 WARN Client: Neither spark.yarn.jars nor spark.yarn.archive is set, falling back to uploading libraries under SPARK_HOME.\n"
     ]
    }
   ],
   "source": [
    "spark = SparkSession.builder.master(\"yarn\").getOrCreate()"
   ]
  },
  {
   "cell_type": "code",
   "execution_count": 3,
   "metadata": {},
   "outputs": [],
   "source": [
    "import pandas as pd\n",
    "\n",
    "# Sample data for Visits table\n",
    "visits_data = {\n",
    "    'user_id': [1, 2, 12, 19, 1, 2, 1, 7, 9, 8],\n",
    "    'visit_date': ['2020-01-01', '2020-01-02', '2020-01-01', '2020-01-03', '2020-01-02', '2020-01-03', '2020-01-04', '2020-01-11', '2020-01-25', '2020-01-28']\n",
    "}\n",
    "\n",
    "# Sample data for Transactions table\n",
    "transactions_data = {\n",
    "    'user_id': [1, 2, 7, 1, 9, 9, 8, 9],\n",
    "    'transaction_date': ['2020-01-02', '2020-01-03', '2020-01-11', '2020-01-04', '2020-01-25', '2020-01-25', '2020-01-28', '2020-01-25'],\n",
    "    'amount': [120, 22, 232, 7, 33, 66, 1, 99]\n",
    "}\n",
    "\n",
    "# Convert date strings to datetime objects\n",
    "visits_df = pd.DataFrame(visits_data)\n",
    "visits_df['visit_date'] = pd.to_datetime(visits_df['visit_date'])\n",
    "\n",
    "transactions_df = pd.DataFrame(transactions_data)\n",
    "transactions_df['transaction_date'] = pd.to_datetime(transactions_df['transaction_date'])\n",
    "\n",
    "\n",
    "\n",
    "df_person = spark.createDataFrame(visits_df)\n",
    "df_person.createOrReplaceTempView(\"Visits\")\n",
    "\n",
    "df_person = spark.createDataFrame(transactions_df)\n",
    "df_person.createOrReplaceTempView(\"Transactions\")\n",
    "\n"
   ]
  },
  {
   "cell_type": "code",
   "execution_count": 4,
   "metadata": {},
   "outputs": [
    {
     "data": {
      "text/html": [
       "<div>\n",
       "<style scoped>\n",
       "    .dataframe tbody tr th:only-of-type {\n",
       "        vertical-align: middle;\n",
       "    }\n",
       "\n",
       "    .dataframe tbody tr th {\n",
       "        vertical-align: top;\n",
       "    }\n",
       "\n",
       "    .dataframe thead th {\n",
       "        text-align: right;\n",
       "    }\n",
       "</style>\n",
       "<table border=\"1\" class=\"dataframe\">\n",
       "  <thead>\n",
       "    <tr style=\"text-align: right;\">\n",
       "      <th></th>\n",
       "      <th>user_id</th>\n",
       "      <th>visit_date</th>\n",
       "    </tr>\n",
       "  </thead>\n",
       "  <tbody>\n",
       "    <tr>\n",
       "      <th>0</th>\n",
       "      <td>1</td>\n",
       "      <td>2020-01-01</td>\n",
       "    </tr>\n",
       "    <tr>\n",
       "      <th>1</th>\n",
       "      <td>2</td>\n",
       "      <td>2020-01-02</td>\n",
       "    </tr>\n",
       "    <tr>\n",
       "      <th>2</th>\n",
       "      <td>12</td>\n",
       "      <td>2020-01-01</td>\n",
       "    </tr>\n",
       "    <tr>\n",
       "      <th>3</th>\n",
       "      <td>19</td>\n",
       "      <td>2020-01-03</td>\n",
       "    </tr>\n",
       "    <tr>\n",
       "      <th>4</th>\n",
       "      <td>1</td>\n",
       "      <td>2020-01-02</td>\n",
       "    </tr>\n",
       "    <tr>\n",
       "      <th>5</th>\n",
       "      <td>2</td>\n",
       "      <td>2020-01-03</td>\n",
       "    </tr>\n",
       "    <tr>\n",
       "      <th>6</th>\n",
       "      <td>1</td>\n",
       "      <td>2020-01-04</td>\n",
       "    </tr>\n",
       "    <tr>\n",
       "      <th>7</th>\n",
       "      <td>7</td>\n",
       "      <td>2020-01-11</td>\n",
       "    </tr>\n",
       "    <tr>\n",
       "      <th>8</th>\n",
       "      <td>9</td>\n",
       "      <td>2020-01-25</td>\n",
       "    </tr>\n",
       "    <tr>\n",
       "      <th>9</th>\n",
       "      <td>8</td>\n",
       "      <td>2020-01-28</td>\n",
       "    </tr>\n",
       "  </tbody>\n",
       "</table>\n",
       "</div>"
      ],
      "text/plain": [
       "   user_id visit_date\n",
       "0        1 2020-01-01\n",
       "1        2 2020-01-02\n",
       "2       12 2020-01-01\n",
       "3       19 2020-01-03\n",
       "4        1 2020-01-02\n",
       "5        2 2020-01-03\n",
       "6        1 2020-01-04\n",
       "7        7 2020-01-11\n",
       "8        9 2020-01-25\n",
       "9        8 2020-01-28"
      ]
     },
     "execution_count": 4,
     "metadata": {},
     "output_type": "execute_result"
    }
   ],
   "source": [
    "visits_df"
   ]
  },
  {
   "cell_type": "code",
   "execution_count": 5,
   "metadata": {},
   "outputs": [
    {
     "data": {
      "text/html": [
       "<div>\n",
       "<style scoped>\n",
       "    .dataframe tbody tr th:only-of-type {\n",
       "        vertical-align: middle;\n",
       "    }\n",
       "\n",
       "    .dataframe tbody tr th {\n",
       "        vertical-align: top;\n",
       "    }\n",
       "\n",
       "    .dataframe thead th {\n",
       "        text-align: right;\n",
       "    }\n",
       "</style>\n",
       "<table border=\"1\" class=\"dataframe\">\n",
       "  <thead>\n",
       "    <tr style=\"text-align: right;\">\n",
       "      <th></th>\n",
       "      <th>user_id</th>\n",
       "      <th>transaction_date</th>\n",
       "      <th>amount</th>\n",
       "    </tr>\n",
       "  </thead>\n",
       "  <tbody>\n",
       "    <tr>\n",
       "      <th>0</th>\n",
       "      <td>1</td>\n",
       "      <td>2020-01-02</td>\n",
       "      <td>120</td>\n",
       "    </tr>\n",
       "    <tr>\n",
       "      <th>1</th>\n",
       "      <td>2</td>\n",
       "      <td>2020-01-03</td>\n",
       "      <td>22</td>\n",
       "    </tr>\n",
       "    <tr>\n",
       "      <th>2</th>\n",
       "      <td>7</td>\n",
       "      <td>2020-01-11</td>\n",
       "      <td>232</td>\n",
       "    </tr>\n",
       "    <tr>\n",
       "      <th>3</th>\n",
       "      <td>1</td>\n",
       "      <td>2020-01-04</td>\n",
       "      <td>7</td>\n",
       "    </tr>\n",
       "    <tr>\n",
       "      <th>4</th>\n",
       "      <td>9</td>\n",
       "      <td>2020-01-25</td>\n",
       "      <td>33</td>\n",
       "    </tr>\n",
       "    <tr>\n",
       "      <th>5</th>\n",
       "      <td>9</td>\n",
       "      <td>2020-01-25</td>\n",
       "      <td>66</td>\n",
       "    </tr>\n",
       "    <tr>\n",
       "      <th>6</th>\n",
       "      <td>8</td>\n",
       "      <td>2020-01-28</td>\n",
       "      <td>1</td>\n",
       "    </tr>\n",
       "    <tr>\n",
       "      <th>7</th>\n",
       "      <td>9</td>\n",
       "      <td>2020-01-25</td>\n",
       "      <td>99</td>\n",
       "    </tr>\n",
       "  </tbody>\n",
       "</table>\n",
       "</div>"
      ],
      "text/plain": [
       "   user_id transaction_date  amount\n",
       "0        1       2020-01-02     120\n",
       "1        2       2020-01-03      22\n",
       "2        7       2020-01-11     232\n",
       "3        1       2020-01-04       7\n",
       "4        9       2020-01-25      33\n",
       "5        9       2020-01-25      66\n",
       "6        8       2020-01-28       1\n",
       "7        9       2020-01-25      99"
      ]
     },
     "execution_count": 5,
     "metadata": {},
     "output_type": "execute_result"
    }
   ],
   "source": [
    "transactions_df"
   ]
  },
  {
   "cell_type": "code",
   "execution_count": 6,
   "metadata": {},
   "outputs": [],
   "source": [
    "query = \"\"\"\n",
    "    select\n",
    "        v.user_id,\n",
    "        v.visit_date,\n",
    "        t.amount\n",
    "    from Visits v\n",
    "    left join Transactions t on v.user_id = t.user_id and v.visit_date = t.transaction_date\n",
    "    order by v.user_id asc, v.visit_date asc\n",
    "\n",
    "\"\"\""
   ]
  },
  {
   "cell_type": "code",
   "execution_count": 7,
   "metadata": {},
   "outputs": [
    {
     "name": "stderr",
     "output_type": "stream",
     "text": [
      "                                                                                \r"
     ]
    },
    {
     "name": "stdout",
     "output_type": "stream",
     "text": [
      "+-------+-------------------+------+\n",
      "|user_id|         visit_date|amount|\n",
      "+-------+-------------------+------+\n",
      "|      1|2020-01-01 00:00:00|  NULL|\n",
      "|      1|2020-01-02 00:00:00|   120|\n",
      "|      1|2020-01-04 00:00:00|     7|\n",
      "|      2|2020-01-02 00:00:00|  NULL|\n",
      "|      2|2020-01-03 00:00:00|    22|\n",
      "|      7|2020-01-11 00:00:00|   232|\n",
      "|      8|2020-01-28 00:00:00|     1|\n",
      "|      9|2020-01-25 00:00:00|    99|\n",
      "|      9|2020-01-25 00:00:00|    66|\n",
      "|      9|2020-01-25 00:00:00|    33|\n",
      "|     12|2020-01-01 00:00:00|  NULL|\n",
      "|     19|2020-01-03 00:00:00|  NULL|\n",
      "+-------+-------------------+------+\n",
      "\n"
     ]
    }
   ],
   "source": [
    "spark.sql(query).show()"
   ]
  },
  {
   "cell_type": "code",
   "execution_count": 10,
   "metadata": {},
   "outputs": [],
   "source": [
    "query_1 = f\"\"\"\n",
    "\n",
    "    select\n",
    "        user_id,\n",
    "        visit_date,\n",
    "        sum(\n",
    "            case \n",
    "                when amount is null then 0\n",
    "                else 1\n",
    "            end\n",
    "        ) as total_transaction\n",
    "    from ({query})\n",
    "    group by user_id, visit_date\n",
    "    order by user_id, visit_date\n",
    "\"\"\""
   ]
  },
  {
   "cell_type": "code",
   "execution_count": 11,
   "metadata": {},
   "outputs": [
    {
     "name": "stdout",
     "output_type": "stream",
     "text": [
      "+-------+-------------------+-----------------+\n",
      "|user_id|         visit_date|total_transaction|\n",
      "+-------+-------------------+-----------------+\n",
      "|      1|2020-01-01 00:00:00|                0|\n",
      "|      1|2020-01-02 00:00:00|                1|\n",
      "|      1|2020-01-04 00:00:00|                1|\n",
      "|      2|2020-01-02 00:00:00|                0|\n",
      "|      2|2020-01-03 00:00:00|                1|\n",
      "|      7|2020-01-11 00:00:00|                1|\n",
      "|      8|2020-01-28 00:00:00|                1|\n",
      "|      9|2020-01-25 00:00:00|                3|\n",
      "|     12|2020-01-01 00:00:00|                0|\n",
      "|     19|2020-01-03 00:00:00|                0|\n",
      "+-------+-------------------+-----------------+\n",
      "\n"
     ]
    }
   ],
   "source": [
    "spark.sql(query_1).show()"
   ]
  },
  {
   "cell_type": "code",
   "execution_count": 18,
   "metadata": {},
   "outputs": [],
   "source": [
    "query_2 = f\"\"\"\n",
    "\n",
    "    with t as (\n",
    "        select\n",
    "            total_transaction as transactions_count,\n",
    "            count(distinct user_id, visit_date) as visits_count\n",
    "        from ({query_1})\n",
    "        group by total_transaction\n",
    "        order by total_transaction asc\n",
    "    )\n",
    "    \n",
    "    select\n",
    "        k.transactions_count,\n",
    "        ifnull(t.visits_count, 0)\n",
    "    from\n",
    "        (select explode(sequence(0, (select max(transactions_count) from t))) as transactions_count) as k\n",
    "        left join t on k.transactions_count = t.transactions_count\n",
    "    order by k.transactions_count asc\n",
    "\"\"\""
   ]
  },
  {
   "cell_type": "code",
   "execution_count": 19,
   "metadata": {},
   "outputs": [
    {
     "name": "stdout",
     "output_type": "stream",
     "text": [
      "+------------------+-----------------------+\n",
      "|transactions_count|ifnull(visits_count, 0)|\n",
      "+------------------+-----------------------+\n",
      "|                 0|                      4|\n",
      "|                 1|                      5|\n",
      "|                 2|                      0|\n",
      "|                 3|                      1|\n",
      "+------------------+-----------------------+\n",
      "\n"
     ]
    }
   ],
   "source": [
    "spark.sql(query_2).show()"
   ]
  }
 ],
 "metadata": {
  "kernelspec": {
   "display_name": "venv",
   "language": "python",
   "name": "python3"
  },
  "language_info": {
   "codemirror_mode": {
    "name": "ipython",
    "version": 3
   },
   "file_extension": ".py",
   "mimetype": "text/x-python",
   "name": "python",
   "nbconvert_exporter": "python",
   "pygments_lexer": "ipython3",
   "version": "3.11.8"
  }
 },
 "nbformat": 4,
 "nbformat_minor": 2
}
